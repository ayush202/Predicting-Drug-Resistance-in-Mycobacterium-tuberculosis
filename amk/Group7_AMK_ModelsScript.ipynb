{
  "nbformat": 4,
  "nbformat_minor": 0,
  "metadata": {
    "kernelspec": {
      "display_name": "Python 3",
      "language": "python",
      "name": "python3"
    },
    "language_info": {
      "codemirror_mode": {
        "name": "ipython",
        "version": 3
      },
      "file_extension": ".py",
      "mimetype": "text/x-python",
      "name": "python",
      "nbconvert_exporter": "python",
      "pygments_lexer": "ipython3",
      "version": "3.8.3"
    },
    "colab": {
      "name": "Group7_AMK_ModelsScript.ipynb",
      "provenance": [],
      "collapsed_sections": []
    }
  },
  "cells": [
    {
      "cell_type": "code",
      "metadata": {
        "id": "Zlr1Ml7-50HT"
      },
      "source": [
        "import csv\n",
        "import pandas as pd\n",
        "import numpy as np\n",
        "from sklearn.svm import SVC\n",
        "from sklearn.ensemble import RandomForestClassifier\n",
        "from sklearn.model_selection import train_test_split\n",
        "from sklearn.metrics import classification_report, confusion_matrix\n",
        "import matplotlib.pyplot as plt\n",
        "from numpy import nan\n",
        "from sklearn.experimental import enable_iterative_imputer\n",
        "from sklearn.impute import IterativeImputer\n",
        "from sklearn.neighbors import KNeighborsRegressor\n",
        "from sklearn.ensemble import AdaBoostClassifier\n",
        "from sklearn import metrics\n",
        "import xgboost as xgb\n",
        "from sklearn.metrics import classification_report, confusion_matrix, roc_auc_score\n",
        "from sklearn.utils import resample\n",
        "plt.style.use('classic')\n",
        "%matplotlib inline\n",
        "pd.set_option('display.max_rows', None)"
      ],
      "execution_count": null,
      "outputs": []
    },
    {
      "cell_type": "code",
      "metadata": {
        "id": "dGAohF1G50HZ"
      },
      "source": [
        "df_train1 = pd.read_csv('sample_data/X_trainData_1.csv')\n",
        "df_train2 = pd.read_csv('sample_data/Y_trainData_1.csv')\n",
        "df_test = pd.read_csv('sample_data/X_testData_1.csv')\n",
        "df_test = df_test.loc[:, df_test.columns != 'ID']"
      ],
      "execution_count": null,
      "outputs": []
    },
    {
      "cell_type": "code",
      "metadata": {
        "id": "yNqVYpPJ50He"
      },
      "source": [
        "#temp = df_train1.isin([0]).sum(axis=0)\n",
        "#temp"
      ],
      "execution_count": null,
      "outputs": []
    },
    {
      "cell_type": "code",
      "metadata": {
        "id": "By-8UzJ750Hi",
        "outputId": "3850b1e6-2143-4d66-e8e5-f8f642175f9b",
        "colab": {
          "base_uri": "https://localhost:8080/",
          "height": 70
        }
      },
      "source": [
        "#output = df_train2.drop_duplicates()\n",
        "#output.groupby('Unnamed: 0').size()\n",
        "print(df_train1.shape)\n",
        "print(df_train2.shape)\n",
        "print(df_test.shape)"
      ],
      "execution_count": null,
      "outputs": [
        {
          "output_type": "stream",
          "text": [
            "(3393, 222)\n",
            "(3393, 11)\n",
            "(1000, 222)\n"
          ],
          "name": "stdout"
        }
      ]
    },
    {
      "cell_type": "code",
      "metadata": {
        "id": "m4yb323x50Hl",
        "outputId": "0e6bc6d8-715b-4b14-cc45-d2874abedeeb",
        "colab": {
          "base_uri": "https://localhost:8080/",
          "height": 52
        }
      },
      "source": [
        "res = pd.concat([df_train1, df_train2], axis=1)\n",
        "res = res[res.AMK!= -1]\n",
        "# res2= res[res.AMK==1]\n",
        "# res3=res[res.AMK==0]\n",
        "# df_upsampled = resample(res3,replace=True, n_samples=227,random_state=1)\n",
        "res=pd.concat([res2, df_upsampled], axis=0)\n",
        "y = res['AMK']\n",
        "X = res.drop(['AMK'], axis = 1) \n",
        "X = X.drop(['INH'], axis = 1) \n",
        "X = X.drop(['RIF'], axis = 1) \n",
        "X = X.drop(['CIP'], axis = 1) \n",
        "X = X.drop(['PZA'], axis = 1) \n",
        "X = X.drop(['EMB'], axis = 1)\n",
        "X = X.drop(['CAP'], axis = 1)\n",
        "X = X.drop(['STR'], axis = 1)\n",
        "X = X.drop(['OFLX'], axis = 1)\n",
        "X = X.drop(['MOXI'], axis = 1)  \n",
        "X = X.drop(['KAN'], axis = 1)    \n",
        "print(y.shape)\n",
        "print(X.shape)\n",
        "# print(res2.shape)\n",
        "# print(res.shape)\n",
        "# print(X)\n",
        "X_train, X_test, y_train, y_test = train_test_split(X, y, test_size =0.1)"
      ],
      "execution_count": null,
      "outputs": [
        {
          "output_type": "stream",
          "text": [
            "(1354,)\n",
            "(1354, 222)\n"
          ],
          "name": "stdout"
        }
      ]
    },
    {
      "cell_type": "code",
      "metadata": {
        "id": "7F_71SEE50Hr"
      },
      "source": [
        "from sklearn.model_selection import GridSearchCV \n",
        "from sklearn.ensemble import RandomForestRegressor\n",
        "from sklearn.model_selection import RandomizedSearchCV\n",
        "  \n",
        "defining parameter range \n",
        "param_grid = {'C': [0.01,0.1,0.2,1,2,10,4],  \n",
        "              'gamma': [0.1,0.01,1,0.2,0.02,0.3,0.03,2], \n",
        "              'kernel': ['rbf']}  \n",
        "grid = GridSearchCV(SVC(), param_grid, refit = True, verbose = 2,scoring='roc_auc') \n",
        "# # fitting the model for grid search \n",
        "grid.fit(X_train, y_train) \n",
        "print(grid.best_params_) #Use these to train SVM model\n",
        "model = SVC(C=10, kernel='rbf', degree=3, gamma=0.2,probability=True)\n",
        "model.fit(X_train, y_train)\n",
        "y_pred = model.predict_proba(df_test)\n",
        "df = pd.read_csv('sample_data/Y_testData_1_nolabels_AMK.csv')\n",
        "ID = df['ID'].tolist()\n",
        "# print(y_pred.shape)\n",
        "# print(type(y_pred))\n",
        "# print(len(y_pred))"
      ],
      "execution_count": null,
      "outputs": []
    },
    {
      "cell_type": "code",
      "metadata": {
        "id": "lcUO5yuPOPAg",
        "outputId": "c6c82159-c5b4-44f9-b82b-21d1801f9b6f",
        "colab": {
          "base_uri": "https://localhost:8080/",
          "height": 52
        }
      },
      "source": [
        "# Using the random grid cv to search for best hyperparameters\n",
        "# Number of trees in random forest\n",
        "n_estimators = [int(x) for x in np.linspace(start = 200, stop = 2000, num = 50)]\n",
        "# Number of features to consider at every split\n",
        "max_features = ['auto', 'sqrt']\n",
        "# Maximum number of levels in tree\n",
        "max_depth = [int(x) for x in np.linspace(10, 200, num = 15)]\n",
        "max_depth.append(None)\n",
        "# Minimum number of samples required to split a node\n",
        "min_samples_split = [1, 2, 5, 10]\n",
        "# Minimum number of samples required at each leaf node\n",
        "min_samples_leaf = [1, 2, 4, 5]\n",
        "# Method of selecting samples for training each tree\n",
        "bootstrap = [True, False]\n",
        "random_grid = {'n_estimators': n_estimators,\n",
        "               'max_features': max_features,\n",
        "               'max_depth': max_depth,\n",
        "               'min_samples_split': min_samples_split,\n",
        "               'min_samples_leaf': min_samples_leaf,\n",
        "               'bootstrap': bootstrap}\n",
        "# Creating the base model to tune\n",
        "rf = RandomForestRegressor()\n",
        "# Using 3 fold cross validation, \n",
        "rf_random = RandomizedSearchCV(estimator = rf, param_distributions = random_grid, n_iter = 100, cv = 4, verbose=2, n_jobs = -1)\n",
        "# Fit the random search model\n",
        "rf_random.fit(X_train, y_train)\n",
        "print(rf_random.best_params_) #Use these to train the next model\n",
        "model = RandomForestClassifier(n_estimators=1008, criterion='gini', max_depth=23, max_features='sqrt',min_samples_split=2, min_samples_leaf=1,bootstrap=False)\n",
        "model.fit(X_train, y_train)\n",
        "print(best_params)\n",
        "y_pred = model.predict_proba(df_test)\n",
        "df = pd.read_csv('sample_data/Y_testData_1_nolabels_AMK.csv')\n",
        "ID = df['ID'].tolist()\n",
        "print(y_pred.shape)"
      ],
      "execution_count": null,
      "outputs": [
        {
          "output_type": "stream",
          "text": [
            "{'learning_rate': 0.3, 'max_delta_step': 1, 'max_depth': 3, 'min_child_weight': 1, 'subsample': 0.9}\n",
            "(1000, 2)\n"
          ],
          "name": "stdout"
        }
      ]
    },
    {
      "cell_type": "code",
      "metadata": {
        "id": "pwOr4KzJINg6",
        "outputId": "f91e18dc-1c0d-4e7d-d4e5-e034e3423166",
        "colab": {
          "base_uri": "https://localhost:8080/",
          "height": 35
        }
      },
      "source": [
        "model = xgb.XGBClassifier(learning_rate=0.27,gamma=0.06,max_depth=5,min_child_weight = 1, eval_metric='auc', subsample=0.98,scale_pos_weight=1.47,objective='binary:logistic')\n",
        "cv_params = {'max_depth': [3,4,5,6,10], 'min_child_weight': [1,2,3,4], 'subsample': [0.8,0.9,1], 'max_delta_step': [0,1,2,4], 'learning_rate':  [0.1, 0.15, 0.2, 0.25, 0.3]}  \n",
        "gscv = GridSearchCV(xgb.XGBClassifier(), cv_params, scoring = 'roc_auc', cv = 5)#running grid search cv on model \n",
        "gscv.fit(X_train, y_train)#fitting model\n",
        "# gscv.grid_scores_#displaying scores\n",
        "best_params= gscv.best_params_#Use these to train the XGB model\n",
        "model = xgb.XGBClassifier(learning_rate=0.3,max_depth=6,min_child_weight =1, eval_metric='auc',max_delta_step=1)\n",
        "model.fit(X_train, y_train)\n",
        "y_pred = model.predict_proba(df_test)\n",
        "df = pd.read_csv('sample_data/Y_testData_1_nolabels_AMK.csv')\n",
        "ID = df['ID'].tolist()\n",
        "print(y_pred.shape)"
      ],
      "execution_count": null,
      "outputs": [
        {
          "output_type": "stream",
          "text": [
            "(1000, 2)\n"
          ],
          "name": "stdout"
        }
      ]
    },
    {
      "cell_type": "code",
      "metadata": {
        "id": "b89En2Hf50Hu",
        "outputId": "ca707de1-7dda-484c-ba1e-91bfc9679085",
        "colab": {
          "base_uri": "https://localhost:8080/",
          "height": 230
        }
      },
      "source": [
        "li_id = []\n",
        "li_val = []\n",
        "for i in ID:\n",
        "    # print(i, y_pred[i-1])\n",
        "    li_id.append(i)\n",
        "    li_val.append((y_pred[i-1][1]))\n",
        "csv = pd.DataFrame({'ID': li_id, 'AMK' :li_val})\n",
        "csv.to_csv('AMK-submit.csv', index=False, header=True) \n",
        "\n",
        "y_pred = model.predict(X_test)\n",
        "\n",
        "print(confusion_matrix(y_test, y_pred))\n",
        "print(classification_report(y_test, y_pred)) \n",
        "print(roc_auc_score(y_test, y_pred))  "
      ],
      "execution_count": null,
      "outputs": [
        {
          "output_type": "stream",
          "text": [
            "[[ 18   3]\n",
            " [  0 115]]\n",
            "              precision    recall  f1-score   support\n",
            "\n",
            "           0       1.00      0.86      0.92        21\n",
            "           1       0.97      1.00      0.99       115\n",
            "\n",
            "    accuracy                           0.98       136\n",
            "   macro avg       0.99      0.93      0.96       136\n",
            "weighted avg       0.98      0.98      0.98       136\n",
            "\n",
            "0.9285714285714286\n"
          ],
          "name": "stdout"
        }
      ]
    },
    {
      "cell_type": "code",
      "metadata": {
        "id": "XmIK8KQW50Hw"
      },
      "source": [
        ""
      ],
      "execution_count": null,
      "outputs": []
    }
  ]
}