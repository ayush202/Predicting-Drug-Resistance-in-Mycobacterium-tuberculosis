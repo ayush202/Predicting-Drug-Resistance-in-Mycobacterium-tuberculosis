{
 "cells": [
  {
   "cell_type": "code",
   "execution_count": null,
   "metadata": {
    "id": "I2XguTXUSdZ_"
   },
   "outputs": [],
   "source": [
    "#!pip install -q kaggle"
   ]
  },
  {
   "cell_type": "code",
   "execution_count": null,
   "metadata": {
    "id": "vqbnmIRPb5-T"
   },
   "outputs": [],
   "source": [
    "'''from google.colab import files\n",
    "files.upload()'''"
   ]
  },
  {
   "cell_type": "code",
   "execution_count": null,
   "metadata": {
    "colab": {
     "base_uri": "https://localhost:8080/",
     "height": 251
    },
    "id": "t2AswRGUcT5S",
    "outputId": "8f2b684b-d7f8-436a-b943-a044ee0a7e77"
   },
   "outputs": [
    {
     "name": "stdout",
     "output_type": "stream",
     "text": [
      "Warning: Looks like you're using an outdated API Version, please consider updating (server 1.5.6 / client 1.5.4)\n",
      "Downloading X_trainData_1.csv.zip to /content\n",
      "  0% 0.00/74.1k [00:00<?, ?B/s]\n",
      "100% 74.1k/74.1k [00:00<00:00, 28.7MB/s]\n",
      "Downloading X_testData_1.csv to /content\n",
      "  0% 0.00/443k [00:00<?, ?B/s]\n",
      "100% 443k/443k [00:00<00:00, 60.7MB/s]\n",
      "Downloading Y_trainData_1.csv to /content\n",
      "  0% 0.00/91.0k [00:00<?, ?B/s]\n",
      "100% 91.0k/91.0k [00:00<00:00, 81.3MB/s]\n",
      "Downloading Y_testData_1_nolabels_CAP.csv to /content\n",
      "  0% 0.00/2.84k [00:00<?, ?B/s]\n",
      "100% 2.84k/2.84k [00:00<00:00, 2.92MB/s]\n"
     ]
    }
   ],
   "source": [
    "'''!mkdir ~/.kaggle\n",
    "!cp kaggle.json ~/.kaggle/\n",
    "!chmod 600 ~/.kaggle/kaggle.json\n",
    "!rm kaggle.json\n",
    "!kaggle competitions download -c tuberculosis-drug-resistance-prediction-cap'''"
   ]
  },
  {
   "cell_type": "code",
   "execution_count": null,
   "metadata": {
    "colab": {
     "base_uri": "https://localhost:8080/",
     "height": 53
    },
    "id": "4PiS3HAHexG3",
    "outputId": "53093789-c976-46f6-9cf8-7901cb819821"
   },
   "outputs": [
    {
     "name": "stdout",
     "output_type": "stream",
     "text": [
      "Archive:  ./X_trainData_1.csv.zip\n",
      "  inflating: X_trainData_1.csv       \n"
     ]
    }
   ],
   "source": [
    "'''!unzip ./X_trainData_1.csv.zip\n",
    "!rm ./X_trainData_1.csv.zip'''"
   ]
  },
  {
   "cell_type": "code",
   "execution_count": null,
   "metadata": {
    "id": "CZFyMb5vUJ-B"
   },
   "outputs": [],
   "source": [
    "import pandas as pd\n",
    "df = pd.read_csv('X_trainData_1.csv')\n",
    "#df"
   ]
  },
  {
   "cell_type": "code",
   "execution_count": null,
   "metadata": {
    "id": "DHB7ig7hUgIP"
   },
   "outputs": [],
   "source": [
    "df1 = pd.read_csv('Y_trainData_1.csv')\n",
    "#df1"
   ]
  },
  {
   "cell_type": "code",
   "execution_count": null,
   "metadata": {
    "id": "1w_IZiz9YU81"
   },
   "outputs": [],
   "source": [
    "for i in df1.columns:\n",
    "  print(df1[i].value_counts())"
   ]
  },
  {
   "cell_type": "code",
   "execution_count": null,
   "metadata": {
    "colab": {
     "base_uri": "https://localhost:8080/",
     "height": 35
    },
    "id": "RB_ID0uF5OWA",
    "outputId": "927e99cd-a40c-4c4a-b404-1636b8ee2f98"
   },
   "outputs": [
    {
     "name": "stdout",
     "output_type": "stream",
     "text": [
      "2054\n"
     ]
    }
   ],
   "source": [
    "df = pd.read_csv('X_trainData_1.csv')\n",
    "df1 = pd.read_csv('Y_trainData_1.csv')\n",
    "\n",
    "df.drop('SNP_CN_2714366_C967A_V323L_eis',axis=1,inplace=True)\n",
    "df.drop('SNP_I_2713795_C329T_inter_Rv2415c_eis',axis=1,inplace=True)\n",
    "df.drop('SNP_I_2713872_C252A_inter_Rv2415c_eis',axis=1,inplace=True)\n",
    "count=0\n",
    "for ind in df1.index:\n",
    "  x = df1['CAP'][ind]\n",
    "  if x == -1:\n",
    "    count+=1\n",
    "    df.drop(index=ind,inplace=True)\n",
    "    df1.drop(index=ind,inplace=True)\n",
    "print(count)\n",
    "df['CAP'] = df1['CAP']\n",
    "\n"
   ]
  },
  {
   "cell_type": "code",
   "execution_count": null,
   "metadata": {
    "id": "2JOrk4jV8Ksh"
   },
   "outputs": [],
   "source": [
    "## Correlation\n",
    "#Trying to find the correlation between the feature columns and the target variable for Dimensionality Reduction.Didn't workout\n",
    "'''\n",
    "import seaborn as sns\n",
    "import matplotlib.pyplot as plt\n",
    "#get correlations of each features in dataset\n",
    "corrmat = df.corr()\n",
    "top_corr_features = corrmat.index\n",
    "plt.figure(figsize=(20,20))\n",
    "#plot heat map\n",
    "g=sns.heatmap(df[top_corr_features].corr(),annot=True,cmap=\"RdYlGn\")\n",
    "correlation = corrmat['CAP'].sort_values()\n",
    "correlation = correlation.iloc[:10]\n",
    "df = df.drop(columns=correlation.index,axis=1)'''"
   ]
  },
  {
   "cell_type": "code",
   "execution_count": null,
   "metadata": {
    "id": "V6SCqq-EmPg1"
   },
   "outputs": [],
   "source": [
    "from sklearn.linear_model import LogisticRegression\n",
    "from sklearn.svm import SVC\n",
    "from sklearn.ensemble import RandomForestClassifier\n",
    "from sklearn.tree import DecisionTreeClassifier\n",
    "from xgboost import XGBClassifier\n",
    "from sklearn.model_selection import StratifiedShuffleSplit,RandomizedSearchCV,GridSearchCV\n",
    "from sklearn.metrics import classification_report,confusion_matrix\n",
    "from sklearn.model_selection import cross_val_score\n",
    "from sklearn.neighbors import KNeighborsClassifier\n",
    "from sklearn.naive_bayes import CategoricalNB\n",
    "import numpy as np\n",
    "import pickle"
   ]
  },
  {
   "cell_type": "code",
   "execution_count": null,
   "metadata": {
    "colab": {
     "base_uri": "https://localhost:8080/",
     "height": 35
    },
    "id": "MInWiWmFn_4Z",
    "outputId": "2c148d22-d429-4ff8-a497-c9725ad1e129"
   },
   "outputs": [
    {
     "data": {
      "text/plain": [
       "((1205, 219), (134, 219))"
      ]
     },
     "execution_count": 7,
     "metadata": {
      "tags": []
     },
     "output_type": "execute_result"
    }
   ],
   "source": [
    "ss = StratifiedShuffleSplit(n_splits=1,test_size=0.1,random_state=42)\n",
    "\n",
    "traindata1 = df.drop(columns=['CAP'],axis=1)\n",
    "y1 = df['CAP']\n",
    "\n",
    "for train_index, test_index in ss.split(traindata1,y1):\n",
    "  #print(\"TRAIN:\", train_index, \"TEST:\", test_index)\n",
    "  X_train, X_test = traindata1.iloc[train_index], traindata1.iloc[test_index]\n",
    "  y_train, y_test = y1.iloc[train_index], y1.iloc[test_index]\n",
    "\n",
    "\n",
    "X_train.shape,X_test.shape"
   ]
  },
  {
   "cell_type": "code",
   "execution_count": null,
   "metadata": {
    "id": "AiMmHrsRS8wM"
   },
   "outputs": [],
   "source": [
    "## Hyper Parameter Optimization\n",
    "\n",
    "params={\n",
    " \"learning_rate\"    : [0.01,0.03,0.05, 0.10, 0.15, 0.20, 0.25, 0.30,0.35,0.4] ,\n",
    " \"max_depth\"        : [ 6,8, 10, 12,14, 15,16],\n",
    " \"min_child_weight\" : [ 1, 3, 5, 7 ],\n",
    " \"gamma\"            : [ 0.0, 0.1, 0.2 , 0.3, 0.4 ],\n",
    " \"colsample_bytree\" : [ 0.3, 0.4, 0.5 , 0.7 ],\n",
    " 'n_estimators'     : [50,60,70,80,85,90,100,110,120,150,170,190,200,250,300,350,370,400]   \n",
    "}\n",
    "params1 = {\n",
    "    'C' :[0.1,0.2,0.3,0.4,0.5,0.6,0.7,0.8,1,1,5,1.6,1.7,1.9,2,2.2,2.4],\n",
    "   'kernel' : ['rbf','linear'],\n",
    "   'degree':[1,2,3,5,6],\n",
    "    'class_weight':['balanced',''],\n",
    "  'decision_function_shape':['ovo', 'ovr']\n",
    "}\n",
    "params2 = {\n",
    "    'C' :[0.1,0.2,0.3,0.4,0.5,0.6,0.7,0.8,1,3,1,5,1.6,1.7,1.9,2,2.2],\n",
    "    'class_weight':['balanced',''],\n",
    "    'solver':['newton-cg', 'liblinear', 'sag', 'saga'],\n",
    "    'max_iter':[20,40,60,80,100,120,140,180,200,230,250,270,300]\n",
    "}\n",
    "params3 = {\n",
    " \"max_depth\"        : [ 3, 4, 5, 6, 8, 10, 12, 15],\n",
    " \"min_samples_split\" : [ 1,2, 3,4, 5,6, 7 ],\n",
    " \"max_features\" : [ 'auto','sqrt','log2' ],\n",
    " 'n_estimators'     : [50,60,70,80,85,90,100,110,120,150,170,190,200,250,300,350]   \n",
    "}"
   ]
  },
  {
   "cell_type": "code",
   "execution_count": null,
   "metadata": {
    "id": "ReVqN8LaTA09"
   },
   "outputs": [],
   "source": [
    "classifier= SVC()\n",
    "random_search=RandomizedSearchCV(classifier,param_distributions=params2,n_iter=25,scoring='roc_auc'\n",
    "                                 ,n_jobs=-1,cv=2,verbose=3)\n",
    "\n",
    "grid_search=GridSearchCV(classifier,param_grid=params1,scoring='roc_auc',\n",
    "                                 n_jobs=-1,cv=2,verbose=3)"
   ]
  },
  {
   "cell_type": "code",
   "execution_count": null,
   "metadata": {
    "id": "1xZ5VWhMVU_h"
   },
   "outputs": [],
   "source": [
    "grid_search.fit(X_train,y_train)"
   ]
  },
  {
   "cell_type": "code",
   "execution_count": null,
   "metadata": {
    "id": "Vc9Xb2zXV8Zg"
   },
   "outputs": [],
   "source": [
    "print(grid_search.best_estimator_)\n",
    "grid_search.best_score_"
   ]
  },
  {
   "cell_type": "code",
   "execution_count": null,
   "metadata": {
    "colab": {
     "base_uri": "https://localhost:8080/",
     "height": 233
    },
    "id": "jvbmdY3Ts5VM",
    "outputId": "0ab6c3f6-8b97-4699-9edc-82e6669bdac5"
   },
   "outputs": [
    {
     "name": "stdout",
     "output_type": "stream",
     "text": [
      "0.8582089552238806\n",
      "[[52  7]\n",
      " [12 63]]\n",
      "              precision    recall  f1-score   support\n",
      "\n",
      "           0       0.81      0.88      0.85        59\n",
      "           1       0.90      0.84      0.87        75\n",
      "\n",
      "    accuracy                           0.86       134\n",
      "   macro avg       0.86      0.86      0.86       134\n",
      "weighted avg       0.86      0.86      0.86       134\n",
      "\n"
     ]
    }
   ],
   "source": [
    "lr = LogisticRegression(C=0.3, class_weight='balanced', dual=False, fit_intercept=True,\n",
    "                   intercept_scaling=1, l1_ratio=None, max_iter=250,\n",
    "                   multi_class='auto', n_jobs=None, penalty='l2',\n",
    "                   random_state=None, solver='saga', tol=0.0001, verbose=0,\n",
    "                   warm_start=False)\n",
    "\n",
    "lr.fit(X_train, y_train)\n",
    "print(lr.score(X_test, y_test))\n",
    "\n",
    "y_pred = lr.predict(X_test)\n",
    "print(confusion_matrix(y_test,y_pred))\n",
    "print(classification_report(y_test,y_pred))"
   ]
  },
  {
   "cell_type": "code",
   "execution_count": null,
   "metadata": {
    "colab": {
     "base_uri": "https://localhost:8080/",
     "height": 233
    },
    "id": "8mgkZJjGtGC4",
    "outputId": "6c2800d0-aac4-4b82-8abe-d8aff87f4d10"
   },
   "outputs": [
    {
     "name": "stdout",
     "output_type": "stream",
     "text": [
      "0.9253731343283582\n",
      "[[57  2]\n",
      " [ 8 67]]\n",
      "              precision    recall  f1-score   support\n",
      "\n",
      "           0       0.88      0.97      0.92        59\n",
      "           1       0.97      0.89      0.93        75\n",
      "\n",
      "    accuracy                           0.93       134\n",
      "   macro avg       0.92      0.93      0.92       134\n",
      "weighted avg       0.93      0.93      0.93       134\n",
      "\n"
     ]
    }
   ],
   "source": [
    "svm = SVC(gamma='scale',C=1.7,kernel='rbf',class_weight='balanced',probability=True)\n",
    "\n",
    "\n",
    "svm.fit(X_train, y_train)\n",
    "print(svm.score(X_test, y_test))\n",
    "\n",
    "y_pred = svm.predict(X_test)\n",
    "print(confusion_matrix(y_test,y_pred))\n",
    "print(classification_report(y_test,y_pred))"
   ]
  },
  {
   "cell_type": "code",
   "execution_count": null,
   "metadata": {
    "colab": {
     "base_uri": "https://localhost:8080/",
     "height": 233
    },
    "id": "U4ONxOlXtLXj",
    "outputId": "b9faf5b3-60eb-4ad8-b20c-16039d15e996"
   },
   "outputs": [
    {
     "name": "stdout",
     "output_type": "stream",
     "text": [
      "0.9104477611940298\n",
      "[[54  5]\n",
      " [ 7 68]]\n",
      "              precision    recall  f1-score   support\n",
      "\n",
      "           0       0.89      0.92      0.90        59\n",
      "           1       0.93      0.91      0.92        75\n",
      "\n",
      "    accuracy                           0.91       134\n",
      "   macro avg       0.91      0.91      0.91       134\n",
      "weighted avg       0.91      0.91      0.91       134\n",
      "\n"
     ]
    }
   ],
   "source": [
    "rf = RandomForestClassifier(n_estimators=50,max_depth=14)\n",
    "rf.fit(X_train, y_train)\n",
    "print(rf.score(X_test, y_test))\n",
    "\n",
    "y_pred = rf.predict(X_test)\n",
    "print(confusion_matrix(y_test,y_pred))\n",
    "print(classification_report(y_test,y_pred))"
   ]
  },
  {
   "cell_type": "code",
   "execution_count": null,
   "metadata": {
    "colab": {
     "base_uri": "https://localhost:8080/",
     "height": 251
    },
    "id": "qjVzooRBulxS",
    "outputId": "c518f978-dc43-4049-db14-980b34758ea6"
   },
   "outputs": [
    {
     "name": "stdout",
     "output_type": "stream",
     "text": [
      "0.9800829875518672\n",
      "0.8731343283582089\n",
      "[[48 11]\n",
      " [ 6 69]]\n",
      "              precision    recall  f1-score   support\n",
      "\n",
      "           0       0.89      0.81      0.85        59\n",
      "           1       0.86      0.92      0.89        75\n",
      "\n",
      "    accuracy                           0.87       134\n",
      "   macro avg       0.88      0.87      0.87       134\n",
      "weighted avg       0.87      0.87      0.87       134\n",
      "\n"
     ]
    }
   ],
   "source": [
    "xf = XGBClassifier(base_score=0.5, booster='gbtree', colsample_bylevel=1,\n",
    "              colsample_bynode=1, colsample_bytree=0.5, gamma=0.0, gpu_id=0,\n",
    "              importance_type='gain', interaction_constraints='',\n",
    "              learning_rate=0.05, max_delta_step=0, max_depth=12,\n",
    "              min_child_weight=1, missing=None,\n",
    "              n_estimators=100, n_jobs=0, num_parallel_tree=1, random_state=0,\n",
    "              reg_alpha=0, reg_lambda=1, scale_pos_weight=1, subsample=1,\n",
    "              validate_parameters=1)\n",
    "\n",
    "xf.fit(X_train, y_train)\n",
    "\n",
    "print(xf.score(X_train, y_train))\n",
    "print(xf.score(X_test, y_test))\n",
    "y_pred = xf.predict(X_test)\n",
    "print(confusion_matrix(y_test,y_pred))\n",
    "print(classification_report(y_test,y_pred))"
   ]
  },
  {
   "cell_type": "code",
   "execution_count": null,
   "metadata": {
    "id": "Zl9A62gCDUxx"
   },
   "outputs": [],
   "source": []
  },
  {
   "cell_type": "markdown",
   "metadata": {
    "id": "uakP7SFWHKNp"
   },
   "source": [
    "**Trying Neural Network**"
   ]
  },
  {
   "cell_type": "code",
   "execution_count": null,
   "metadata": {
    "colab": {
     "base_uri": "https://localhost:8080/",
     "height": 35
    },
    "id": "vHcaP6UdHQ5S",
    "outputId": "418e763b-5803-45ba-d194-eb294bd083d1"
   },
   "outputs": [
    {
     "data": {
      "application/vnd.google.colaboratory.intrinsic+json": {
       "type": "string"
      },
      "text/plain": [
       "'2.3.0'"
      ]
     },
     "execution_count": 10,
     "metadata": {
      "tags": []
     },
     "output_type": "execute_result"
    }
   ],
   "source": [
    "import tensorflow as tf\n",
    "from sklearn.metrics import accuracy_score,roc_auc_score\n",
    "from sklearn.utils import class_weight\n",
    "from keras import optimizers\n",
    "tf.__version__\n"
   ]
  },
  {
   "cell_type": "code",
   "execution_count": null,
   "metadata": {
    "colab": {
     "base_uri": "https://localhost:8080/",
     "height": 35
    },
    "id": "ahyHy2YwJPWK",
    "outputId": "84cccf8b-b0ee-4ec4-e885-438e1f6f9e5a"
   },
   "outputs": [
    {
     "data": {
      "text/plain": [
       "(1205, 219)"
      ]
     },
     "execution_count": 11,
     "metadata": {
      "tags": []
     },
     "output_type": "execute_result"
    }
   ],
   "source": [
    "X_train.shape"
   ]
  },
  {
   "cell_type": "code",
   "execution_count": null,
   "metadata": {
    "id": "XpLqbS3yHRyr"
   },
   "outputs": [],
   "source": [
    "model = tf.keras.models.Sequential([\n",
    "tf.keras.layers.InputLayer(input_shape=219),\n",
    "tf.keras.layers.Dense(32,activation='relu'),\n",
    "#tf.keras.layers.Dropout(0.1),\n",
    "tf.keras.layers.Dense(16,activation='relu'),\n",
    "tf.keras.layers.Dense(8,activation='relu'),\n",
    "tf.keras.layers.Dense(4,activation='relu'),\n",
    "tf.keras.layers.Dense(1,activation='sigmoid'),                                  \n",
    "])\n"
   ]
  },
  {
   "cell_type": "code",
   "execution_count": null,
   "metadata": {
    "colab": {
     "base_uri": "https://localhost:8080/",
     "height": 377
    },
    "id": "H4v2gpGZtFni",
    "outputId": "3e777790-ad42-466c-e3cf-1327491aed6e"
   },
   "outputs": [
    {
     "name": "stdout",
     "output_type": "stream",
     "text": [
      "Model: \"sequential_9\"\n",
      "_________________________________________________________________\n",
      "Layer (type)                 Output Shape              Param #   \n",
      "=================================================================\n",
      "dense_45 (Dense)             (None, 32)                7040      \n",
      "_________________________________________________________________\n",
      "dense_46 (Dense)             (None, 16)                528       \n",
      "_________________________________________________________________\n",
      "dense_47 (Dense)             (None, 8)                 136       \n",
      "_________________________________________________________________\n",
      "dense_48 (Dense)             (None, 4)                 36        \n",
      "_________________________________________________________________\n",
      "dense_49 (Dense)             (None, 1)                 5         \n",
      "=================================================================\n",
      "Total params: 7,745\n",
      "Trainable params: 7,745\n",
      "Non-trainable params: 0\n",
      "_________________________________________________________________\n",
      "[1.14109848 0.88995569]\n"
     ]
    },
    {
     "data": {
      "text/plain": [
       "dict"
      ]
     },
     "execution_count": 139,
     "metadata": {
      "tags": []
     },
     "output_type": "execute_result"
    }
   ],
   "source": [
    "model.compile(loss='binary_crossentropy',optimizer=tf.keras.optimizers.Adam(),\n",
    "              )\n",
    "model.summary()\n",
    "weights = class_weight.compute_class_weight('balanced',np.unique(y_train),y_train)\n",
    "print(weights)\n",
    "temp = {0:weights[0],1:weights[1]}\n",
    "type(temp)"
   ]
  },
  {
   "cell_type": "code",
   "execution_count": null,
   "metadata": {
    "colab": {
     "base_uri": "https://localhost:8080/",
     "height": 431
    },
    "id": "I3e6xF0VzIqQ",
    "outputId": "49bb74ae-1985-49d8-d044-b5c35908b3e6"
   },
   "outputs": [
    {
     "name": "stdout",
     "output_type": "stream",
     "text": [
      "Archive:  model_CAP.zip\n",
      "replace model/variables/variables.data-00000-of-00001? [y]es, [n]o, [A]ll, [N]one, [r]ename: A\n",
      "  inflating: model/variables/variables.data-00000-of-00001  \n",
      "  inflating: model/variables/variables.index  \n",
      "  inflating: model/saved_model.pb    \n",
      "Model: \"sequential_6\"\n",
      "_________________________________________________________________\n",
      "Layer (type)                 Output Shape              Param #   \n",
      "=================================================================\n",
      "dense_22 (Dense)             (None, 32)                7040      \n",
      "_________________________________________________________________\n",
      "dense_23 (Dense)             (None, 16)                528       \n",
      "_________________________________________________________________\n",
      "dense_24 (Dense)             (None, 8)                 136       \n",
      "_________________________________________________________________\n",
      "dense_25 (Dense)             (None, 4)                 36        \n",
      "_________________________________________________________________\n",
      "dense_26 (Dense)             (None, 1)                 5         \n",
      "=================================================================\n",
      "Total params: 7,745\n",
      "Trainable params: 7,745\n",
      "Non-trainable params: 0\n",
      "_________________________________________________________________\n"
     ]
    }
   ],
   "source": [
    "#!unzip model_CAP.zip\n",
    "#!rm model_CAP.zip\n",
    "model = tf.keras.models.load_model('./model_CAP/')\n",
    "model.summary()"
   ]
  },
  {
   "cell_type": "code",
   "execution_count": null,
   "metadata": {
    "colab": {
     "base_uri": "https://localhost:8080/",
     "height": 35
    },
    "id": "01IPru6yHSWT",
    "outputId": "c9fdcece-729a-4491-c8d2-5f341be55e12"
   },
   "outputs": [
    {
     "name": "stdout",
     "output_type": "stream",
     "text": [
      "38/38 [==============================] - 0s 5ms/step - loss: 0.0627 - val_loss: 0.3365\n"
     ]
    }
   ],
   "source": [
    "history = model.fit(X_train,y_train,epochs=1,validation_data=(X_test,y_test),class_weight=temp)"
   ]
  },
  {
   "cell_type": "code",
   "execution_count": null,
   "metadata": {
    "colab": {
     "base_uri": "https://localhost:8080/",
     "height": 143
    },
    "id": "X9Lgz7m7gT2w",
    "outputId": "75ae5894-5192-47ce-fbbf-12a319490754"
   },
   "outputs": [
    {
     "name": "stdout",
     "output_type": "stream",
     "text": [
      "INFO:tensorflow:Assets written to: model/assets\n",
      "  adding: model/ (stored 0%)\n",
      "  adding: model/assets/ (stored 0%)\n",
      "  adding: model/variables/ (stored 0%)\n",
      "  adding: model/variables/variables.data-00000-of-00001 (deflated 16%)\n",
      "  adding: model/variables/variables.index (deflated 65%)\n",
      "  adding: model/saved_model.pb (deflated 89%)\n"
     ]
    }
   ],
   "source": [
    "model.save('model_CAP')\n",
    "!zip -r model_CAP.zip ./model_CAP"
   ]
  },
  {
   "cell_type": "code",
   "execution_count": null,
   "metadata": {
    "colab": {
     "base_uri": "https://localhost:8080/",
     "height": 125
    },
    "id": "5siKfRdWNdca",
    "outputId": "ab6fd0c2-2b83-4077-d046-0dae0279f92b"
   },
   "outputs": [
    {
     "name": "stdout",
     "output_type": "stream",
     "text": [
      "(array([0, 1]), array([62, 72]))\n",
      "0.9452282157676348\n",
      "0.8582089552238806\n",
      "[[51  8]\n",
      " [11 64]]\n",
      "0.943954802259887\n"
     ]
    }
   ],
   "source": [
    "preds = model.predict(X_test)\n",
    "preds1 = np.where(preds>0.5,1,0)\n",
    "preds2 = np.where(model.predict(X_train)>0.5,1,0)\n",
    "print(np.unique(preds1,return_counts=True))\n",
    "print(accuracy_score(y_train,preds2))\n",
    "print(accuracy_score(y_test,preds1))\n",
    "print(confusion_matrix(y_test,preds1))\n",
    "print(roc_auc_score(y_test,preds))"
   ]
  },
  {
   "cell_type": "code",
   "execution_count": null,
   "metadata": {
    "colab": {
     "base_uri": "https://localhost:8080/",
     "height": 35
    },
    "id": "LWJ6AMGDNdrr",
    "outputId": "ec7db138-f6c6-4e74-c902-c9623afde99c"
   },
   "outputs": [
    {
     "name": "stdout",
     "output_type": "stream",
     "text": [
      "hello\n"
     ]
    }
   ],
   "source": [
    "print('hello')\n",
    "#!rm -r ./model/\n",
    "#!rm -r ./model1/\n",
    "#!rm ./model.zip"
   ]
  },
  {
   "cell_type": "code",
   "execution_count": null,
   "metadata": {
    "colab": {
     "base_uri": "https://localhost:8080/",
     "height": 35
    },
    "id": "JcVAuEudnwKi",
    "outputId": "812fe20c-64c7-41f4-e85e-8a5591135a9a"
   },
   "outputs": [
    {
     "data": {
      "text/plain": [
       "501"
      ]
     },
     "execution_count": 41,
     "metadata": {
      "tags": []
     },
     "output_type": "execute_result"
    }
   ],
   "source": [
    "X_testdata = pd.read_csv('X_testData_1.csv')\n",
    "Y_testdata_nolabel = pd.read_csv('Y_testData_1_nolabels_CAP.csv')\n",
    "output_id = set(Y_testdata_nolabel['ID'])\n",
    "len(output_id)"
   ]
  },
  {
   "cell_type": "code",
   "execution_count": null,
   "metadata": {
    "id": "qnP-nEN6oAOy"
   },
   "outputs": [],
   "source": [
    "generate_id = X_testdata['ID']\n",
    "X_testdata = X_testdata[X_train.columns]\n",
    "#X_testdata.drop('ID',axis=1,inplace=True)\n",
    "#generate_id\n",
    "#X_testdata"
   ]
  },
  {
   "cell_type": "code",
   "execution_count": null,
   "metadata": {
    "colab": {
     "base_uri": "https://localhost:8080/",
     "height": 233
    },
    "id": "qJeEQ_UXNt0H",
    "outputId": "7acc2ed2-27f0-4935-8a91-8eed7f95c5fe"
   },
   "outputs": [
    {
     "data": {
      "text/plain": [
       "0.973697    22\n",
       "0.970582     9\n",
       "0.977264     7\n",
       "0.962019     5\n",
       "0.973683     4\n",
       "            ..\n",
       "0.520113     1\n",
       "0.983224     1\n",
       "0.964689     1\n",
       "0.937619     1\n",
       "0.867069     1\n",
       "Name: CAP, Length: 407, dtype: int64"
      ]
     },
     "execution_count": 180,
     "metadata": {
      "tags": []
     },
     "output_type": "execute_result"
    }
   ],
   "source": [
    "#Run this to produce output for ML models\n",
    "output_pred = lr.predict_proba(X_testdata)\n",
    "out = pd.DataFrame({'CAP':output_pred[:,1]})\n",
    "out['ID'] = generate_id\n",
    "out = out[['ID','CAP']]\n",
    "#out\n",
    "for ind in out.index:\n",
    "    if out['ID'][ind] not in output_id:\n",
    "        out.drop(ind,inplace=True)\n",
    "out['CAP'].value_counts()"
   ]
  },
  {
   "cell_type": "code",
   "execution_count": null,
   "metadata": {
    "id": "oCRgR-TDOxPG"
   },
   "outputs": [],
   "source": [
    "#Run this to produce output for Neural Network\n",
    "output_pred = model.predict(X_testdata)\n",
    "out = pd.DataFrame({'CAP':output_pred[:,0]})\n",
    "out['ID'] = generate_id\n",
    "out = out[['ID','CAP']]\n",
    "#out\n",
    "for ind in out.index:\n",
    "    if out['ID'][ind] not in output_id:\n",
    "        out.drop(ind,inplace=True)\n",
    "out['CAP'].value_counts()"
   ]
  },
  {
   "cell_type": "code",
   "execution_count": null,
   "metadata": {
    "id": "BKWfseIGoNFd"
   },
   "outputs": [],
   "source": [
    "out.to_csv('Group_7_output.csv',index=None)"
   ]
  }
 ],
 "metadata": {
  "colab": {
   "collapsed_sections": [],
   "name": "Genomics_assignment_CAP.ipynb",
   "provenance": []
  },
  "kernelspec": {
   "display_name": "Python 3",
   "language": "python",
   "name": "python3"
  },
  "language_info": {
   "codemirror_mode": {
    "name": "ipython",
    "version": 3
   },
   "file_extension": ".py",
   "mimetype": "text/x-python",
   "name": "python",
   "nbconvert_exporter": "python",
   "pygments_lexer": "ipython3",
   "version": "3.7.3"
  }
 },
 "nbformat": 4,
 "nbformat_minor": 1
}
