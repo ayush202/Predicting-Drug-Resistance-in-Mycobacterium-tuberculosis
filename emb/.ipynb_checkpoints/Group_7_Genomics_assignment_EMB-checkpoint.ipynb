{
 "cells": [
  {
   "cell_type": "code",
   "execution_count": null,
   "metadata": {
    "id": "I2XguTXUSdZ_"
   },
   "outputs": [],
   "source": [
    "#!pip install -q kaggle"
   ]
  },
  {
   "cell_type": "code",
   "execution_count": null,
   "metadata": {
    "id": "vqbnmIRPb5-T"
   },
   "outputs": [],
   "source": [
    "'''from google.colab import files\n",
    "files.upload()'''"
   ]
  },
  {
   "cell_type": "code",
   "execution_count": null,
   "metadata": {
    "colab": {
     "base_uri": "https://localhost:8080/",
     "height": 271
    },
    "id": "t2AswRGUcT5S",
    "outputId": "7d692e4d-b448-468a-aca4-b5c2defabae2"
   },
   "outputs": [
    {
     "name": "stdout",
     "output_type": "stream",
     "text": [
      "Warning: Looks like you're using an outdated API Version, please consider updating (server 1.5.6 / client 1.5.4)\n",
      "Downloading Y_testData_1_nolabels_EMB.csv to /content\n",
      "  0% 0.00/5.43k [00:00<?, ?B/s]\n",
      "100% 5.43k/5.43k [00:00<00:00, 9.11MB/s]\n",
      "Downloading X_trainData_1.csv.zip to /content\n",
      "  0% 0.00/74.1k [00:00<?, ?B/s]\n",
      "100% 74.1k/74.1k [00:00<00:00, 69.1MB/s]\n",
      "Downloading Y_trainData_1.csv to /content\n",
      "  0% 0.00/91.0k [00:00<?, ?B/s]\n",
      "100% 91.0k/91.0k [00:00<00:00, 28.9MB/s]\n",
      "Downloading X_testData_1.csv to /content\n",
      "  0% 0.00/443k [00:00<?, ?B/s]\n",
      "100% 443k/443k [00:00<00:00, 61.8MB/s]\n"
     ]
    }
   ],
   "source": [
    "'''!mkdir ~/.kaggle\n",
    "!cp kaggle.json ~/.kaggle/\n",
    "!chmod 600 ~/.kaggle/kaggle.json\n",
    "!rm kaggle.json\n",
    "!kaggle competitions download -c tuberculosis-drug-resistance-prediction-emb'''"
   ]
  },
  {
   "cell_type": "code",
   "execution_count": null,
   "metadata": {
    "colab": {
     "base_uri": "https://localhost:8080/",
     "height": 53
    },
    "id": "4PiS3HAHexG3",
    "outputId": "d7a4f11a-e2c5-4c95-e758-319cc994c3b2"
   },
   "outputs": [
    {
     "name": "stdout",
     "output_type": "stream",
     "text": [
      "Archive:  ./X_trainData_1.csv.zip\n",
      "  inflating: X_trainData_1.csv       \n"
     ]
    }
   ],
   "source": [
    "'''!unzip ./X_trainData_1.csv.zip\n",
    "!rm ./X_trainData_1.csv.zip'''"
   ]
  },
  {
   "cell_type": "code",
   "execution_count": null,
   "metadata": {
    "id": "CZFyMb5vUJ-B"
   },
   "outputs": [],
   "source": [
    "import pandas as pd\n",
    "df = pd.read_csv('X_trainData_1.csv')\n",
    "#df"
   ]
  },
  {
   "cell_type": "code",
   "execution_count": null,
   "metadata": {
    "id": "DHB7ig7hUgIP"
   },
   "outputs": [],
   "source": [
    "df1 = pd.read_csv('Y_trainData_1.csv')\n",
    "#df1"
   ]
  },
  {
   "cell_type": "code",
   "execution_count": null,
   "metadata": {
    "colab": {
     "base_uri": "https://localhost:8080/",
     "height": 809
    },
    "id": "1w_IZiz9YU81",
    "outputId": "559d2e63-e5e5-4767-b79a-9fe8a26e1d01"
   },
   "outputs": [
    {
     "name": "stdout",
     "output_type": "stream",
     "text": [
      " 1    2057\n",
      " 0    1278\n",
      "-1      58\n",
      "Name: RIF, dtype: int64\n",
      " 1    1832\n",
      " 0    1524\n",
      "-1      37\n",
      "Name: INH, dtype: int64\n",
      " 1    2246\n",
      " 0     695\n",
      "-1     452\n",
      "Name: PZA, dtype: int64\n",
      " 1    2346\n",
      " 0     973\n",
      "-1      74\n",
      "Name: EMB, dtype: int64\n",
      "-1    1312\n",
      " 1    1061\n",
      " 0    1020\n",
      "Name: STR, dtype: int64\n",
      "-1    2214\n",
      " 1     942\n",
      " 0     237\n",
      "Name: CIP, dtype: int64\n",
      "-1    2054\n",
      " 1     752\n",
      " 0     587\n",
      "Name: CAP, dtype: int64\n",
      "-1    2033\n",
      " 1    1127\n",
      " 0     233\n",
      "Name: AMK, dtype: int64\n",
      "-1    2056\n",
      " 1    1070\n",
      " 0     267\n",
      "Name: MOXI, dtype: int64\n",
      "-1    2703\n",
      " 1     603\n",
      " 0      87\n",
      "Name: OFLX, dtype: int64\n",
      "-1    2110\n",
      " 1    1013\n",
      " 0     270\n",
      "Name: KAN, dtype: int64\n"
     ]
    }
   ],
   "source": [
    "for i in df1.columns:\n",
    "  print(df1[i].value_counts())"
   ]
  },
  {
   "cell_type": "code",
   "execution_count": null,
   "metadata": {
    "colab": {
     "base_uri": "https://localhost:8080/",
     "height": 35
    },
    "id": "RB_ID0uF5OWA",
    "outputId": "67243887-99eb-4732-ff19-4a19934985c2"
   },
   "outputs": [
    {
     "name": "stdout",
     "output_type": "stream",
     "text": [
      "74\n"
     ]
    }
   ],
   "source": [
    "df = pd.read_csv('X_trainData_1.csv')\n",
    "df1 = pd.read_csv('Y_trainData_1.csv')\n",
    "\n",
    "df.drop('SNP_CN_2714366_C967A_V323L_eis',axis=1,inplace=True)\n",
    "df.drop('SNP_I_2713795_C329T_inter_Rv2415c_eis',axis=1,inplace=True)\n",
    "df.drop('SNP_I_2713872_C252A_inter_Rv2415c_eis',axis=1,inplace=True)\n",
    "count=0\n",
    "for ind in df1.index:\n",
    "  x = df1['EMB'][ind]\n",
    "  if x == -1:\n",
    "    count+=1\n",
    "    df.drop(index=ind,inplace=True)\n",
    "    df1.drop(index=ind,inplace=True)\n",
    "print(count)\n",
    "df['EMB'] = df1['EMB']\n",
    "\n"
   ]
  },
  {
   "cell_type": "code",
   "execution_count": null,
   "metadata": {
    "id": "V6SCqq-EmPg1"
   },
   "outputs": [],
   "source": [
    "from sklearn.linear_model import LogisticRegression\n",
    "from sklearn.svm import SVC\n",
    "from sklearn.ensemble import RandomForestClassifier\n",
    "from sklearn.tree import DecisionTreeClassifier\n",
    "from xgboost import XGBClassifier\n",
    "from sklearn.model_selection import StratifiedShuffleSplit,RandomizedSearchCV,GridSearchCV\n",
    "from sklearn.metrics import classification_report,confusion_matrix\n",
    "from sklearn.model_selection import cross_val_score\n",
    "from sklearn.neighbors import KNeighborsClassifier\n",
    "from sklearn.naive_bayes import CategoricalNB\n",
    "import numpy as np\n",
    "import pickle"
   ]
  },
  {
   "cell_type": "code",
   "execution_count": null,
   "metadata": {
    "colab": {
     "base_uri": "https://localhost:8080/",
     "height": 35
    },
    "id": "MInWiWmFn_4Z",
    "outputId": "7b32c788-1fe8-4d3f-8420-36eaf4decc3a"
   },
   "outputs": [
    {
     "data": {
      "text/plain": [
       "((2987, 219), (332, 219))"
      ]
     },
     "execution_count": 10,
     "metadata": {
      "tags": []
     },
     "output_type": "execute_result"
    }
   ],
   "source": [
    "ss = StratifiedShuffleSplit(n_splits=1,test_size=0.1,random_state=42)\n",
    "\n",
    "traindata1 = df.drop(columns=['EMB'],axis=1)\n",
    "y1 = df['EMB']\n",
    "\n",
    "for train_index, test_index in ss.split(traindata1,y1):\n",
    "  #print(\"TRAIN:\", train_index, \"TEST:\", test_index)\n",
    "  X_train, X_test = traindata1.iloc[train_index], traindata1.iloc[test_index]\n",
    "  y_train, y_test = y1.iloc[train_index], y1.iloc[test_index]\n",
    "\n",
    "\n",
    "X_train.shape,X_test.shape"
   ]
  },
  {
   "cell_type": "code",
   "execution_count": null,
   "metadata": {
    "colab": {
     "base_uri": "https://localhost:8080/",
     "height": 71
    },
    "id": "HUZHTz5PLUu1",
    "outputId": "ca575be1-4945-4a07-a9ac-4551f5d5ece7"
   },
   "outputs": [
    {
     "data": {
      "text/plain": [
       "1    2111\n",
       "0     876\n",
       "Name: EMB, dtype: int64"
      ]
     },
     "execution_count": 11,
     "metadata": {
      "tags": []
     },
     "output_type": "execute_result"
    }
   ],
   "source": [
    "y_train.value_counts()"
   ]
  },
  {
   "cell_type": "code",
   "execution_count": null,
   "metadata": {
    "id": "AiMmHrsRS8wM"
   },
   "outputs": [],
   "source": [
    "## Hyper Parameter Optimization\n",
    "\n",
    "params={\n",
    " \"learning_rate\"    : [0.01,0.03,0.05, 0.10,0.12, 0.15,0.18, 0.20, 0.25, 0.30,0.35,0.4] ,\n",
    " \"max_depth\"        : [ 6,8, 10, 12,14, 15,16],\n",
    " \"gamma\"            : [ 0.0,0.2,0.4 ],\n",
    " 'n_estimators'     : [50,60,70,80,85,90,100,110,120,150,170,190,200,250,300,350,370,400]   \n",
    "}\n",
    "params1 = {\n",
    "    'C' :[0.1,0.2,0.3,0.4,0.5,0.6,0.7,0.8,1,1,2,1,3,1,5,1.6,1.7,1.9,2,2.2,2.4,2.6,2.8,3,3.2,3.4],\n",
    "   'kernel' : ['rbf','linear'],\n",
    "   'degree':[1,2,3,4,5,6,7,8],\n",
    "    'class_weight':['balanced',''],\n",
    "  'decision_function_shape':['ovo', 'ovr']\n",
    "}\n",
    "params2 = {\n",
    "    'C' :[0.1,0.2,0.3,0.4,0.5,0.6,0.7,0.8,1,1,2,1,3,1,5,1.6,1.7,1.9,2,2.2],\n",
    "    'class_weight':['balanced',''],\n",
    "    'solver':['newton-cg','lbfgs', 'liblinear', 'sag', 'saga'],\n",
    "    'max_iter':[20,40,60,80,100,120,140,180,200,230,250,270,300]\n",
    "}\n",
    "params3 = {\n",
    " \"max_depth\"        : [ 3, 4, 5, 6, 8, 10, 12,14, 15,16,18],\n",
    " \"min_samples_split\" : [ 1,2, 3,4, 5,6, 7 ],\n",
    " \"max_features\" : [ 'auto','sqrt','log2' ],\n",
    " 'n_estimators'     : [50,60,70,80,85,90,100,110,120,150,170,190,200,250,300,350]   \n",
    "}"
   ]
  },
  {
   "cell_type": "code",
   "execution_count": null,
   "metadata": {
    "id": "ReVqN8LaTA09"
   },
   "outputs": [],
   "source": [
    "classifier= RandomForestClassifier(random_state=0)\n",
    "random_search=RandomizedSearchCV(classifier,param_distributions=params,n_iter=25,scoring='roc_auc'\n",
    "                                 ,n_jobs=-1,cv=2,verbose=3)\n",
    "\n",
    "grid_search=GridSearchCV(classifier,param_grid=params3,scoring='roc_auc',\n",
    "                                 n_jobs=-1,cv=2,verbose=3)"
   ]
  },
  {
   "cell_type": "code",
   "execution_count": null,
   "metadata": {
    "colab": {
     "base_uri": "https://localhost:8080/",
     "height": 755
    },
    "id": "1xZ5VWhMVU_h",
    "outputId": "bf4514a2-cc7f-42c6-c1e4-44fa9663e987"
   },
   "outputs": [
    {
     "name": "stdout",
     "output_type": "stream",
     "text": [
      "Fitting 2 folds for each of 3696 candidates, totalling 7392 fits\n"
     ]
    },
    {
     "name": "stderr",
     "output_type": "stream",
     "text": [
      "[Parallel(n_jobs=-1)]: Using backend LokyBackend with 2 concurrent workers.\n",
      "[Parallel(n_jobs=-1)]: Done  28 tasks      | elapsed:    3.1s\n",
      "[Parallel(n_jobs=-1)]: Done 124 tasks      | elapsed:   26.3s\n",
      "[Parallel(n_jobs=-1)]: Done 284 tasks      | elapsed:  1.0min\n",
      "[Parallel(n_jobs=-1)]: Done 508 tasks      | elapsed:  1.9min\n",
      "[Parallel(n_jobs=-1)]: Done 796 tasks      | elapsed:  3.0min\n",
      "[Parallel(n_jobs=-1)]: Done 1148 tasks      | elapsed:  4.4min\n",
      "[Parallel(n_jobs=-1)]: Done 1564 tasks      | elapsed:  6.1min\n",
      "[Parallel(n_jobs=-1)]: Done 2044 tasks      | elapsed:  8.0min\n",
      "[Parallel(n_jobs=-1)]: Done 2588 tasks      | elapsed: 10.3min\n",
      "[Parallel(n_jobs=-1)]: Done 3196 tasks      | elapsed: 12.9min\n",
      "[Parallel(n_jobs=-1)]: Done 3868 tasks      | elapsed: 16.0min\n",
      "[Parallel(n_jobs=-1)]: Done 4604 tasks      | elapsed: 19.4min\n",
      "[Parallel(n_jobs=-1)]: Done 5404 tasks      | elapsed: 23.2min\n",
      "[Parallel(n_jobs=-1)]: Done 6268 tasks      | elapsed: 27.7min\n",
      "[Parallel(n_jobs=-1)]: Done 7196 tasks      | elapsed: 32.3min\n",
      "[Parallel(n_jobs=-1)]: Done 7392 out of 7392 | elapsed: 33.4min finished\n"
     ]
    },
    {
     "data": {
      "text/plain": [
       "GridSearchCV(cv=2, error_score=nan,\n",
       "             estimator=RandomForestClassifier(bootstrap=True, ccp_alpha=0.0,\n",
       "                                              class_weight=None,\n",
       "                                              criterion='gini', max_depth=None,\n",
       "                                              max_features='auto',\n",
       "                                              max_leaf_nodes=None,\n",
       "                                              max_samples=None,\n",
       "                                              min_impurity_decrease=0.0,\n",
       "                                              min_impurity_split=None,\n",
       "                                              min_samples_leaf=1,\n",
       "                                              min_samples_split=2,\n",
       "                                              min_weight_fraction_leaf=0.0,\n",
       "                                              n_estimators=100, n_jobs=None,\n",
       "                                              oob_score=False, random_state=0,\n",
       "                                              verbose=0, warm_start=False),\n",
       "             iid='deprecated', n_jobs=-1,\n",
       "             param_grid={'max_depth': [3, 4, 5, 6, 8, 10, 12, 14, 15, 16, 18],\n",
       "                         'max_features': ['auto', 'sqrt', 'log2'],\n",
       "                         'min_samples_split': [1, 2, 3, 4, 5, 6, 7],\n",
       "                         'n_estimators': [50, 60, 70, 80, 85, 90, 100, 110, 120,\n",
       "                                          150, 170, 190, 200, 250, 300, 350]},\n",
       "             pre_dispatch='2*n_jobs', refit=True, return_train_score=False,\n",
       "             scoring='roc_auc', verbose=3)"
      ]
     },
     "execution_count": 65,
     "metadata": {
      "tags": []
     },
     "output_type": "execute_result"
    }
   ],
   "source": [
    "grid_search.fit(X_train,y_train)"
   ]
  },
  {
   "cell_type": "code",
   "execution_count": null,
   "metadata": {
    "colab": {
     "base_uri": "https://localhost:8080/",
     "height": 179
    },
    "id": "Vc9Xb2zXV8Zg",
    "outputId": "a4ac8d09-561a-4958-e689-906db081d8bf"
   },
   "outputs": [
    {
     "name": "stdout",
     "output_type": "stream",
     "text": [
      "RandomForestClassifier(bootstrap=True, ccp_alpha=0.0, class_weight=None,\n",
      "                       criterion='gini', max_depth=15, max_features='auto',\n",
      "                       max_leaf_nodes=None, max_samples=None,\n",
      "                       min_impurity_decrease=0.0, min_impurity_split=None,\n",
      "                       min_samples_leaf=1, min_samples_split=4,\n",
      "                       min_weight_fraction_leaf=0.0, n_estimators=350,\n",
      "                       n_jobs=None, oob_score=False, random_state=0, verbose=0,\n",
      "                       warm_start=False)\n"
     ]
    },
    {
     "data": {
      "text/plain": [
       "0.9649013691580479"
      ]
     },
     "execution_count": 66,
     "metadata": {
      "tags": []
     },
     "output_type": "execute_result"
    }
   ],
   "source": [
    "print(grid_search.best_estimator_)\n",
    "grid_search.best_score_"
   ]
  },
  {
   "cell_type": "code",
   "execution_count": null,
   "metadata": {
    "colab": {
     "base_uri": "https://localhost:8080/",
     "height": 289
    },
    "id": "jvbmdY3Ts5VM",
    "outputId": "6642bc48-d657-4ef2-f9fa-4357c97fd749"
   },
   "outputs": [
    {
     "name": "stdout",
     "output_type": "stream",
     "text": [
      "0.9216867469879518\n",
      "[[ 92   5]\n",
      " [ 21 214]]\n",
      "              precision    recall  f1-score   support\n",
      "\n",
      "           0       0.81      0.95      0.88        97\n",
      "           1       0.98      0.91      0.94       235\n",
      "\n",
      "    accuracy                           0.92       332\n",
      "   macro avg       0.90      0.93      0.91       332\n",
      "weighted avg       0.93      0.92      0.92       332\n",
      "\n"
     ]
    },
    {
     "name": "stderr",
     "output_type": "stream",
     "text": [
      "/usr/local/lib/python3.6/dist-packages/sklearn/linear_model/_sag.py:330: ConvergenceWarning: The max_iter was reached which means the coef_ did not converge\n",
      "  \"the coef_ did not converge\", ConvergenceWarning)\n"
     ]
    }
   ],
   "source": [
    "lr = LogisticRegression(C=1, class_weight='balanced', dual=False,\n",
    "                   fit_intercept=True, intercept_scaling=1, l1_ratio=None,\n",
    "                   max_iter=20, multi_class='auto', n_jobs=None, penalty='l2',\n",
    "                   random_state=None, solver='sag', tol=0.0001, verbose=0,\n",
    "                   warm_start=False)\n",
    "\n",
    "lr.fit(X_train, y_train)\n",
    "print(lr.score(X_test, y_test))\n",
    "\n",
    "y_pred = lr.predict(X_test)\n",
    "print(confusion_matrix(y_test,y_pred))\n",
    "print(classification_report(y_test,y_pred))"
   ]
  },
  {
   "cell_type": "code",
   "execution_count": null,
   "metadata": {
    "colab": {
     "base_uri": "https://localhost:8080/",
     "height": 233
    },
    "id": "8mgkZJjGtGC4",
    "outputId": "2c159699-99be-4c51-d098-5032edf925c2"
   },
   "outputs": [
    {
     "name": "stdout",
     "output_type": "stream",
     "text": [
      "0.9186746987951807\n",
      "[[ 89   8]\n",
      " [ 19 216]]\n",
      "              precision    recall  f1-score   support\n",
      "\n",
      "           0       0.82      0.92      0.87        97\n",
      "           1       0.96      0.92      0.94       235\n",
      "\n",
      "    accuracy                           0.92       332\n",
      "   macro avg       0.89      0.92      0.90       332\n",
      "weighted avg       0.92      0.92      0.92       332\n",
      "\n"
     ]
    }
   ],
   "source": [
    "svm = SVC(C=2, break_ties=False, cache_size=200, class_weight='balanced', coef0=0.0,\n",
    "    decision_function_shape='ovo', degree=1, gamma='scale', kernel='linear',\n",
    "    max_iter=-1, probability=True, random_state=None, shrinking=True, tol=0.001,\n",
    "    verbose=False)\n",
    "\n",
    "\n",
    "svm.fit(X_train, y_train)\n",
    "print(svm.score(X_test, y_test))\n",
    "\n",
    "y_pred = svm.predict(X_test)\n",
    "print(confusion_matrix(y_test,y_pred))\n",
    "print(classification_report(y_test,y_pred))"
   ]
  },
  {
   "cell_type": "code",
   "execution_count": null,
   "metadata": {
    "colab": {
     "base_uri": "https://localhost:8080/",
     "height": 233
    },
    "id": "U4ONxOlXtLXj",
    "outputId": "e747975d-9a59-4f33-e3c6-76734227f96d"
   },
   "outputs": [
    {
     "name": "stdout",
     "output_type": "stream",
     "text": [
      "0.9216867469879518\n",
      "[[ 90   7]\n",
      " [ 19 216]]\n",
      "              precision    recall  f1-score   support\n",
      "\n",
      "           0       0.83      0.93      0.87        97\n",
      "           1       0.97      0.92      0.94       235\n",
      "\n",
      "    accuracy                           0.92       332\n",
      "   macro avg       0.90      0.92      0.91       332\n",
      "weighted avg       0.93      0.92      0.92       332\n",
      "\n"
     ]
    }
   ],
   "source": [
    "rf = RandomForestClassifier(max_depth=17, max_features='auto',\n",
    "                       max_leaf_nodes=None, max_samples=None,\n",
    "                       min_impurity_decrease=0.0, min_impurity_split=None,\n",
    "                       min_samples_leaf=1, min_samples_split=4,\n",
    "                       min_weight_fraction_leaf=0.0, n_estimators=50,\n",
    "                       n_jobs=None, oob_score=False, random_state=0, verbose=0,\n",
    "                       warm_start=False)\n",
    "\n",
    "rf.fit(X_train, y_train)\n",
    "print(rf.score(X_test, y_test))\n",
    "\n",
    "y_pred = rf.predict(X_test)\n",
    "print(confusion_matrix(y_test,y_pred))\n",
    "print(classification_report(y_test,y_pred))"
   ]
  },
  {
   "cell_type": "code",
   "execution_count": null,
   "metadata": {
    "colab": {
     "base_uri": "https://localhost:8080/",
     "height": 251
    },
    "id": "qjVzooRBulxS",
    "outputId": "0a2420f0-8075-4bdd-ba7d-d7badd38789e"
   },
   "outputs": [
    {
     "name": "stdout",
     "output_type": "stream",
     "text": [
      "0.9762303314362236\n",
      "0.9216867469879518\n",
      "[[ 89   8]\n",
      " [ 18 217]]\n",
      "              precision    recall  f1-score   support\n",
      "\n",
      "           0       0.83      0.92      0.87        97\n",
      "           1       0.96      0.92      0.94       235\n",
      "\n",
      "    accuracy                           0.92       332\n",
      "   macro avg       0.90      0.92      0.91       332\n",
      "weighted avg       0.93      0.92      0.92       332\n",
      "\n"
     ]
    }
   ],
   "source": [
    "xf = XGBClassifier(\n",
    "              learning_rate=0.1, max_delta_step=0, max_depth=6,\n",
    "              n_estimators=130)\n",
    "\n",
    "xf.fit(X_train, y_train)\n",
    "\n",
    "print(xf.score(X_train, y_train))\n",
    "print(xf.score(X_test, y_test))\n",
    "y_pred = xf.predict(X_test)\n",
    "print(confusion_matrix(y_test,y_pred))\n",
    "print(classification_report(y_test,y_pred))"
   ]
  },
  {
   "cell_type": "code",
   "execution_count": null,
   "metadata": {
    "colab": {
     "base_uri": "https://localhost:8080/",
     "height": 53
    },
    "id": "0hu46uk4DIRU",
    "outputId": "6d332700-bc7c-4e23-dad7-95af39b7fdca"
   },
   "outputs": [
    {
     "name": "stdout",
     "output_type": "stream",
     "text": [
      "[0.92562814 0.99240455]\n"
     ]
    },
    {
     "data": {
      "text/plain": [
       "0.9590163435468643"
      ]
     },
     "execution_count": 146,
     "metadata": {
      "tags": []
     },
     "output_type": "execute_result"
    }
   ],
   "source": [
    "\n",
    "score=cross_val_score(xf,traindata1,y1,cv=2,scoring='roc_auc')\n",
    "print(score)\n",
    "score.mean()"
   ]
  },
  {
   "cell_type": "code",
   "execution_count": null,
   "metadata": {
    "colab": {
     "base_uri": "https://localhost:8080/",
     "height": 35
    },
    "id": "Zl9A62gCDUxx",
    "outputId": "82b9d297-a71a-4fda-a5d0-5a31f4a906ae"
   },
   "outputs": [
    {
     "data": {
      "application/vnd.google.colaboratory.intrinsic+json": {
       "type": "string"
      },
      "text/plain": [
       "'2.3.0'"
      ]
     },
     "execution_count": 147,
     "metadata": {
      "tags": []
     },
     "output_type": "execute_result"
    }
   ],
   "source": [
    "import tensorflow as tf\n",
    "from sklearn.metrics import accuracy_score,roc_auc_score\n",
    "from sklearn.utils import class_weight\n",
    "from keras import optimizers\n",
    "tf.__version__\n"
   ]
  },
  {
   "cell_type": "code",
   "execution_count": null,
   "metadata": {
    "colab": {
     "base_uri": "https://localhost:8080/",
     "height": 35
    },
    "id": "eDRUg18CLNnB",
    "outputId": "8d2c29ad-75f1-45cc-f9be-e19d5df9c97a"
   },
   "outputs": [
    {
     "data": {
      "text/plain": [
       "(2987, 219)"
      ]
     },
     "execution_count": 148,
     "metadata": {
      "tags": []
     },
     "output_type": "execute_result"
    }
   ],
   "source": [
    "X_train.shape"
   ]
  },
  {
   "cell_type": "code",
   "execution_count": null,
   "metadata": {
    "id": "qC2Fsjf38wou"
   },
   "outputs": [],
   "source": [
    "!rm -r ./model/\n",
    "!rm ./model.zip"
   ]
  },
  {
   "cell_type": "code",
   "execution_count": null,
   "metadata": {
    "id": "4pl3vjD5LN1-"
   },
   "outputs": [],
   "source": [
    "model = tf.keras.models.Sequential([\n",
    "tf.keras.layers.InputLayer(input_shape=219),\n",
    "tf.keras.layers.Dense(128,activation='relu'),\n",
    "#tf.keras.layers.Dropout(0.05),\n",
    "tf.keras.layers.Dense(16,activation='relu'),\n",
    "#tf.keras.layers.Dense(8,activation='relu'),\n",
    "tf.keras.layers.Dense(4,activation='relu'),\n",
    "tf.keras.layers.Dense(1,activation='sigmoid'),\n",
    "])\n"
   ]
  },
  {
   "cell_type": "code",
   "execution_count": null,
   "metadata": {
    "colab": {
     "base_uri": "https://localhost:8080/",
     "height": 341
    },
    "id": "Rq5_FGMKLOEZ",
    "outputId": "008fdf13-f51d-4ac6-badc-72c84ac0939b"
   },
   "outputs": [
    {
     "name": "stdout",
     "output_type": "stream",
     "text": [
      "Model: \"sequential_1\"\n",
      "_________________________________________________________________\n",
      "Layer (type)                 Output Shape              Param #   \n",
      "=================================================================\n",
      "dense_4 (Dense)              (None, 128)               28160     \n",
      "_________________________________________________________________\n",
      "dense_5 (Dense)              (None, 16)                2064      \n",
      "_________________________________________________________________\n",
      "dense_6 (Dense)              (None, 4)                 68        \n",
      "_________________________________________________________________\n",
      "dense_7 (Dense)              (None, 1)                 5         \n",
      "=================================================================\n",
      "Total params: 30,297\n",
      "Trainable params: 30,297\n",
      "Non-trainable params: 0\n",
      "_________________________________________________________________\n",
      "[1.70490868 0.7074846 ]\n"
     ]
    },
    {
     "data": {
      "text/plain": [
       "dict"
      ]
     },
     "execution_count": 174,
     "metadata": {
      "tags": []
     },
     "output_type": "execute_result"
    }
   ],
   "source": [
    "model.compile(loss='binary_crossentropy',optimizer=tf.keras.optimizers.Adam(),\n",
    "              )\n",
    "model.summary()\n",
    "weights = class_weight.compute_class_weight('balanced',np.unique(y_train),y_train)\n",
    "print(weights)\n",
    "temp = {0:weights[0],1:weights[1]}\n",
    "type(temp)"
   ]
  },
  {
   "cell_type": "code",
   "execution_count": null,
   "metadata": {
    "colab": {
     "base_uri": "https://localhost:8080/",
     "height": 395
    },
    "id": "7a-38rCI7Bf6",
    "outputId": "2b98b56a-6cf6-4a46-f92b-51e085aa755b"
   },
   "outputs": [
    {
     "name": "stdout",
     "output_type": "stream",
     "text": [
      "Archive:  model_EMB.zip\n",
      "replace model/saved_model.pb? [y]es, [n]o, [A]ll, [N]one, [r]ename: A\n",
      "  inflating: model/saved_model.pb    \n",
      "  inflating: model/variables/variables.index  \n",
      "  inflating: model/variables/variables.data-00000-of-00001  \n",
      "Model: \"sequential\"\n",
      "_________________________________________________________________\n",
      "Layer (type)                 Output Shape              Param #   \n",
      "=================================================================\n",
      "dense (Dense)                (None, 128)               28160     \n",
      "_________________________________________________________________\n",
      "dense_1 (Dense)              (None, 16)                2064      \n",
      "_________________________________________________________________\n",
      "dense_2 (Dense)              (None, 4)                 68        \n",
      "_________________________________________________________________\n",
      "dense_3 (Dense)              (None, 1)                 5         \n",
      "=================================================================\n",
      "Total params: 30,297\n",
      "Trainable params: 30,297\n",
      "Non-trainable params: 0\n",
      "_________________________________________________________________\n"
     ]
    }
   ],
   "source": [
    "#!unzip model_EMB.zip\n",
    "#!rm model_EMB.zip\n",
    "model = tf.keras.models.load_model('./model_EMB/')\n",
    "model.summary()"
   ]
  },
  {
   "cell_type": "code",
   "execution_count": null,
   "metadata": {
    "colab": {
     "base_uri": "https://localhost:8080/",
     "height": 35
    },
    "id": "PPiTgJ8LLOPn",
    "outputId": "9c287cef-cc83-4b7c-dec6-d9477c8cc611"
   },
   "outputs": [
    {
     "name": "stdout",
     "output_type": "stream",
     "text": [
      "94/94 [==============================] - 0s 3ms/step - loss: 0.1521 - val_loss: 0.2111\n"
     ]
    }
   ],
   "source": [
    "history = model.fit(X_train,y_train,epochs=1,validation_data=(X_test,y_test),class_weight=temp)"
   ]
  },
  {
   "cell_type": "code",
   "execution_count": null,
   "metadata": {
    "colab": {
     "base_uri": "https://localhost:8080/",
     "height": 271
    },
    "id": "3NMG03I3LOZP",
    "outputId": "8351bcc1-91bc-4b4b-a7fc-7e8b74fdd62f"
   },
   "outputs": [
    {
     "name": "stdout",
     "output_type": "stream",
     "text": [
      "WARNING:tensorflow:From /usr/local/lib/python3.6/dist-packages/tensorflow/python/training/tracking/tracking.py:111: Model.state_updates (from tensorflow.python.keras.engine.training) is deprecated and will be removed in a future version.\n",
      "Instructions for updating:\n",
      "This property should not be used in TensorFlow 2.0, as updates are applied automatically.\n",
      "WARNING:tensorflow:From /usr/local/lib/python3.6/dist-packages/tensorflow/python/training/tracking/tracking.py:111: Layer.updates (from tensorflow.python.keras.engine.base_layer) is deprecated and will be removed in a future version.\n",
      "Instructions for updating:\n",
      "This property should not be used in TensorFlow 2.0, as updates are applied automatically.\n",
      "INFO:tensorflow:Assets written to: model/assets\n",
      "  adding: model/ (stored 0%)\n",
      "  adding: model/assets/ (stored 0%)\n",
      "  adding: model/saved_model.pb (deflated 89%)\n",
      "  adding: model/variables/ (stored 0%)\n",
      "  adding: model/variables/variables.index (deflated 63%)\n",
      "  adding: model/variables/variables.data-00000-of-00001 (deflated 9%)\n"
     ]
    }
   ],
   "source": [
    "model.save('model_EMB')\n",
    "!zip -r model_EMB.zip ./model_EMB"
   ]
  },
  {
   "cell_type": "code",
   "execution_count": null,
   "metadata": {
    "colab": {
     "base_uri": "https://localhost:8080/",
     "height": 125
    },
    "id": "Q0AsJNtkLOWG",
    "outputId": "5f04552a-4173-43ae-be17-3068179a1a35"
   },
   "outputs": [
    {
     "name": "stdout",
     "output_type": "stream",
     "text": [
      "(array([0, 1]), array([100, 232]))\n",
      "0.9561432875795112\n",
      "0.9126506024096386\n",
      "[[ 84  13]\n",
      " [ 16 219]]\n",
      "0.9666593551217372\n"
     ]
    }
   ],
   "source": [
    "preds = model.predict(X_test)\n",
    "preds1 = np.where(preds>0.5,1,0)\n",
    "preds2 = np.where(model.predict(X_train)>0.5,1,0)\n",
    "print(np.unique(preds1,return_counts=True))\n",
    "print(accuracy_score(y_train,preds2))\n",
    "print(accuracy_score(y_test,preds1))\n",
    "print(confusion_matrix(y_test,preds1))\n",
    "print(roc_auc_score(y_test,preds))"
   ]
  },
  {
   "cell_type": "code",
   "execution_count": null,
   "metadata": {
    "id": "DMJaq_krLONn"
   },
   "outputs": [],
   "source": []
  },
  {
   "cell_type": "code",
   "execution_count": null,
   "metadata": {
    "id": "TGUTjpIILOCZ"
   },
   "outputs": [],
   "source": []
  },
  {
   "cell_type": "code",
   "execution_count": null,
   "metadata": {
    "colab": {
     "base_uri": "https://localhost:8080/",
     "height": 35
    },
    "id": "JcVAuEudnwKi",
    "outputId": "9577e338-6c24-4372-ee72-78b3f05d65e7"
   },
   "outputs": [
    {
     "data": {
      "text/plain": [
       "943"
      ]
     },
     "execution_count": 153,
     "metadata": {
      "tags": []
     },
     "output_type": "execute_result"
    }
   ],
   "source": [
    "X_testdata = pd.read_csv('X_testData_1.csv')\n",
    "Y_testdata_nolabel = pd.read_csv('Y_testData_1_nolabels_EMB.csv')\n",
    "output_id = set(Y_testdata_nolabel['ID'])\n",
    "len(output_id)"
   ]
  },
  {
   "cell_type": "code",
   "execution_count": null,
   "metadata": {
    "id": "qnP-nEN6oAOy"
   },
   "outputs": [],
   "source": [
    "X_testdata.drop('SNP_CN_2714366_C967A_V323L_eis',axis=1,inplace=True)\n",
    "X_testdata.drop('SNP_I_2713795_C329T_inter_Rv2415c_eis',axis=1,inplace=True)\n",
    "X_testdata.drop('SNP_I_2713872_C252A_inter_Rv2415c_eis',axis=1,inplace=True)\n",
    "\n",
    "generate_id = X_testdata['ID']\n",
    "X_testdata.drop('ID',axis=1,inplace=True)\n",
    "#generate_id"
   ]
  },
  {
   "cell_type": "code",
   "execution_count": null,
   "metadata": {
    "colab": {
     "base_uri": "https://localhost:8080/",
     "height": 413
    },
    "id": "qJeEQ_UXNt0H",
    "outputId": "e856490d-f484-4776-a4ce-2f7e5e9ea14b"
   },
   "outputs": [
    {
     "name": "stdout",
     "output_type": "stream",
     "text": [
      "0.986920    48\n",
      "0.989678    30\n",
      "0.998692    24\n",
      "0.990009    18\n",
      "0.940651    17\n",
      "            ..\n",
      "0.984181     1\n",
      "0.978011     1\n",
      "0.086890     1\n",
      "0.174514     1\n",
      "0.993396     1\n",
      "Name: EMB, Length: 659, dtype: int64\n"
     ]
    },
    {
     "data": {
      "text/plain": [
       "[0.005419226584863833,\n",
       " 0.005419226584863833,\n",
       " 0.007488471306583289,\n",
       " 0.0096623970446826,\n",
       " 0.012786904287442374,\n",
       " 0.01327887353641731,\n",
       " 0.014706827808841654,\n",
       " 0.014706827808841654,\n",
       " 0.015721299343458606,\n",
       " 0.01743457847357621]"
      ]
     },
     "execution_count": 190,
     "metadata": {
      "tags": []
     },
     "output_type": "execute_result"
    }
   ],
   "source": [
    "#Run this to produce output for ML models\n",
    "output_pred = lr.predict_proba(X_testdata)\n",
    "out = pd.DataFrame({'EMB':output_pred[:,1]})\n",
    "out['ID'] = generate_id\n",
    "out = out[['ID','EMB']]\n",
    "#out\n",
    "for ind in out.index:\n",
    "    if out['ID'][ind] not in output_id:\n",
    "        out.drop(ind,inplace=True)\n",
    "print(out['EMB'].value_counts())\n",
    "sorted(out['EMB'])[:10]"
   ]
  },
  {
   "cell_type": "code",
   "execution_count": null,
   "metadata": {
    "id": "Rfi2cFMzRfQ_"
   },
   "outputs": [],
   "source": [
    "#Run this to produce output for neural network\n",
    "output_pred = model.predict(X_testdata)\n",
    "out = pd.DataFrame({'EMB':output_pred[:,0]})\n",
    "out['ID'] = generate_id\n",
    "out = out[['ID','EMB']]\n",
    "#out\n",
    "for ind in out.index:\n",
    "    if out['ID'][ind] not in output_id:\n",
    "        out.drop(ind,inplace=True)\n",
    "print(out['EMB'].value_counts())\n",
    "#sorted(out['EMB'])[:10]"
   ]
  },
  {
   "cell_type": "code",
   "execution_count": null,
   "metadata": {
    "id": "BKWfseIGoNFd"
   },
   "outputs": [],
   "source": [
    "out.to_csv('Group_7_output.csv',index=None)"
   ]
  }
 ],
 "metadata": {
  "colab": {
   "collapsed_sections": [],
   "name": "Genomics_assignment_EMB.ipynb",
   "provenance": []
  },
  "kernelspec": {
   "display_name": "Python 3",
   "language": "python",
   "name": "python3"
  },
  "language_info": {
   "codemirror_mode": {
    "name": "ipython",
    "version": 3
   },
   "file_extension": ".py",
   "mimetype": "text/x-python",
   "name": "python",
   "nbconvert_exporter": "python",
   "pygments_lexer": "ipython3",
   "version": "3.7.3"
  }
 },
 "nbformat": 4,
 "nbformat_minor": 1
}
