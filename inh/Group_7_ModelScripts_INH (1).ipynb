{
  "nbformat": 4,
  "nbformat_minor": 0,
  "metadata": {
    "kernelspec": {
      "display_name": "Python 3",
      "language": "python",
      "name": "python3"
    },
    "language_info": {
      "codemirror_mode": {
        "name": "ipython",
        "version": 3
      },
      "file_extension": ".py",
      "mimetype": "text/x-python",
      "name": "python",
      "nbconvert_exporter": "python",
      "pygments_lexer": "ipython3",
      "version": "3.8.3"
    },
    "colab": {
      "name": "Group_7_ModelScripts_INH.ipynb",
      "provenance": []
    }
  },
  "cells": [
    {
      "cell_type": "code",
      "metadata": {
        "id": "Zlr1Ml7-50HT"
      },
      "source": [
        "import csv\n",
        "import pandas as pd\n",
        "import numpy as np\n",
        "from sklearn.svm import SVC\n",
        "from sklearn.ensemble import RandomForestClassifier\n",
        "from sklearn.model_selection import train_test_split\n",
        "from sklearn.metrics import classification_report, confusion_matrix\n",
        "import matplotlib.pyplot as plt\n",
        "from numpy import nan\n",
        "from sklearn.experimental import enable_iterative_imputer\n",
        "from sklearn.impute import IterativeImputer\n",
        "from sklearn.neighbors import KNeighborsRegressor\n",
        "from sklearn.metrics import roc_auc_score\n",
        "import xgboost as xgb\n",
        "plt.style.use('classic')\n",
        "%matplotlib inline\n",
        "pd.set_option('display.max_rows', None)"
      ],
      "execution_count": null,
      "outputs": []
    },
    {
      "cell_type": "code",
      "metadata": {
        "id": "dGAohF1G50HZ"
      },
      "source": [
        "df_train1 = pd.read_csv('sample_data/X_trainData_1.csv')#files must be uploaded to the sample_data folder in google colab\n",
        "df_train2 = pd.read_csv('sample_data/Y_trainData_1.csv')\n",
        "df_test = pd.read_csv('sample_data/X_testData_1.csv')\n",
        "df_test = df_test.loc[:, df_test.columns != 'ID']\n"
      ],
      "execution_count": null,
      "outputs": []
    },
    {
      "cell_type": "code",
      "metadata": {
        "id": "By-8UzJ750Hi",
        "outputId": "f812ca17-9bc9-44df-e0fb-aac71adc7086",
        "colab": {
          "base_uri": "https://localhost:8080/",
          "height": 70
        }
      },
      "source": [
        "\n",
        "print(df_train1.shape)\n",
        "print(df_train2.shape)\n",
        "print(df_test.shape)"
      ],
      "execution_count": null,
      "outputs": [
        {
          "output_type": "stream",
          "text": [
            "(3393, 222)\n",
            "(3393, 11)\n",
            "(1000, 222)\n"
          ],
          "name": "stdout"
        }
      ]
    },
    {
      "cell_type": "code",
      "metadata": {
        "id": "m4yb323x50Hl",
        "outputId": "0cd954f5-d8df-464e-aac9-defd288a662d",
        "colab": {
          "base_uri": "https://localhost:8080/",
          "height": 70
        }
      },
      "source": [
        "res = pd.concat([df_train1, df_train2], axis=1)\n",
        "res = res[res.INH != -1]\n",
        "res2= res[res.INH==1]\n",
        "y = res['INH']\n",
        "X = res.drop(['INH'], axis = 1) \n",
        "X = X.drop(['OFLX'], axis = 1) \n",
        "X = X.drop(['RIF'], axis = 1) \n",
        "X = X.drop(['CIP'], axis = 1) \n",
        "X = X.drop(['PZA'], axis = 1) \n",
        "X = X.drop(['EMB'], axis = 1)\n",
        "X = X.drop(['CAP'], axis = 1)\n",
        "X = X.drop(['STR'], axis = 1)\n",
        "X = X.drop(['AMK'], axis = 1)\n",
        "X = X.drop(['MOXI'], axis = 1)  \n",
        "X = X.drop(['KAN'], axis = 1)    \n",
        "print(y.shape)\n",
        "print(X.shape)\n",
        "print(res2.shape)\n",
        "X_train, X_test, y_train, y_test = train_test_split(X, y, test_size =0.2)"
      ],
      "execution_count": null,
      "outputs": [
        {
          "output_type": "stream",
          "text": [
            "(3356,)\n",
            "(3356, 222)\n",
            "(1832, 233)\n"
          ],
          "name": "stdout"
        }
      ]
    },
    {
      "cell_type": "code",
      "metadata": {
        "id": "7F_71SEE50Hr"
      },
      "source": [
        "from sklearn.model_selection import GridSearchCV \n",
        "from sklearn.ensemble import RandomForestRegressor\n",
        "from sklearn.model_selection import RandomizedSearchCV\n",
        "\n",
        "# Use the random grid to search for best hyperparameters\n",
        "\n",
        "# Number of trees in random forest\n",
        "n_estimators = [int(x) for x in np.linspace(start = 200, stop = 2000, num = 50)]\n",
        "# Number of features to consider at every split\n",
        "max_features = ['auto', 'sqrt']\n",
        "# Maximum number of levels in tree\n",
        "max_depth = [int(x) for x in np.linspace(10, 110, num = 11)]\n",
        "max_depth.append(None)\n",
        "# Minimum number of samples required to split a node\n",
        "min_samples_split = [2, 5, 10]\n",
        "# Minimum number of samples required at each leaf node\n",
        "min_samples_leaf = [1, 2, 4]\n",
        "# Method of selecting samples for training each tree\n",
        "bootstrap = [True, False]\n",
        "random_grid = {'n_estimators': n_estimators,\n",
        "               'max_features': max_features,\n",
        "               'max_depth': max_depth,\n",
        "               'min_samples_split': min_samples_split,\n",
        "               'min_samples_leaf': min_samples_leaf,\n",
        "               'bootstrap': bootstrap}\n",
        "# First create the base model to tune\n",
        "rf = RandomForestClassifier()\n",
        "# Random search of parameters, using 3 fold cross validation, \n",
        "# search across 100 different combinations, and use all available cores\n",
        "rf_random = RandomizedSearchCV(estimator = rf, param_distributions = random_grid, n_iter = 100, cv = 4, verbose=2, random_state=42, n_jobs = -1)\n",
        "# Fit the random search model\n",
        "rf_random.fit(X, y)\n",
        "best_params=rf_random.best_params_\n",
        "model = RandomForestClassifier(n_estimators=1200, criterion='entropy', max_depth=110, max_features= 'sqrt', min_samples_leaf= 2, min_samples_split=5, bootstrap=True, random_state=42)\n",
        "model = RandomForestClassifier(n_estimators=best_params[\"n_estimators\"], criterion='entropy', max_depth=best_params[\"max_depth\"], max_features= 'sqrt', min_samples_leaf= best_params[\"min_samples_leaf\"], min_samples_split= best_params[\"min_samples_split\"], bootstrap=True, random_state=42)\n",
        "model.fit(X_train, y_train)\n",
        "y_pred = model.predict_proba(df_test)\n",
        "# df = pd.read_csv('sample_data/Y_testData_1_nolabels_INH.csv')\n",
        "# ID = df['ID'].tolist()\n",
        "# print(y_pred.shape)\n",
        "# # print(type(y_pred))\n",
        "# # print(len(y_pred))"
      ],
      "execution_count": null,
      "outputs": []
    },
    {
      "cell_type": "code",
      "metadata": {
        "id": "0QpS7UGkx6Fd",
        "outputId": "3896a3dd-263b-4e0f-cf9d-cb640996ca22",
        "colab": {
          "base_uri": "https://localhost:8080/",
          "height": 70
        }
      },
      "source": [
        "# SVC Code with grid search Cv for hyperparam tuning\n",
        "# defining parameter range \n",
        "# param_grid = {'C': [0.1,1,2,10,4,20],  \n",
        "#               'gamma': [0.1,0.01,0.05,0.001,0.005], \n",
        "#               'kernel': ['rbf']}  \n",
        "# grid = GridSearchCV(SVC(), param_grid, refit = True, verbose = 4,scoring='roc_auc') \n",
        "# # # fitting the model for grid search \n",
        "# grid.fit(X_train, y_train) \n",
        "# print(grid.best_params_) \n",
        "# model = RandomForestClassifier(n_estimators=100, criterion='entropy', max_depth=None)\n",
        "model = SVC(C=3, kernel='rbf', degree=3, gamma=0.03,probability=True)\n",
        "model.fit(X, y)\n",
        "y_pred = model.predict_proba(df_test)\n",
        "df = pd.read_csv('sample_data/Y_testData_1_nolabels_INH.csv')\n",
        "ID = df['ID'].tolist()\n",
        "print(y_pred.shape)\n",
        "print(type(y_pred))\n",
        "print(len(y_pred))"
      ],
      "execution_count": null,
      "outputs": [
        {
          "output_type": "stream",
          "text": [
            "(1000, 2)\n",
            "<class 'numpy.ndarray'>\n",
            "1000\n"
          ],
          "name": "stdout"
        }
      ]
    },
    {
      "cell_type": "code",
      "metadata": {
        "id": "-jivHmRogdMY",
        "outputId": "5857c169-fb11-4b7f-d656-1efad3d26efc",
        "colab": {
          "base_uri": "https://localhost:8080/",
          "height": 35
        }
      },
      "source": [
        "cv_params = {'max_depth': [3,4,5,6,10], 'min_child_weight': [1,2,3,4], 'subsample': [0.8,0.9,1], 'max_delta_step': [0,1,2,4], 'learning_rate':  [0.1, 0.15, 0.2, 0.25, 0.3]}  \n",
        "gscv = GridSearchCV(xgb.XGBClassifier(), cv_params, scoring = 'roc_auc', cv = 5)#running grid search cv on model \n",
        "gscv.fit(X_train, y_train)#fitting model\n",
        "# gscv.grid_scores_#displaying scores\n",
        "best_params= gscv.best_params_\n",
        "print(best_params)\n",
        "model = xgb.XGBClassifier(booster='dart',learning_rate=best_params[\"learning_rate\"],max_depth=best_params[\"max_depth\"],min_child_weight =best_params[\"min_child_weight\"], eval_metric='auc',scale_pos_weight=1.2,max_delta_step=best_params[\"max_delta_step\"],subsample=best_params[\"subsample\"])\n",
        "# model = xgb.XGBClassifier(learning_rate=0.26, min_child_weight=1, max_delta_step=2, max_depth=6, eval_metric='auc', subsample=1)\n",
        "model.fit(X_train, y_train)\n",
        "\n",
        "y_pred = model.predict_proba(df_test)#for converting into probabilities\n",
        "df = pd.read_csv('sample_data/Y_testData_1_nolabels_INH.csv')\n",
        "ID = df['ID'].tolist()\n",
        "print(y_pred.shape)"
      ],
      "execution_count": null,
      "outputs": [
        {
          "output_type": "stream",
          "text": [
            "(1000, 2)\n"
          ],
          "name": "stdout"
        }
      ]
    },
    {
      "cell_type": "code",
      "metadata": {
        "id": "b89En2Hf50Hu",
        "outputId": "0d720d86-aab1-48f2-cd9f-acf1b437cd91",
        "colab": {
          "base_uri": "https://localhost:8080/",
          "height": 230
        }
      },
      "source": [
        "li_id = []\n",
        "li_val = []\n",
        "for i in ID:\n",
        "    # print(i, y_pred[i-1])\n",
        "    li_id.append(i)\n",
        "    li_val.append((y_pred[i-1][1]))\n",
        "csv = pd.DataFrame({'ID': li_id, 'INH' :li_val})\n",
        "csv.to_csv('INH-submit.csv', index=False, header=True)    \n",
        "y_pred = model.predict(X_test)\n",
        "print(confusion_matrix(y_test, y_pred))\n",
        "print(classification_report(y_test, y_pred))  \n",
        "print(roc_auc_score(y_test, y_pred))"
      ],
      "execution_count": null,
      "outputs": [
        {
          "output_type": "stream",
          "text": [
            "[[290  18]\n",
            " [  9 355]]\n",
            "              precision    recall  f1-score   support\n",
            "\n",
            "           0       0.97      0.94      0.96       308\n",
            "           1       0.95      0.98      0.96       364\n",
            "\n",
            "    accuracy                           0.96       672\n",
            "   macro avg       0.96      0.96      0.96       672\n",
            "weighted avg       0.96      0.96      0.96       672\n",
            "\n",
            "0.9584165834165835\n"
          ],
          "name": "stdout"
        }
      ]
    },
    {
      "cell_type": "code",
      "metadata": {
        "id": "XmIK8KQW50Hw"
      },
      "source": [
        ""
      ],
      "execution_count": null,
      "outputs": []
    }
  ]
}