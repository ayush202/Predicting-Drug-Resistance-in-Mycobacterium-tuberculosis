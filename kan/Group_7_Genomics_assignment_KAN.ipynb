{
 "cells": [
  {
   "cell_type": "code",
   "execution_count": null,
   "metadata": {
    "id": "I2XguTXUSdZ_"
   },
   "outputs": [],
   "source": [
    "#!pip install -q kaggle"
   ]
  },
  {
   "cell_type": "code",
   "execution_count": null,
   "metadata": {
    "id": "vqbnmIRPb5-T"
   },
   "outputs": [],
   "source": [
    "'''from google.colab import files\n",
    "files.upload()'''"
   ]
  },
  {
   "cell_type": "code",
   "execution_count": null,
   "metadata": {
    "colab": {
     "base_uri": "https://localhost:8080/",
     "height": 251
    },
    "id": "t2AswRGUcT5S",
    "outputId": "a9085a03-7f95-407a-80f3-2bdb5e52035e"
   },
   "outputs": [
    {
     "name": "stdout",
     "output_type": "stream",
     "text": [
      "Warning: Looks like you're using an outdated API Version, please consider updating (server 1.5.6 / client 1.5.4)\n",
      "Downloading Y_trainData_1.csv to /content\n",
      "  0% 0.00/91.0k [00:00<?, ?B/s]\n",
      "100% 91.0k/91.0k [00:00<00:00, 28.7MB/s]\n",
      "Downloading X_trainData_1.csv.zip to /content\n",
      "  0% 0.00/74.1k [00:00<?, ?B/s]\n",
      "100% 74.1k/74.1k [00:00<00:00, 66.6MB/s]\n",
      "Downloading X_testData_1.csv to /content\n",
      "  0% 0.00/443k [00:00<?, ?B/s]\n",
      "100% 443k/443k [00:00<00:00, 62.7MB/s]\n",
      "Downloading Y_testData_1_nolabels_KAN.csv to /content\n",
      "  0% 0.00/2.82k [00:00<?, ?B/s]\n",
      "100% 2.82k/2.82k [00:00<00:00, 2.93MB/s]\n"
     ]
    }
   ],
   "source": [
    "'''!mkdir ~/.kaggle\n",
    "!cp kaggle.json ~/.kaggle/\n",
    "!chmod 600 ~/.kaggle/kaggle.json\n",
    "!rm kaggle.json\n",
    "!kaggle competitions download -c tuberculosis-drug-resistance-prediction-kan'''"
   ]
  },
  {
   "cell_type": "code",
   "execution_count": null,
   "metadata": {
    "colab": {
     "base_uri": "https://localhost:8080/",
     "height": 53
    },
    "id": "4PiS3HAHexG3",
    "outputId": "7c7a263f-3481-4221-c80f-9f718b535b1e"
   },
   "outputs": [
    {
     "name": "stdout",
     "output_type": "stream",
     "text": [
      "Archive:  ./X_trainData_1.csv.zip\n",
      "  inflating: X_trainData_1.csv       \n"
     ]
    }
   ],
   "source": [
    "'''!unzip ./X_trainData_1.csv.zip\n",
    "!rm ./X_trainData_1.csv.zip'''"
   ]
  },
  {
   "cell_type": "code",
   "execution_count": null,
   "metadata": {
    "id": "CZFyMb5vUJ-B"
   },
   "outputs": [],
   "source": [
    "import pandas as pd\n",
    "df = pd.read_csv('X_trainData_1.csv')\n",
    "#df"
   ]
  },
  {
   "cell_type": "code",
   "execution_count": null,
   "metadata": {
    "id": "DHB7ig7hUgIP"
   },
   "outputs": [],
   "source": [
    "df1 = pd.read_csv('Y_trainData_1.csv')\n",
    "#df1"
   ]
  },
  {
   "cell_type": "code",
   "execution_count": null,
   "metadata": {
    "colab": {
     "base_uri": "https://localhost:8080/",
     "height": 809
    },
    "id": "1w_IZiz9YU81",
    "outputId": "52b89061-7677-4e0d-e6b9-bd6a66addf42"
   },
   "outputs": [
    {
     "name": "stdout",
     "output_type": "stream",
     "text": [
      " 1    2057\n",
      " 0    1278\n",
      "-1      58\n",
      "Name: RIF, dtype: int64\n",
      " 1    1832\n",
      " 0    1524\n",
      "-1      37\n",
      "Name: INH, dtype: int64\n",
      " 1    2246\n",
      " 0     695\n",
      "-1     452\n",
      "Name: PZA, dtype: int64\n",
      " 1    2346\n",
      " 0     973\n",
      "-1      74\n",
      "Name: EMB, dtype: int64\n",
      "-1    1312\n",
      " 1    1061\n",
      " 0    1020\n",
      "Name: STR, dtype: int64\n",
      "-1    2214\n",
      " 1     942\n",
      " 0     237\n",
      "Name: CIP, dtype: int64\n",
      "-1    2054\n",
      " 1     752\n",
      " 0     587\n",
      "Name: CAP, dtype: int64\n",
      "-1    2033\n",
      " 1    1127\n",
      " 0     233\n",
      "Name: AMK, dtype: int64\n",
      "-1    2056\n",
      " 1    1070\n",
      " 0     267\n",
      "Name: MOXI, dtype: int64\n",
      "-1    2703\n",
      " 1     603\n",
      " 0      87\n",
      "Name: OFLX, dtype: int64\n",
      "-1    2110\n",
      " 1    1013\n",
      " 0     270\n",
      "Name: KAN, dtype: int64\n"
     ]
    }
   ],
   "source": [
    "for i in df1.columns:\n",
    "  print(df1[i].value_counts())"
   ]
  },
  {
   "cell_type": "code",
   "execution_count": null,
   "metadata": {
    "colab": {
     "base_uri": "https://localhost:8080/",
     "height": 35
    },
    "id": "RB_ID0uF5OWA",
    "outputId": "baa3f0ba-a7a2-49f7-dd24-33bff8112ce9"
   },
   "outputs": [
    {
     "name": "stdout",
     "output_type": "stream",
     "text": [
      "2110\n"
     ]
    }
   ],
   "source": [
    "df = pd.read_csv('X_trainData_1.csv')\n",
    "df1 = pd.read_csv('Y_trainData_1.csv')\n",
    "\n",
    "df.drop('SNP_CN_2714366_C967A_V323L_eis',axis=1,inplace=True)\n",
    "df.drop('SNP_I_2713795_C329T_inter_Rv2415c_eis',axis=1,inplace=True)\n",
    "df.drop('SNP_I_2713872_C252A_inter_Rv2415c_eis',axis=1,inplace=True)\n",
    "count=0\n",
    "for ind in df1.index:\n",
    "  x = df1['KAN'][ind]\n",
    "  if x == -1:\n",
    "    count+=1\n",
    "    df.drop(index=ind,inplace=True)\n",
    "    df1.drop(index=ind,inplace=True)\n",
    "print(count)\n",
    "df['KAN'] = df1['KAN']\n",
    "\n"
   ]
  },
  {
   "cell_type": "code",
   "execution_count": null,
   "metadata": {
    "id": "V6SCqq-EmPg1"
   },
   "outputs": [],
   "source": [
    "from sklearn.linear_model import LogisticRegression\n",
    "from sklearn.svm import SVC\n",
    "from sklearn.ensemble import RandomForestClassifier\n",
    "from sklearn.tree import DecisionTreeClassifier\n",
    "from xgboost import XGBClassifier\n",
    "from sklearn.model_selection import StratifiedShuffleSplit,RandomizedSearchCV,GridSearchCV\n",
    "from sklearn.metrics import classification_report,confusion_matrix\n",
    "from sklearn.model_selection import cross_val_score\n",
    "from sklearn.neighbors import KNeighborsClassifier\n",
    "from sklearn.naive_bayes import CategoricalNB\n",
    "import numpy as np\n",
    "import pickle"
   ]
  },
  {
   "cell_type": "code",
   "execution_count": null,
   "metadata": {
    "colab": {
     "base_uri": "https://localhost:8080/",
     "height": 35
    },
    "id": "MInWiWmFn_4Z",
    "outputId": "3e904610-2852-4bd0-c314-9dbd92591281"
   },
   "outputs": [
    {
     "data": {
      "text/plain": [
       "((1154, 219), (129, 219))"
      ]
     },
     "execution_count": 11,
     "metadata": {
      "tags": []
     },
     "output_type": "execute_result"
    }
   ],
   "source": [
    "ss = StratifiedShuffleSplit(n_splits=1,test_size=0.1,random_state=42)\n",
    "\n",
    "traindata1 = df.drop(columns=['KAN'],axis=1)\n",
    "y1 = df['KAN']\n",
    "\n",
    "for train_index, test_index in ss.split(traindata1,y1):\n",
    "  #print(\"TRAIN:\", train_index, \"TEST:\", test_index)\n",
    "  X_train, X_test = traindata1.iloc[train_index], traindata1.iloc[test_index]\n",
    "  y_train, y_test = y1.iloc[train_index], y1.iloc[test_index]\n",
    "\n",
    "\n",
    "X_train.shape,X_test.shape"
   ]
  },
  {
   "cell_type": "code",
   "execution_count": null,
   "metadata": {
    "colab": {
     "base_uri": "https://localhost:8080/",
     "height": 71
    },
    "id": "HUZHTz5PLUu1",
    "outputId": "a51bba2e-eec5-4264-c83b-79dc9532b447"
   },
   "outputs": [
    {
     "data": {
      "text/plain": [
       "1    911\n",
       "0    243\n",
       "Name: KAN, dtype: int64"
      ]
     },
     "execution_count": 11,
     "metadata": {
      "tags": []
     },
     "output_type": "execute_result"
    }
   ],
   "source": [
    "y_train.value_counts()"
   ]
  },
  {
   "cell_type": "code",
   "execution_count": null,
   "metadata": {
    "id": "AiMmHrsRS8wM"
   },
   "outputs": [],
   "source": [
    "## Hyper Parameter Optimization\n",
    "\n",
    "params={\n",
    " \"learning_rate\"    : [0.01,0.03,0.05, 0.10,0.12, 0.15,0.18, 0.20, 0.25, 0.30,0.35,0.4] ,\n",
    " \"max_depth\"        : [ 6,8, 10, 12,14, 15,16],\n",
    " \"gamma\"            : [ 0.0,0.2,0.4 ],\n",
    " 'n_estimators'     : [50,60,70,80,85,90,100,110,120,150,170,190,200,250,300,350,370,400]   \n",
    "}\n",
    "params1 = {\n",
    "    'C' :[0.1,0.2,0.3,0.4,0.5,0.6,0.7,0.8,1,1,2,1,3,1,5,1.6,1.7,1.9,2,2.2,2.4,2.6,2.8,3,3.2,3.4],\n",
    "   'kernel' : ['rbf'],\n",
    "   'degree':[1,2,3,4,5,6,7,8],\n",
    "    'class_weight':['balanced',''],\n",
    "  'decision_function_shape':['ovo', 'ovr']\n",
    "}\n",
    "params2 = {\n",
    "    'C' :[0.1,0.2,0.3,0.4,0.5,0.6,0.7,0.8,1,1,2,1,3,1,5,1.6,1.7,1.9,2,2.2],\n",
    "    'class_weight':['balanced',''],\n",
    "    'solver':['newton-cg','lbfgs', 'liblinear', 'sag', 'saga'],\n",
    "    'max_iter':[20,40,60,80,100,120,140,180,200,230,250,270,300]\n",
    "}\n",
    "params3 = {\n",
    " \"max_depth\"        : [ 3, 4, 5, 6, 8, 10, 12, 15],\n",
    " \"min_samples_split\" : [ 1,2, 3,4, 5,6, 7 ],\n",
    " \"max_features\" : [ 'auto','sqrt','log2' ],\n",
    " 'n_estimators'     : [50,60,70,80,85,90,100,110,120,150,170,190,200,250,300,350]   \n",
    "}"
   ]
  },
  {
   "cell_type": "code",
   "execution_count": null,
   "metadata": {
    "id": "ReVqN8LaTA09"
   },
   "outputs": [],
   "source": [
    "classifier= XGBClassifier()\n",
    "random_search=RandomizedSearchCV(classifier,param_distributions=params,n_iter=25,scoring='roc_auc'\n",
    "                                 ,n_jobs=-1,cv=2,verbose=3)\n",
    "\n",
    "grid_search=GridSearchCV(classifier,param_grid=params,scoring='roc_auc',\n",
    "                                 n_jobs=-1,cv=2,verbose=3)"
   ]
  },
  {
   "cell_type": "code",
   "execution_count": null,
   "metadata": {
    "id": "1xZ5VWhMVU_h"
   },
   "outputs": [],
   "source": [
    "grid_search.fit(X_train,y_train)"
   ]
  },
  {
   "cell_type": "code",
   "execution_count": null,
   "metadata": {
    "id": "Vc9Xb2zXV8Zg"
   },
   "outputs": [],
   "source": [
    "print(grid_search.best_estimator_)\n",
    "grid_search.best_score_"
   ]
  },
  {
   "cell_type": "code",
   "execution_count": null,
   "metadata": {
    "colab": {
     "base_uri": "https://localhost:8080/",
     "height": 233
    },
    "id": "jvbmdY3Ts5VM",
    "outputId": "905f5975-bef2-4ddd-83c5-ad789af66f0c"
   },
   "outputs": [
    {
     "name": "stdout",
     "output_type": "stream",
     "text": [
      "0.8604651162790697\n",
      "[[16 11]\n",
      " [ 7 95]]\n",
      "              precision    recall  f1-score   support\n",
      "\n",
      "           0       0.70      0.59      0.64        27\n",
      "           1       0.90      0.93      0.91       102\n",
      "\n",
      "    accuracy                           0.86       129\n",
      "   macro avg       0.80      0.76      0.78       129\n",
      "weighted avg       0.85      0.86      0.86       129\n",
      "\n"
     ]
    }
   ],
   "source": [
    "lr = LogisticRegression(C=0.1, class_weight='balanced', dual=False,\n",
    "                   fit_intercept=True, intercept_scaling=1, l1_ratio=None,\n",
    "                   max_iter=60, multi_class='auto', n_jobs=None, penalty='l2',\n",
    "                   random_state=None, solver='liblinear', tol=0.0001, verbose=0,\n",
    "                   warm_start=False)\n",
    "\n",
    "lr.fit(X_train, y_train)\n",
    "print(lr.score(X_test, y_test))\n",
    "\n",
    "y_pred = lr.predict(X_test)\n",
    "print(confusion_matrix(y_test,y_pred))\n",
    "print(classification_report(y_test,y_pred))"
   ]
  },
  {
   "cell_type": "code",
   "execution_count": null,
   "metadata": {
    "colab": {
     "base_uri": "https://localhost:8080/",
     "height": 233
    },
    "id": "8mgkZJjGtGC4",
    "outputId": "32842eaa-b73c-49f3-c532-6d79662c8028"
   },
   "outputs": [
    {
     "name": "stdout",
     "output_type": "stream",
     "text": [
      "0.8837209302325582\n",
      "[[ 13  14]\n",
      " [  1 101]]\n",
      "              precision    recall  f1-score   support\n",
      "\n",
      "           0       0.93      0.48      0.63        27\n",
      "           1       0.88      0.99      0.93       102\n",
      "\n",
      "    accuracy                           0.88       129\n",
      "   macro avg       0.90      0.74      0.78       129\n",
      "weighted avg       0.89      0.88      0.87       129\n",
      "\n"
     ]
    }
   ],
   "source": [
    "svm = SVC(gamma='scale',C=5,kernel='rbf',class_weight='',probability=True,\n",
    "          decision_function_shape='ovo',degree=1)\n",
    "\n",
    "svm.fit(X_train, y_train)\n",
    "print(svm.score(X_test, y_test))\n",
    "\n",
    "y_pred = svm.predict(X_test)\n",
    "print(confusion_matrix(y_test,y_pred))\n",
    "print(classification_report(y_test,y_pred))"
   ]
  },
  {
   "cell_type": "code",
   "execution_count": null,
   "metadata": {
    "colab": {
     "base_uri": "https://localhost:8080/",
     "height": 233
    },
    "id": "U4ONxOlXtLXj",
    "outputId": "d7130428-27aa-4e40-ff8b-126411ac58b5"
   },
   "outputs": [
    {
     "name": "stdout",
     "output_type": "stream",
     "text": [
      "0.7984496124031008\n",
      "[[  1  26]\n",
      " [  0 102]]\n",
      "              precision    recall  f1-score   support\n",
      "\n",
      "           0       1.00      0.04      0.07        27\n",
      "           1       0.80      1.00      0.89       102\n",
      "\n",
      "    accuracy                           0.80       129\n",
      "   macro avg       0.90      0.52      0.48       129\n",
      "weighted avg       0.84      0.80      0.72       129\n",
      "\n"
     ]
    }
   ],
   "source": [
    "rf = RandomForestClassifier(n_estimators=130,max_depth=4)\n",
    "rf.fit(X_train, y_train)\n",
    "print(rf.score(X_test, y_test))\n",
    "\n",
    "y_pred = rf.predict(X_test)\n",
    "print(confusion_matrix(y_test,y_pred))\n",
    "print(classification_report(y_test,y_pred))"
   ]
  },
  {
   "cell_type": "code",
   "execution_count": null,
   "metadata": {
    "colab": {
     "base_uri": "https://localhost:8080/",
     "height": 233
    },
    "id": "qjVzooRBulxS",
    "outputId": "d2a8b772-a188-4365-f203-cd5b33f67438"
   },
   "outputs": [
    {
     "name": "stdout",
     "output_type": "stream",
     "text": [
      "0.8837209302325582\n",
      "[[ 13  14]\n",
      " [  1 101]]\n",
      "              precision    recall  f1-score   support\n",
      "\n",
      "           0       0.93      0.48      0.63        27\n",
      "           1       0.88      0.99      0.93       102\n",
      "\n",
      "    accuracy                           0.88       129\n",
      "   macro avg       0.90      0.74      0.78       129\n",
      "weighted avg       0.89      0.88      0.87       129\n",
      "\n"
     ]
    }
   ],
   "source": [
    "xf = XGBClassifier(learning_rate=0.05, max_depth=15,\n",
    "              n_estimators=140)\n",
    "\n",
    "xf.fit(X_train, y_train)\n",
    "\n",
    "\n",
    "print(xf.score(X_test, y_test))\n",
    "y_pred = xf.predict(X_test)\n",
    "print(confusion_matrix(y_test,y_pred))\n",
    "print(classification_report(y_test,y_pred))"
   ]
  },
  {
   "cell_type": "code",
   "execution_count": null,
   "metadata": {
    "colab": {
     "base_uri": "https://localhost:8080/",
     "height": 53
    },
    "id": "0hu46uk4DIRU",
    "outputId": "aef138b8-4aad-41b9-f1b0-1a2a9ce2344e"
   },
   "outputs": [
    {
     "name": "stdout",
     "output_type": "stream",
     "text": [
      "[0.8278764  0.89239496]\n"
     ]
    },
    {
     "data": {
      "text/plain": [
       "0.8601356806206304"
      ]
     },
     "execution_count": 352,
     "metadata": {
      "tags": []
     },
     "output_type": "execute_result"
    }
   ],
   "source": [
    "\n",
    "score=cross_val_score(xf,traindata1,y1,cv=2,scoring='roc_auc')\n",
    "print(score)\n",
    "score.mean()"
   ]
  },
  {
   "cell_type": "code",
   "execution_count": null,
   "metadata": {
    "colab": {
     "base_uri": "https://localhost:8080/",
     "height": 35
    },
    "id": "Zl9A62gCDUxx",
    "outputId": "971dcaba-cc86-4665-9299-d47680c6b868"
   },
   "outputs": [
    {
     "data": {
      "application/vnd.google.colaboratory.intrinsic+json": {
       "type": "string"
      },
      "text/plain": [
       "'2.3.0'"
      ]
     },
     "execution_count": 39,
     "metadata": {
      "tags": []
     },
     "output_type": "execute_result"
    }
   ],
   "source": [
    "import tensorflow as tf\n",
    "from sklearn.metrics import accuracy_score,roc_auc_score\n",
    "from sklearn.utils import class_weight\n",
    "from keras import optimizers\n",
    "tf.__version__\n"
   ]
  },
  {
   "cell_type": "code",
   "execution_count": null,
   "metadata": {
    "colab": {
     "base_uri": "https://localhost:8080/",
     "height": 35
    },
    "id": "eDRUg18CLNnB",
    "outputId": "6a68bb2d-0db7-4edb-9a82-3071c1b1b500"
   },
   "outputs": [
    {
     "data": {
      "text/plain": [
       "(1154, 219)"
      ]
     },
     "execution_count": 11,
     "metadata": {
      "tags": []
     },
     "output_type": "execute_result"
    }
   ],
   "source": [
    "X_train.shape"
   ]
  },
  {
   "cell_type": "code",
   "execution_count": null,
   "metadata": {
    "id": "qC2Fsjf38wou"
   },
   "outputs": [],
   "source": [
    "!rm -r ./model/\n",
    "!rm ./model.zip"
   ]
  },
  {
   "cell_type": "code",
   "execution_count": null,
   "metadata": {
    "id": "4pl3vjD5LN1-"
   },
   "outputs": [],
   "source": [
    "model = tf.keras.models.Sequential([\n",
    "tf.keras.layers.InputLayer(input_shape=219),\n",
    "tf.keras.layers.Dense(112,activation='relu'),\n",
    "#tf.keras.layers.Dropout(0.05),\n",
    "#tf.keras.layers.Dense(32,activation='relu'),\n",
    "#tf.keras.layers.Dense(8,activation='relu'),\n",
    "tf.keras.layers.Dense(4,activation='relu'),\n",
    "tf.keras.layers.Dense(1,activation='sigmoid'),\n",
    "])\n"
   ]
  },
  {
   "cell_type": "code",
   "execution_count": null,
   "metadata": {
    "colab": {
     "base_uri": "https://localhost:8080/",
     "height": 305
    },
    "id": "Rq5_FGMKLOEZ",
    "outputId": "43d51329-df5e-458b-89b7-87c1f82f7168"
   },
   "outputs": [
    {
     "name": "stdout",
     "output_type": "stream",
     "text": [
      "Model: \"sequential_22\"\n",
      "_________________________________________________________________\n",
      "Layer (type)                 Output Shape              Param #   \n",
      "=================================================================\n",
      "dense_66 (Dense)             (None, 112)               24640     \n",
      "_________________________________________________________________\n",
      "dense_67 (Dense)             (None, 4)                 452       \n",
      "_________________________________________________________________\n",
      "dense_68 (Dense)             (None, 1)                 5         \n",
      "=================================================================\n",
      "Total params: 25,097\n",
      "Trainable params: 25,097\n",
      "Non-trainable params: 0\n",
      "_________________________________________________________________\n",
      "[2.3744856  0.63336992]\n"
     ]
    },
    {
     "data": {
      "text/plain": [
       "dict"
      ]
     },
     "execution_count": 328,
     "metadata": {
      "tags": []
     },
     "output_type": "execute_result"
    }
   ],
   "source": [
    "model.compile(loss='binary_crossentropy',optimizer=tf.keras.optimizers.Adam(),\n",
    "              )\n",
    "model.summary()\n",
    "weights = class_weight.compute_class_weight('balanced',np.unique(y_train),y_train)\n",
    "print(weights)\n",
    "temp = {0:weights[0],1:weights[1]}\n",
    "type(temp)"
   ]
  },
  {
   "cell_type": "code",
   "execution_count": null,
   "metadata": {
    "colab": {
     "base_uri": "https://localhost:8080/",
     "height": 269
    },
    "id": "7a-38rCI7Bf6",
    "outputId": "47e17d33-f713-4196-c600-e95d6a05a7f7"
   },
   "outputs": [
    {
     "name": "stdout",
     "output_type": "stream",
     "text": [
      "Model: \"sequential_1\"\n",
      "_________________________________________________________________\n",
      "Layer (type)                 Output Shape              Param #   \n",
      "=================================================================\n",
      "dense_3 (Dense)              (None, 96)                21120     \n",
      "_________________________________________________________________\n",
      "dense_4 (Dense)              (None, 4)                 388       \n",
      "_________________________________________________________________\n",
      "dense_5 (Dense)              (None, 1)                 5         \n",
      "=================================================================\n",
      "Total params: 21,513\n",
      "Trainable params: 21,513\n",
      "Non-trainable params: 0\n",
      "_________________________________________________________________\n"
     ]
    }
   ],
   "source": [
    "#!unzip model_KAN.zip\n",
    "#!rm model_KAN.zip\n",
    "model = tf.keras.models.load_model('model_KAN/')\n",
    "model.summary()"
   ]
  },
  {
   "cell_type": "code",
   "execution_count": null,
   "metadata": {
    "colab": {
     "base_uri": "https://localhost:8080/",
     "height": 35
    },
    "id": "PPiTgJ8LLOPn",
    "outputId": "9a404cce-f32c-46a8-d566-7793976eb9b2"
   },
   "outputs": [
    {
     "name": "stdout",
     "output_type": "stream",
     "text": [
      "37/37 [==============================] - 0s 4ms/step - loss: 0.2469 - val_loss: 0.3854\n"
     ]
    }
   ],
   "source": [
    "history = model.fit(X_train,y_train,epochs=1,validation_data=(X_test,y_test))"
   ]
  },
  {
   "cell_type": "code",
   "execution_count": null,
   "metadata": {
    "colab": {
     "base_uri": "https://localhost:8080/",
     "height": 143
    },
    "id": "3NMG03I3LOZP",
    "outputId": "3a05ac49-b160-4da5-eab3-d3b9824cb558"
   },
   "outputs": [
    {
     "name": "stdout",
     "output_type": "stream",
     "text": [
      "INFO:tensorflow:Assets written to: model_KAN/assets\n",
      "  adding: model_KAN/ (stored 0%)\n",
      "  adding: model_KAN/saved_model.pb (deflated 88%)\n",
      "  adding: model_KAN/variables/ (stored 0%)\n",
      "  adding: model_KAN/variables/variables.index (deflated 61%)\n",
      "  adding: model_KAN/variables/variables.data-00000-of-00001 (deflated 15%)\n",
      "  adding: model_KAN/assets/ (stored 0%)\n"
     ]
    }
   ],
   "source": [
    "model.save('model_KAN')\n",
    "!zip -r model_KAN.zip ./model_KAN"
   ]
  },
  {
   "cell_type": "code",
   "execution_count": null,
   "metadata": {
    "colab": {
     "base_uri": "https://localhost:8080/",
     "height": 125
    },
    "id": "Q0AsJNtkLOWG",
    "outputId": "4c0b16f8-0667-4101-e4d9-a12cb345ac9c"
   },
   "outputs": [
    {
     "name": "stdout",
     "output_type": "stream",
     "text": [
      "(array([0, 1]), array([ 14, 115]))\n",
      "0.9116117850953206\n",
      "0.8837209302325582\n",
      "[[ 13  14]\n",
      " [  1 101]]\n",
      "0.8311546840958606\n"
     ]
    }
   ],
   "source": [
    "preds = model.predict(X_test)\n",
    "preds1 = np.where(preds>0.5,1,0)\n",
    "preds2 = np.where(model.predict(X_train)>0.5,1,0)\n",
    "print(np.unique(preds1,return_counts=True))\n",
    "print(accuracy_score(y_train,preds2))\n",
    "print(accuracy_score(y_test,preds1))\n",
    "print(confusion_matrix(y_test,preds1))\n",
    "print(roc_auc_score(y_test,preds))"
   ]
  },
  {
   "cell_type": "code",
   "execution_count": null,
   "metadata": {
    "id": "DMJaq_krLONn"
   },
   "outputs": [],
   "source": []
  },
  {
   "cell_type": "code",
   "execution_count": null,
   "metadata": {
    "id": "TGUTjpIILOCZ"
   },
   "outputs": [],
   "source": []
  },
  {
   "cell_type": "code",
   "execution_count": null,
   "metadata": {
    "colab": {
     "base_uri": "https://localhost:8080/",
     "height": 35
    },
    "id": "JcVAuEudnwKi",
    "outputId": "076727d4-2b8c-490d-f715-5167bf5583d7"
   },
   "outputs": [
    {
     "data": {
      "text/plain": [
       "498"
      ]
     },
     "execution_count": 49,
     "metadata": {
      "tags": []
     },
     "output_type": "execute_result"
    }
   ],
   "source": [
    "X_testdata = pd.read_csv('X_testData_1.csv')\n",
    "Y_testdata_nolabel = pd.read_csv('Y_testData_1_nolabels_KAN.csv')\n",
    "output_id = set(Y_testdata_nolabel['ID'])\n",
    "len(output_id)"
   ]
  },
  {
   "cell_type": "code",
   "execution_count": null,
   "metadata": {
    "id": "qnP-nEN6oAOy"
   },
   "outputs": [],
   "source": [
    "X_testdata.drop('SNP_CN_2714366_C967A_V323L_eis',axis=1,inplace=True)\n",
    "X_testdata.drop('SNP_I_2713795_C329T_inter_Rv2415c_eis',axis=1,inplace=True)\n",
    "X_testdata.drop('SNP_I_2713872_C252A_inter_Rv2415c_eis',axis=1,inplace=True)\n",
    "\n",
    "generate_id = X_testdata['ID']\n",
    "X_testdata.drop('ID',axis=1,inplace=True)\n",
    "#generate_id"
   ]
  },
  {
   "cell_type": "code",
   "execution_count": null,
   "metadata": {
    "id": "qJeEQ_UXNt0H"
   },
   "outputs": [],
   "source": [
    "#X_testdata = X_testdata.drop(columns=correlation.index,axis=1)\n",
    "#Use following code to generate output for ML models\n",
    "output_pred = rf.predict_proba(X_testdata)\n",
    "out = pd.DataFrame({'KAN':output_pred[:,1]})\n",
    "out['ID'] = generate_id\n",
    "out = out[['ID','KAN']]\n",
    "#out\n",
    "for ind in out.index:\n",
    "    if out['ID'][ind] not in output_id:\n",
    "        out.drop(ind,inplace=True)\n",
    "print(out['KAN'].value_counts())\n",
    "#sorted(out['KAN'])[:10]"
   ]
  },
  {
   "cell_type": "code",
   "execution_count": null,
   "metadata": {
    "id": "NJGP2rvJ_9L1"
   },
   "outputs": [],
   "source": [
    "#X_testdata = X_testdata.drop(columns=correlation.index,axis=1)\n",
    "#Use following code to generate output for Neural Network model\n",
    "output_pred = model.predict(X_testdata)\n",
    "out = pd.DataFrame({'KAN':output_pred[:,0]})\n",
    "out['ID'] = generate_id\n",
    "out = out[['ID','KAN']]\n",
    "#out\n",
    "for ind in out.index:\n",
    "    if out['ID'][ind] not in output_id:\n",
    "        out.drop(ind,inplace=True)\n",
    "print(out['KAN'].value_counts())\n",
    "sorted(out['KAN'])[:10]"
   ]
  },
  {
   "cell_type": "code",
   "execution_count": null,
   "metadata": {
    "id": "BKWfseIGoNFd"
   },
   "outputs": [],
   "source": [
    "out.to_csv('Group_7_output.csv',index=None)"
   ]
  }
 ],
 "metadata": {
  "colab": {
   "collapsed_sections": [],
   "name": "Genomics_assignment_KAN.ipynb",
   "provenance": []
  },
  "kernelspec": {
   "display_name": "Python 3",
   "language": "python",
   "name": "python3"
  },
  "language_info": {
   "codemirror_mode": {
    "name": "ipython",
    "version": 3
   },
   "file_extension": ".py",
   "mimetype": "text/x-python",
   "name": "python",
   "nbconvert_exporter": "python",
   "pygments_lexer": "ipython3",
   "version": "3.7.3"
  }
 },
 "nbformat": 4,
 "nbformat_minor": 1
}
