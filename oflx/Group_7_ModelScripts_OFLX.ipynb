{
  "nbformat": 4,
  "nbformat_minor": 0,
  "metadata": {
    "kernelspec": {
      "display_name": "Python 3",
      "language": "python",
      "name": "python3"
    },
    "language_info": {
      "codemirror_mode": {
        "name": "ipython",
        "version": 3
      },
      "file_extension": ".py",
      "mimetype": "text/x-python",
      "name": "python",
      "nbconvert_exporter": "python",
      "pygments_lexer": "ipython3",
      "version": "3.8.3"
    },
    "colab": {
      "name": "Group_7_ModelScripts_OFLX.ipynb",
      "provenance": [],
      "collapsed_sections": []
    }
  },
  "cells": [
    {
      "cell_type": "code",
      "metadata": {
        "id": "Zlr1Ml7-50HT"
      },
      "source": [
        "import csv\n",
        "import pandas as pd\n",
        "import numpy as np\n",
        "from sklearn.svm import SVC\n",
        "from sklearn.ensemble import RandomForestClassifier\n",
        "from sklearn.model_selection import train_test_split\n",
        "from sklearn.metrics import classification_report, confusion_matrix\n",
        "import matplotlib.pyplot as plt\n",
        "from numpy import nan\n",
        "from sklearn.experimental import enable_iterative_imputer\n",
        "from sklearn.impute import IterativeImputer\n",
        "from sklearn.neighbors import KNeighborsRegressor\n",
        "from sklearn.ensemble import AdaBoostClassifier\n",
        "import xgboost as xgb\n",
        "from sklearn.metrics import roc_auc_score\n",
        "from imblearn.over_sampling import SMOTE\n",
        "\n",
        "from sklearn.utils import resample\n",
        "plt.style.use('classic')\n",
        "%matplotlib inline\n",
        "pd.set_option('display.max_rows', None)"
      ],
      "execution_count": null,
      "outputs": []
    },
    {
      "cell_type": "code",
      "metadata": {
        "id": "dGAohF1G50HZ"
      },
      "source": [
        "df_train1 = pd.read_csv('sample_data/X_trainData_1.csv')\n",
        "df_train2 = pd.read_csv('sample_data/Y_trainData_1.csv')\n",
        "df_test = pd.read_csv('sample_data/X_testData_1.csv')\n",
        "df_test = df_test.loc[:, df_test.columns != 'ID']"
      ],
      "execution_count": null,
      "outputs": []
    },
    {
      "cell_type": "code",
      "metadata": {
        "id": "yNqVYpPJ50He"
      },
      "source": [
        "#temp = df_train1.isin([0]).sum(axis=0)\n",
        "#temp"
      ],
      "execution_count": null,
      "outputs": []
    },
    {
      "cell_type": "code",
      "metadata": {
        "id": "By-8UzJ750Hi",
        "outputId": "880fc60d-deaf-4e4b-b945-2755962d49f7",
        "colab": {
          "base_uri": "https://localhost:8080/",
          "height": 70
        }
      },
      "source": [
        "#output = df_train2.drop_duplicates()\n",
        "#output.groupby('Unnamed: 0').size()\n",
        "print(df_train1.shape)\n",
        "print(df_train2.shape)\n",
        "print(df_test.shape)"
      ],
      "execution_count": null,
      "outputs": [
        {
          "output_type": "stream",
          "text": [
            "(3393, 222)\n",
            "(3393, 11)\n",
            "(1000, 222)\n"
          ],
          "name": "stdout"
        }
      ]
    },
    {
      "cell_type": "code",
      "metadata": {
        "id": "m4yb323x50Hl",
        "outputId": "267ba397-1c14-4f7c-f1ce-6179c4567175",
        "colab": {
          "base_uri": "https://localhost:8080/",
          "height": 88
        }
      },
      "source": [
        "res = pd.concat([df_train1, df_train2], axis=1)\n",
        "res = res[res.OFLX!= -1]\n",
        "res2=res[res.OFLX==1]\n",
        "# res3=res[res.OFLX==0]\n",
        "# df_upsampled = resample(res3,replace=True, n_samples=203,random_state=123)   \n",
        "# res=pd.concat([res2, df_upsampled], axis=0)\n",
        "y = res['OFLX']\n",
        "X = res.drop(['OFLX'], axis = 1) \n",
        "X = X.drop(['INH'], axis = 1) \n",
        "X = X.drop(['RIF'], axis = 1) \n",
        "X = X.drop(['CIP'], axis = 1) \n",
        "X = X.drop(['PZA'], axis = 1) \n",
        "X = X.drop(['EMB'], axis = 1)\n",
        "X = X.drop(['CAP'], axis = 1)\n",
        "X = X.drop(['STR'], axis = 1)\n",
        "X = X.drop(['AMK'], axis = 1)\n",
        "X = X.drop(['MOXI'], axis = 1)  \n",
        "X = X.drop(['KAN'], axis = 1)  \n",
        "\n",
        "print(y.shape)\n",
        "print(X.shape)\n",
        "print(res.shape)\n",
        "print(res2.shape)\n",
        "# print(y)\n",
        "# print(X)\n",
        "# upsamp = SMOTE(ratio='minority')\n",
        "# X_sm, y_sm = upsamp.fit_sample(X, y)\n",
        "\n",
        "X_train, X_test, y_train, y_test = train_test_split(X, y, test_size =0.1)\n"
      ],
      "execution_count": null,
      "outputs": [
        {
          "output_type": "stream",
          "text": [
            "(690,)\n",
            "(690, 222)\n",
            "(690, 233)\n",
            "(603, 233)\n"
          ],
          "name": "stdout"
        }
      ]
    },
    {
      "cell_type": "code",
      "metadata": {
        "id": "7F_71SEE50Hr",
        "outputId": "0463dcad-f779-4264-be5f-a84cf9391598",
        "colab": {
          "base_uri": "https://localhost:8080/",
          "height": 239
        }
      },
      "source": [
        "from sklearn.model_selection import GridSearchCV \n",
        "from sklearn.ensemble import RandomForestRegressor\n",
        "from sklearn.model_selection import RandomizedSearchCV\n",
        "# SVC Code\n",
        "# defining parameter range \n",
        "param_grid = {'C': [0.01,0.1,1,2,10,15,5],  \n",
        "              'gamma': [0.1,0.01,1,10,0.2,0.05], \n",
        "              'kernel': ['rbf']}  \n",
        "grid = GridSearchCV(SVC(), param_grid, refit = True, verbose = 2,scoring='roc_auc') \n",
        "# # fitting the model for grid search \n",
        "grid.fit(X_train, y_train) \n",
        "print(grid.best_params_) #Use these to train the SVClassifier\n",
        "model = SVC(C=9, kernel='rbf', degree=3, gamma=0.01,probability=True)\n",
        "model.fit(X_train, y_train)\n",
        "y_pred = model.predict_proba(df_test)\n",
        "df = pd.read_csv('sample_data/Y_testData_1_nolabels_OFLX.csv')\n",
        "ID = df['ID'].tolist()\n",
        "# print(y_pred.shape)\n",
        "# print(type(y_pred))\n",
        "# print(len(y_pred))"
      ],
      "execution_count": 1,
      "outputs": [
        {
          "output_type": "error",
          "ename": "NameError",
          "evalue": "ignored",
          "traceback": [
            "\u001b[0;31m---------------------------------------------------------------------------\u001b[0m",
            "\u001b[0;31mNameError\u001b[0m                                 Traceback (most recent call last)",
            "\u001b[0;32m<ipython-input-1-7dd5091b79fd>\u001b[0m in \u001b[0;36m<module>\u001b[0;34m()\u001b[0m\n\u001b[1;32m      7\u001b[0m               \u001b[0;34m'gamma'\u001b[0m\u001b[0;34m:\u001b[0m \u001b[0;34m[\u001b[0m\u001b[0;36m0.1\u001b[0m\u001b[0;34m,\u001b[0m\u001b[0;36m0.01\u001b[0m\u001b[0;34m,\u001b[0m\u001b[0;36m1\u001b[0m\u001b[0;34m,\u001b[0m\u001b[0;36m10\u001b[0m\u001b[0;34m,\u001b[0m\u001b[0;36m0.2\u001b[0m\u001b[0;34m,\u001b[0m\u001b[0;36m0.05\u001b[0m\u001b[0;34m]\u001b[0m\u001b[0;34m,\u001b[0m\u001b[0;34m\u001b[0m\u001b[0;34m\u001b[0m\u001b[0m\n\u001b[1;32m      8\u001b[0m               'kernel': ['rbf']}  \n\u001b[0;32m----> 9\u001b[0;31m \u001b[0mgrid\u001b[0m \u001b[0;34m=\u001b[0m \u001b[0mGridSearchCV\u001b[0m\u001b[0;34m(\u001b[0m\u001b[0mSVC\u001b[0m\u001b[0;34m(\u001b[0m\u001b[0;34m)\u001b[0m\u001b[0;34m,\u001b[0m \u001b[0mparam_grid\u001b[0m\u001b[0;34m,\u001b[0m \u001b[0mrefit\u001b[0m \u001b[0;34m=\u001b[0m \u001b[0;32mTrue\u001b[0m\u001b[0;34m,\u001b[0m \u001b[0mverbose\u001b[0m \u001b[0;34m=\u001b[0m \u001b[0;36m2\u001b[0m\u001b[0;34m,\u001b[0m\u001b[0mscoring\u001b[0m\u001b[0;34m=\u001b[0m\u001b[0;34m'roc_auc'\u001b[0m\u001b[0;34m)\u001b[0m\u001b[0;34m\u001b[0m\u001b[0;34m\u001b[0m\u001b[0m\n\u001b[0m\u001b[1;32m     10\u001b[0m \u001b[0;31m# # fitting the model for grid search\u001b[0m\u001b[0;34m\u001b[0m\u001b[0;34m\u001b[0m\u001b[0;34m\u001b[0m\u001b[0m\n\u001b[1;32m     11\u001b[0m \u001b[0mgrid\u001b[0m\u001b[0;34m.\u001b[0m\u001b[0mfit\u001b[0m\u001b[0;34m(\u001b[0m\u001b[0mX_train\u001b[0m\u001b[0;34m,\u001b[0m \u001b[0my_train\u001b[0m\u001b[0;34m)\u001b[0m\u001b[0;34m\u001b[0m\u001b[0;34m\u001b[0m\u001b[0m\n",
            "\u001b[0;31mNameError\u001b[0m: name 'SVC' is not defined"
          ]
        }
      ]
    },
    {
      "cell_type": "code",
      "metadata": {
        "id": "zHcRWogB2Sqj",
        "outputId": "5028125c-d4dc-4d08-be26-b9c1c46e8a17",
        "colab": {
          "base_uri": "https://localhost:8080/",
          "height": 35
        }
      },
      "source": [
        "# Number of trees in random forest\n",
        "n_estimators = [int(x) for x in np.linspace(start = 200, stop = 1200, num =50)]\n",
        "# Number of features to consider at every split\n",
        "max_features = ['auto', 'sqrt']\n",
        "# Maximum number of levels in tree\n",
        "max_depth = [int(x) for x in np.linspace(10, 1000, num = 101)]\n",
        "max_depth.append(None)\n",
        "# Minimum number of samples required to split a node\n",
        "min_samples_split = [2, 5, 10]\n",
        "# Minimum number of samples required at each leaf node\n",
        "min_samples_leaf = [1, 2, 4]\n",
        "# Method of selecting samples for training each tree\n",
        "bootstrap = [True, False]\n",
        "random_grid = {'n_estimators': n_estimators,\n",
        "               'max_features': max_features,\n",
        "               'max_depth': max_depth,\n",
        "               'min_samples_split': min_samples_split,\n",
        "               'min_samples_leaf': min_samples_leaf,\n",
        "               'bootstrap': bootstrap}\n",
        "# First create the base model to tune\n",
        "rf = RandomForestClassifier()\n",
        "# Random search of parameters, using 3 fold cross validation, \n",
        "# search across 100 different combinations, and use all available cores\n",
        "rf_random = RandomizedSearchCV(estimator = rf, param_distributions = random_grid, n_iter = 100, cv = 3, verbose=1, random_state=42, n_jobs = -1)\n",
        "# Fit the random search model\n",
        "rf_random.fit(X_train, y_train)\n",
        "print(rf_random.best_params_) #Use these to train the RF model\n",
        "model = RandomForestClassifier(n_estimators=567, criterion='entropy', max_depth=208, max_features= 'sqrt', min_samples_leaf= 1, min_samples_split=2, bootstrap=False, random_state=42)\n",
        "model.fit(X_train, y_train)\n",
        "y_pred = model.predict_proba(df_test)\n",
        "df = pd.read_csv('sample_data/Y_testData_1_nolabels_OFLX.csv')\n",
        "ID = df['ID'].tolist()\n",
        "print(y_pred.shape)"
      ],
      "execution_count": null,
      "outputs": [
        {
          "output_type": "stream",
          "text": [
            "(1000, 2)\n"
          ],
          "name": "stdout"
        }
      ]
    },
    {
      "cell_type": "code",
      "metadata": {
        "id": "lcUO5yuPOPAg",
        "outputId": "7093b7cb-b29b-438a-f627-2ccab7654ad8",
        "colab": {
          "base_uri": "https://localhost:8080/",
          "height": 35
        }
      },
      "source": [
        "\n",
        "cv_params = {'max_depth': [3,4,5,6], 'min_child_weight': [1,2], 'subsample': [0.8,0.9,1], 'max_delta_step': [0,1,2], 'learning_rate':  [0.2, 0.25, 0.3,0.1]}  \n",
        "gscv = GridSearchCV(xgb.XGBClassifier(), cv_params, scoring = 'roc_auc', cv = 5)#running grid search cv on model \n",
        "gscv.fit(X_train, y_train)#fitting model\n",
        "# gscv.grid_scores_#displaying scores\n",
        "best_params= gscv.best_params_\n",
        "print(best_params)#use these to train the XGB Classifier\n",
        "model = xgb.XGBClassifier(learning_rate=0.30,max_depth=10,min_child_weight=1, eval_metric='auc',max_delta_step=3,scale_pos_weight=1.1)\n",
        "model.fit(X_train, y_train)\n",
        "y_pred = model.predict_proba(df_test)#for converting into probabilities\n",
        "df = pd.read_csv('sample_data/Y_testData_1_nolabels_OFLX.csv')\n",
        "ID = df['ID'].tolist()\n",
        "print(y_pred.shape)"
      ],
      "execution_count": null,
      "outputs": [
        {
          "output_type": "stream",
          "text": [
            "(1000, 2)\n"
          ],
          "name": "stdout"
        }
      ]
    },
    {
      "cell_type": "code",
      "metadata": {
        "id": "b89En2Hf50Hu",
        "outputId": "ab5e86df-8df8-4330-ecf8-6cf91d7e84c4",
        "colab": {
          "base_uri": "https://localhost:8080/",
          "height": 230
        }
      },
      "source": [
        "li_id = []\n",
        "li_val = []\n",
        "for i in ID:\n",
        "    # print(i, y_pred[i-1])\n",
        "    li_id.append(i)\n",
        "    li_val.append((y_pred[i-1][1]))\n",
        "csv = pd.DataFrame({'ID': li_id, 'OFLX' :li_val})\n",
        "csv.to_csv('OFLX-submit.csv', index=False, header=True)  \n",
        "y_pred = model.predict(X_test)\n",
        "print(confusion_matrix(y_test, y_pred))\n",
        "print(classification_report(y_test, y_pred))  \n",
        "print(roc_auc_score(y_test, y_pred))"
      ],
      "execution_count": null,
      "outputs": [
        {
          "output_type": "stream",
          "text": [
            "[[ 6  6]\n",
            " [ 0 57]]\n",
            "              precision    recall  f1-score   support\n",
            "\n",
            "           0       1.00      0.50      0.67        12\n",
            "           1       0.90      1.00      0.95        57\n",
            "\n",
            "    accuracy                           0.91        69\n",
            "   macro avg       0.95      0.75      0.81        69\n",
            "weighted avg       0.92      0.91      0.90        69\n",
            "\n",
            "0.75\n"
          ],
          "name": "stdout"
        }
      ]
    },
    {
      "cell_type": "code",
      "metadata": {
        "id": "XmIK8KQW50Hw"
      },
      "source": [
        ""
      ],
      "execution_count": null,
      "outputs": []
    }
  ]
}