{
  "nbformat": 4,
  "nbformat_minor": 0,
  "metadata": {
    "kernelspec": {
      "display_name": "Python 3",
      "language": "python",
      "name": "python3"
    },
    "language_info": {
      "codemirror_mode": {
        "name": "ipython",
        "version": 3
      },
      "file_extension": ".py",
      "mimetype": "text/x-python",
      "name": "python",
      "nbconvert_exporter": "python",
      "pygments_lexer": "ipython3",
      "version": "3.8.3"
    },
    "colab": {
      "name": "Group_7_OFLX_Output_Notebook.ipynb",
      "provenance": [],
      "collapsed_sections": []
    }
  },
  "cells": [
    {
      "cell_type": "code",
      "metadata": {
        "id": "Zlr1Ml7-50HT"
      },
      "source": [
        "import csv\n",
        "import pandas as pd\n",
        "import numpy as np\n",
        "from sklearn.svm import SVC\n",
        "from sklearn.ensemble import RandomForestClassifier\n",
        "from sklearn.model_selection import train_test_split\n",
        "from sklearn.metrics import classification_report, confusion_matrix\n",
        "import matplotlib.pyplot as plt\n",
        "from numpy import nan\n",
        "from sklearn.experimental import enable_iterative_imputer\n",
        "from sklearn.impute import IterativeImputer\n",
        "from sklearn.neighbors import KNeighborsRegressor\n",
        "from sklearn.ensemble import AdaBoostClassifier\n",
        "import xgboost as xgb\n",
        "from sklearn.metrics import roc_auc_score\n",
        "from imblearn.over_sampling import SMOTE\n",
        "\n",
        "from sklearn.utils import resample\n",
        "plt.style.use('classic')\n",
        "%matplotlib inline\n",
        "pd.set_option('display.max_rows', None)"
      ],
      "execution_count": 16,
      "outputs": []
    },
    {
      "cell_type": "code",
      "metadata": {
        "id": "dGAohF1G50HZ"
      },
      "source": [
        "df_train1 = pd.read_csv('sample_data/X_trainData_1.csv')\n",
        "df_train2 = pd.read_csv('sample_data/Y_trainData_1.csv')\n",
        "df_test = pd.read_csv('sample_data/X_testData_1.csv')\n",
        "df_test = df_test.loc[:, df_test.columns != 'ID']"
      ],
      "execution_count": 17,
      "outputs": []
    },
    {
      "cell_type": "code",
      "metadata": {
        "id": "By-8UzJ750Hi",
        "outputId": "880fc60d-deaf-4e4b-b945-2755962d49f7",
        "colab": {
          "base_uri": "https://localhost:8080/",
          "height": 70
        }
      },
      "source": [
        "#output = df_train2.drop_duplicates()\n",
        "#output.groupby('Unnamed: 0').size()\n",
        "print(df_train1.shape)\n",
        "print(df_train2.shape)\n",
        "print(df_test.shape)"
      ],
      "execution_count": 18,
      "outputs": [
        {
          "output_type": "stream",
          "text": [
            "(3393, 222)\n",
            "(3393, 11)\n",
            "(1000, 222)\n"
          ],
          "name": "stdout"
        }
      ]
    },
    {
      "cell_type": "code",
      "metadata": {
        "id": "m4yb323x50Hl",
        "outputId": "267ba397-1c14-4f7c-f1ce-6179c4567175",
        "colab": {
          "base_uri": "https://localhost:8080/",
          "height": 88
        }
      },
      "source": [
        "res = pd.concat([df_train1, df_train2], axis=1)\n",
        "res = res[res.OFLX!= -1]\n",
        "res2=res[res.OFLX==1]\n",
        "# res3=res[res.OFLX==0]\n",
        "# df_upsampled = resample(res3,replace=True, n_samples=203,random_state=123)   \n",
        "# res=pd.concat([res2, df_upsampled], axis=0)\n",
        "y = res['OFLX']\n",
        "X = res.drop(['OFLX'], axis = 1) \n",
        "X = X.drop(['INH'], axis = 1) \n",
        "X = X.drop(['RIF'], axis = 1) \n",
        "X = X.drop(['CIP'], axis = 1) \n",
        "X = X.drop(['PZA'], axis = 1) \n",
        "X = X.drop(['EMB'], axis = 1)\n",
        "X = X.drop(['CAP'], axis = 1)\n",
        "X = X.drop(['STR'], axis = 1)\n",
        "X = X.drop(['AMK'], axis = 1)\n",
        "X = X.drop(['MOXI'], axis = 1)  \n",
        "X = X.drop(['KAN'], axis = 1)  \n",
        "\n",
        "print(y.shape)\n",
        "print(X.shape)\n",
        "print(res.shape)\n",
        "print(res2.shape)\n",
        "# print(y)\n",
        "# print(X)\n",
        "# upsamp = SMOTE(ratio='minority')\n",
        "# X_sm, y_sm = upsamp.fit_sample(X, y)\n",
        "\n",
        "X_train, X_test, y_train, y_test = train_test_split(X, y, test_size =0.1)\n"
      ],
      "execution_count": 94,
      "outputs": [
        {
          "output_type": "stream",
          "text": [
            "(690,)\n",
            "(690, 222)\n",
            "(690, 233)\n",
            "(603, 233)\n"
          ],
          "name": "stdout"
        }
      ]
    },
    {
      "cell_type": "code",
      "metadata": {
        "id": "zHcRWogB2Sqj",
        "outputId": "5028125c-d4dc-4d08-be26-b9c1c46e8a17",
        "colab": {
          "base_uri": "https://localhost:8080/",
          "height": 35
        }
      },
      "source": [
        "#Best model\n",
        "model = RandomForestClassifier(n_estimators=567, criterion='entropy', max_depth=208, max_features= 'sqrt', min_samples_leaf= 1, min_samples_split=2, bootstrap=False, random_state=42)\n",
        "model.fit(X_train, y_train)\n",
        "y_pred = model.predict_proba(df_test)\n",
        "df = pd.read_csv('sample_data/Y_testData_1_nolabels_OFLX.csv')\n",
        "ID = df['ID'].tolist()\n",
        "print(y_pred.shape)"
      ],
      "execution_count": 172,
      "outputs": [
        {
          "output_type": "stream",
          "text": [
            "(1000, 2)\n"
          ],
          "name": "stdout"
        }
      ]
    },
    {
      "cell_type": "code",
      "metadata": {
        "id": "b89En2Hf50Hu",
        "outputId": "ab5e86df-8df8-4330-ecf8-6cf91d7e84c4",
        "colab": {
          "base_uri": "https://localhost:8080/",
          "height": 230
        }
      },
      "source": [
        "li_id = []\n",
        "li_val = []\n",
        "for i in ID:\n",
        "    # print(i, y_pred[i-1])\n",
        "    li_id.append(i)\n",
        "    li_val.append((y_pred[i-1][1]))\n",
        "csv = pd.DataFrame({'ID': li_id, 'OFLX' :li_val})\n",
        "csv.to_csv('OFLX-submit.csv', index=False, header=True)  \n",
        "y_pred = model.predict(X_test)\n",
        "print(confusion_matrix(y_test, y_pred))\n",
        "print(classification_report(y_test, y_pred))  \n",
        "print(roc_auc_score(y_test, y_pred))"
      ],
      "execution_count": 182,
      "outputs": [
        {
          "output_type": "stream",
          "text": [
            "[[ 6  6]\n",
            " [ 0 57]]\n",
            "              precision    recall  f1-score   support\n",
            "\n",
            "           0       1.00      0.50      0.67        12\n",
            "           1       0.90      1.00      0.95        57\n",
            "\n",
            "    accuracy                           0.91        69\n",
            "   macro avg       0.95      0.75      0.81        69\n",
            "weighted avg       0.92      0.91      0.90        69\n",
            "\n",
            "0.75\n"
          ],
          "name": "stdout"
        }
      ]
    },
    {
      "cell_type": "code",
      "metadata": {
        "id": "XmIK8KQW50Hw"
      },
      "source": [
        ""
      ],
      "execution_count": null,
      "outputs": []
    }
  ]
}