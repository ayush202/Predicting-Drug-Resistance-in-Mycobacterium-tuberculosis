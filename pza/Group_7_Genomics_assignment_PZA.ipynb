{
 "cells": [
  {
   "cell_type": "code",
   "execution_count": null,
   "metadata": {
    "id": "I2XguTXUSdZ_"
   },
   "outputs": [],
   "source": [
    "#!pip install -q kaggle"
   ]
  },
  {
   "cell_type": "code",
   "execution_count": null,
   "metadata": {
    "id": "vqbnmIRPb5-T"
   },
   "outputs": [],
   "source": [
    "'''from google.colab import files\n",
    "files.upload()'''"
   ]
  },
  {
   "cell_type": "code",
   "execution_count": null,
   "metadata": {
    "colab": {
     "base_uri": "https://localhost:8080/",
     "height": 271
    },
    "id": "t2AswRGUcT5S",
    "outputId": "c83e7b3b-5ab0-4bff-96eb-df4a2ae268db"
   },
   "outputs": [
    {
     "name": "stdout",
     "output_type": "stream",
     "text": [
      "Warning: Looks like you're using an outdated API Version, please consider updating (server 1.5.6 / client 1.5.4)\n",
      "Downloading X_trainData_1.csv.zip to /content\n",
      "  0% 0.00/74.1k [00:00<?, ?B/s]\n",
      "100% 74.1k/74.1k [00:00<00:00, 28.3MB/s]\n",
      "Downloading Y_trainData_1.csv to /content\n",
      "  0% 0.00/91.0k [00:00<?, ?B/s]\n",
      "100% 91.0k/91.0k [00:00<00:00, 29.4MB/s]\n",
      "Downloading X_testData_1.csv to /content\n",
      "  0% 0.00/443k [00:00<?, ?B/s]\n",
      "100% 443k/443k [00:00<00:00, 61.4MB/s]\n",
      "Downloading Y_testData_1_nolabels_PZA.csv to /content\n",
      "  0% 0.00/4.43k [00:00<?, ?B/s]\n",
      "100% 4.43k/4.43k [00:00<00:00, 4.23MB/s]\n"
     ]
    }
   ],
   "source": [
    "'''!mkdir ~/.kaggle\n",
    "!cp kaggle.json ~/.kaggle/\n",
    "!chmod 600 ~/.kaggle/kaggle.json\n",
    "!rm kaggle.json\n",
    "!kaggle competitions download -c tuberculosis-drug-resistance-prediction-pza'''"
   ]
  },
  {
   "cell_type": "code",
   "execution_count": null,
   "metadata": {
    "colab": {
     "base_uri": "https://localhost:8080/",
     "height": 53
    },
    "id": "4PiS3HAHexG3",
    "outputId": "e715a49b-2754-4750-c91b-ee2f8735fae6"
   },
   "outputs": [
    {
     "name": "stdout",
     "output_type": "stream",
     "text": [
      "Archive:  ./X_trainData_1.csv.zip\n",
      "  inflating: X_trainData_1.csv       \n"
     ]
    }
   ],
   "source": [
    "'''!unzip ./X_trainData_1.csv.zip\n",
    "!rm ./X_trainData_1.csv.zip'''"
   ]
  },
  {
   "cell_type": "code",
   "execution_count": null,
   "metadata": {
    "id": "CZFyMb5vUJ-B"
   },
   "outputs": [],
   "source": [
    "import pandas as pd\n",
    "df = pd.read_csv('X_trainData_1.csv')\n",
    "#df"
   ]
  },
  {
   "cell_type": "code",
   "execution_count": null,
   "metadata": {
    "id": "DHB7ig7hUgIP"
   },
   "outputs": [],
   "source": [
    "df1 = pd.read_csv('Y_trainData_1.csv')\n",
    "#df1"
   ]
  },
  {
   "cell_type": "code",
   "execution_count": null,
   "metadata": {
    "colab": {
     "base_uri": "https://localhost:8080/",
     "height": 809
    },
    "id": "1w_IZiz9YU81",
    "outputId": "85f521ef-645d-4efa-8ba9-e40dab9e13bb"
   },
   "outputs": [
    {
     "name": "stdout",
     "output_type": "stream",
     "text": [
      " 1    2057\n",
      " 0    1278\n",
      "-1      58\n",
      "Name: RIF, dtype: int64\n",
      " 1    1832\n",
      " 0    1524\n",
      "-1      37\n",
      "Name: INH, dtype: int64\n",
      " 1    2246\n",
      " 0     695\n",
      "-1     452\n",
      "Name: PZA, dtype: int64\n",
      " 1    2346\n",
      " 0     973\n",
      "-1      74\n",
      "Name: EMB, dtype: int64\n",
      "-1    1312\n",
      " 1    1061\n",
      " 0    1020\n",
      "Name: STR, dtype: int64\n",
      "-1    2214\n",
      " 1     942\n",
      " 0     237\n",
      "Name: CIP, dtype: int64\n",
      "-1    2054\n",
      " 1     752\n",
      " 0     587\n",
      "Name: CAP, dtype: int64\n",
      "-1    2033\n",
      " 1    1127\n",
      " 0     233\n",
      "Name: AMK, dtype: int64\n",
      "-1    2056\n",
      " 1    1070\n",
      " 0     267\n",
      "Name: MOXI, dtype: int64\n",
      "-1    2703\n",
      " 1     603\n",
      " 0      87\n",
      "Name: OFLX, dtype: int64\n",
      "-1    2110\n",
      " 1    1013\n",
      " 0     270\n",
      "Name: KAN, dtype: int64\n"
     ]
    }
   ],
   "source": [
    "for i in df1.columns:\n",
    "  print(df1[i].value_counts())"
   ]
  },
  {
   "cell_type": "code",
   "execution_count": null,
   "metadata": {
    "colab": {
     "base_uri": "https://localhost:8080/",
     "height": 474
    },
    "id": "RB_ID0uF5OWA",
    "outputId": "37dafcd0-52c0-437b-882d-df25c23cb0dc"
   },
   "outputs": [
    {
     "name": "stdout",
     "output_type": "stream",
     "text": [
      "452\n"
     ]
    },
    {
     "data": {
      "text/html": [
       "<div>\n",
       "<style scoped>\n",
       "    .dataframe tbody tr th:only-of-type {\n",
       "        vertical-align: middle;\n",
       "    }\n",
       "\n",
       "    .dataframe tbody tr th {\n",
       "        vertical-align: top;\n",
       "    }\n",
       "\n",
       "    .dataframe thead th {\n",
       "        text-align: right;\n",
       "    }\n",
       "</style>\n",
       "<table border=\"1\" class=\"dataframe\">\n",
       "  <thead>\n",
       "    <tr style=\"text-align: right;\">\n",
       "      <th></th>\n",
       "      <th>DEL_CF_410280_d918T_307_iniB</th>\n",
       "      <th>DEL_CF_4408101_d102C_34_gid</th>\n",
       "      <th>DEL_F_4408101_d101C_gid_G34G</th>\n",
       "      <th>INS_CF_4242820_i2957G_986_embC</th>\n",
       "      <th>INS_F_409772_i410ATCT_iniB_G137G</th>\n",
       "      <th>INS_F_4247020_i506CC_embB_G169G</th>\n",
       "      <th>INS_F_4247970_i1456GT_embB_G486G</th>\n",
       "      <th>INS_N_4243642_i409GTCCCGGGGCGCCAC_embA_S137S</th>\n",
       "      <th>INS_P_3074519_G.117_thyA</th>\n",
       "      <th>INS_P_3074521_G.115_thyA</th>\n",
       "      <th>SNP_CN_1673449_A10C_T4P_fabG1</th>\n",
       "      <th>SNP_CN_1674263_T62C_I21T_inhA</th>\n",
       "      <th>SNP_CN_1674481_T280G_S94A_inhA</th>\n",
       "      <th>SNP_CN_1674952_C751G_P251A_inhA</th>\n",
       "      <th>SNP_CN_2102891_A152G_F51S_ndh</th>\n",
       "      <th>SNP_CN_2102990_A53G_V18A_ndh</th>\n",
       "      <th>SNP_CN_2154613_TC_katG_Q500R</th>\n",
       "      <th>SNP_CN_2154724_C1388A_R463L_katG</th>\n",
       "      <th>SNP_CN_2155167_GT_katG_S315R</th>\n",
       "      <th>SNP_CN_2155168_C944G_S315T_katG</th>\n",
       "      <th>SNP_CN_2155168_C944T_S315N_katG</th>\n",
       "      <th>SNP_CN_2155276_CT_katG_G279D</th>\n",
       "      <th>SNP_CN_2289040_AC_pncA_W68G</th>\n",
       "      <th>SNP_CN_2289090_TC_pncA_H51R</th>\n",
       "      <th>SNP_CN_2289099_TG_pncA_K48T</th>\n",
       "      <th>SNP_CN_2289180_A62C_V21G_pncA</th>\n",
       "      <th>SNP_CN_2289202_A40G_C14R_pncA</th>\n",
       "      <th>SNP_CN_2518836_AC_kasA_E241A</th>\n",
       "      <th>SNP_CN_2518839_CT_kasA_A242V</th>\n",
       "      <th>SNP_CN_2518919_G805A_G269S_kasA</th>\n",
       "      <th>SNP_CN_2519048_G934A_G312S_kasA</th>\n",
       "      <th>SNP_CN_2726051_G37A_L13F_oxyR'</th>\n",
       "      <th>SNP_CN_2726338_T146G_V49G_ahpC</th>\n",
       "      <th>SNP_CN_2726338_TGGT146-149GGGG_VV49-50GG_ahpC</th>\n",
       "      <th>SNP_CN_2726350_G158T_W53L_ahpC</th>\n",
       "      <th>SNP_CN_2726409_GC_ahpC_D73H</th>\n",
       "      <th>SNP_CN_2726737_A545C_D182A_ahpC</th>\n",
       "      <th>SNP_CN_3073805_CA_thyA_E223*</th>\n",
       "      <th>SNP_CN_3073868_T604C_T202A_thyA</th>\n",
       "      <th>SNP_CN_3074465_GC_thyA_P3A</th>\n",
       "      <th>...</th>\n",
       "      <th>pncA_C_snp</th>\n",
       "      <th>eis_NC_indel</th>\n",
       "      <th>ethA_C_snp</th>\n",
       "      <th>katG_F_indel</th>\n",
       "      <th>iniB_F_indel</th>\n",
       "      <th>gyrA-gyrB_NC_snp</th>\n",
       "      <th>eis_C_snp</th>\n",
       "      <th>iniA-iniB-iniC_NC_snp</th>\n",
       "      <th>embA-embB_NC_snp</th>\n",
       "      <th>rpoB_F_indel</th>\n",
       "      <th>alr_C_snp</th>\n",
       "      <th>rpsA_NF_indel</th>\n",
       "      <th>ddl_C_snp</th>\n",
       "      <th>embB_C_snp</th>\n",
       "      <th>rpsL_NC_snp</th>\n",
       "      <th>embA_C_snp</th>\n",
       "      <th>kasA_C_snp</th>\n",
       "      <th>rpoB_C_snp</th>\n",
       "      <th>iniC_C_snp</th>\n",
       "      <th>gyrB_C_snp</th>\n",
       "      <th>iniA_F_indel</th>\n",
       "      <th>eis_NF_indel</th>\n",
       "      <th>kasA_NF_indel</th>\n",
       "      <th>ndh_NC_snp</th>\n",
       "      <th>rrl_F_indel</th>\n",
       "      <th>pncA_F_indel</th>\n",
       "      <th>fabG1-inhA_NC_snp</th>\n",
       "      <th>rpsA_NC_snp</th>\n",
       "      <th>embA_F_indel</th>\n",
       "      <th>thyA_C_snp</th>\n",
       "      <th>ahpC_NC_snp</th>\n",
       "      <th>ahpC_C_snp</th>\n",
       "      <th>gid_C_snp</th>\n",
       "      <th>iniA_C_snp</th>\n",
       "      <th>gyrB_F_indel</th>\n",
       "      <th>embC_C_snp</th>\n",
       "      <th>eis_NC_snp</th>\n",
       "      <th>rpsA_C_snp</th>\n",
       "      <th>rrl-rrs_NC_snp</th>\n",
       "      <th>PZA</th>\n",
       "    </tr>\n",
       "  </thead>\n",
       "  <tbody>\n",
       "    <tr>\n",
       "      <th>0</th>\n",
       "      <td>0</td>\n",
       "      <td>0</td>\n",
       "      <td>0</td>\n",
       "      <td>0</td>\n",
       "      <td>0</td>\n",
       "      <td>0</td>\n",
       "      <td>1</td>\n",
       "      <td>0</td>\n",
       "      <td>0</td>\n",
       "      <td>0</td>\n",
       "      <td>0</td>\n",
       "      <td>0</td>\n",
       "      <td>0</td>\n",
       "      <td>0</td>\n",
       "      <td>0</td>\n",
       "      <td>0</td>\n",
       "      <td>0</td>\n",
       "      <td>0</td>\n",
       "      <td>0</td>\n",
       "      <td>1</td>\n",
       "      <td>0</td>\n",
       "      <td>0</td>\n",
       "      <td>0</td>\n",
       "      <td>0</td>\n",
       "      <td>0</td>\n",
       "      <td>1</td>\n",
       "      <td>0</td>\n",
       "      <td>0</td>\n",
       "      <td>0</td>\n",
       "      <td>0</td>\n",
       "      <td>0</td>\n",
       "      <td>0</td>\n",
       "      <td>0</td>\n",
       "      <td>0</td>\n",
       "      <td>0</td>\n",
       "      <td>0</td>\n",
       "      <td>0</td>\n",
       "      <td>0</td>\n",
       "      <td>0</td>\n",
       "      <td>0</td>\n",
       "      <td>...</td>\n",
       "      <td>0</td>\n",
       "      <td>1</td>\n",
       "      <td>1</td>\n",
       "      <td>0</td>\n",
       "      <td>0</td>\n",
       "      <td>0</td>\n",
       "      <td>1</td>\n",
       "      <td>0</td>\n",
       "      <td>0</td>\n",
       "      <td>0</td>\n",
       "      <td>0</td>\n",
       "      <td>1</td>\n",
       "      <td>0</td>\n",
       "      <td>1</td>\n",
       "      <td>0</td>\n",
       "      <td>0</td>\n",
       "      <td>0</td>\n",
       "      <td>0</td>\n",
       "      <td>0</td>\n",
       "      <td>0</td>\n",
       "      <td>0</td>\n",
       "      <td>1</td>\n",
       "      <td>0</td>\n",
       "      <td>0</td>\n",
       "      <td>0</td>\n",
       "      <td>1</td>\n",
       "      <td>0</td>\n",
       "      <td>1</td>\n",
       "      <td>0</td>\n",
       "      <td>0</td>\n",
       "      <td>0</td>\n",
       "      <td>0</td>\n",
       "      <td>1</td>\n",
       "      <td>0</td>\n",
       "      <td>0</td>\n",
       "      <td>0</td>\n",
       "      <td>1</td>\n",
       "      <td>1</td>\n",
       "      <td>0</td>\n",
       "      <td>0</td>\n",
       "    </tr>\n",
       "    <tr>\n",
       "      <th>1</th>\n",
       "      <td>0</td>\n",
       "      <td>0</td>\n",
       "      <td>0</td>\n",
       "      <td>0</td>\n",
       "      <td>0</td>\n",
       "      <td>0</td>\n",
       "      <td>0</td>\n",
       "      <td>1</td>\n",
       "      <td>0</td>\n",
       "      <td>0</td>\n",
       "      <td>0</td>\n",
       "      <td>0</td>\n",
       "      <td>0</td>\n",
       "      <td>0</td>\n",
       "      <td>0</td>\n",
       "      <td>0</td>\n",
       "      <td>0</td>\n",
       "      <td>0</td>\n",
       "      <td>0</td>\n",
       "      <td>1</td>\n",
       "      <td>0</td>\n",
       "      <td>0</td>\n",
       "      <td>0</td>\n",
       "      <td>0</td>\n",
       "      <td>0</td>\n",
       "      <td>1</td>\n",
       "      <td>0</td>\n",
       "      <td>0</td>\n",
       "      <td>0</td>\n",
       "      <td>0</td>\n",
       "      <td>0</td>\n",
       "      <td>0</td>\n",
       "      <td>0</td>\n",
       "      <td>0</td>\n",
       "      <td>0</td>\n",
       "      <td>0</td>\n",
       "      <td>0</td>\n",
       "      <td>0</td>\n",
       "      <td>1</td>\n",
       "      <td>0</td>\n",
       "      <td>...</td>\n",
       "      <td>1</td>\n",
       "      <td>1</td>\n",
       "      <td>1</td>\n",
       "      <td>0</td>\n",
       "      <td>0</td>\n",
       "      <td>0</td>\n",
       "      <td>1</td>\n",
       "      <td>0</td>\n",
       "      <td>0</td>\n",
       "      <td>0</td>\n",
       "      <td>0</td>\n",
       "      <td>1</td>\n",
       "      <td>0</td>\n",
       "      <td>0</td>\n",
       "      <td>0</td>\n",
       "      <td>0</td>\n",
       "      <td>0</td>\n",
       "      <td>1</td>\n",
       "      <td>0</td>\n",
       "      <td>0</td>\n",
       "      <td>0</td>\n",
       "      <td>1</td>\n",
       "      <td>0</td>\n",
       "      <td>0</td>\n",
       "      <td>0</td>\n",
       "      <td>0</td>\n",
       "      <td>0</td>\n",
       "      <td>1</td>\n",
       "      <td>0</td>\n",
       "      <td>0</td>\n",
       "      <td>0</td>\n",
       "      <td>0</td>\n",
       "      <td>0</td>\n",
       "      <td>0</td>\n",
       "      <td>0</td>\n",
       "      <td>0</td>\n",
       "      <td>1</td>\n",
       "      <td>1</td>\n",
       "      <td>0</td>\n",
       "      <td>0</td>\n",
       "    </tr>\n",
       "    <tr>\n",
       "      <th>2</th>\n",
       "      <td>0</td>\n",
       "      <td>0</td>\n",
       "      <td>0</td>\n",
       "      <td>0</td>\n",
       "      <td>0</td>\n",
       "      <td>0</td>\n",
       "      <td>0</td>\n",
       "      <td>0</td>\n",
       "      <td>1</td>\n",
       "      <td>0</td>\n",
       "      <td>0</td>\n",
       "      <td>0</td>\n",
       "      <td>0</td>\n",
       "      <td>0</td>\n",
       "      <td>0</td>\n",
       "      <td>0</td>\n",
       "      <td>0</td>\n",
       "      <td>0</td>\n",
       "      <td>0</td>\n",
       "      <td>1</td>\n",
       "      <td>0</td>\n",
       "      <td>0</td>\n",
       "      <td>0</td>\n",
       "      <td>0</td>\n",
       "      <td>0</td>\n",
       "      <td>1</td>\n",
       "      <td>0</td>\n",
       "      <td>0</td>\n",
       "      <td>0</td>\n",
       "      <td>0</td>\n",
       "      <td>0</td>\n",
       "      <td>0</td>\n",
       "      <td>0</td>\n",
       "      <td>0</td>\n",
       "      <td>0</td>\n",
       "      <td>0</td>\n",
       "      <td>0</td>\n",
       "      <td>0</td>\n",
       "      <td>1</td>\n",
       "      <td>0</td>\n",
       "      <td>...</td>\n",
       "      <td>1</td>\n",
       "      <td>1</td>\n",
       "      <td>1</td>\n",
       "      <td>0</td>\n",
       "      <td>0</td>\n",
       "      <td>0</td>\n",
       "      <td>1</td>\n",
       "      <td>0</td>\n",
       "      <td>0</td>\n",
       "      <td>0</td>\n",
       "      <td>0</td>\n",
       "      <td>1</td>\n",
       "      <td>0</td>\n",
       "      <td>0</td>\n",
       "      <td>0</td>\n",
       "      <td>0</td>\n",
       "      <td>0</td>\n",
       "      <td>0</td>\n",
       "      <td>0</td>\n",
       "      <td>1</td>\n",
       "      <td>0</td>\n",
       "      <td>1</td>\n",
       "      <td>0</td>\n",
       "      <td>0</td>\n",
       "      <td>0</td>\n",
       "      <td>0</td>\n",
       "      <td>0</td>\n",
       "      <td>1</td>\n",
       "      <td>0</td>\n",
       "      <td>0</td>\n",
       "      <td>0</td>\n",
       "      <td>1</td>\n",
       "      <td>1</td>\n",
       "      <td>1</td>\n",
       "      <td>0</td>\n",
       "      <td>0</td>\n",
       "      <td>1</td>\n",
       "      <td>1</td>\n",
       "      <td>0</td>\n",
       "      <td>0</td>\n",
       "    </tr>\n",
       "    <tr>\n",
       "      <th>3</th>\n",
       "      <td>0</td>\n",
       "      <td>0</td>\n",
       "      <td>0</td>\n",
       "      <td>0</td>\n",
       "      <td>0</td>\n",
       "      <td>0</td>\n",
       "      <td>0</td>\n",
       "      <td>0</td>\n",
       "      <td>1</td>\n",
       "      <td>0</td>\n",
       "      <td>0</td>\n",
       "      <td>0</td>\n",
       "      <td>0</td>\n",
       "      <td>0</td>\n",
       "      <td>0</td>\n",
       "      <td>0</td>\n",
       "      <td>0</td>\n",
       "      <td>0</td>\n",
       "      <td>0</td>\n",
       "      <td>0</td>\n",
       "      <td>1</td>\n",
       "      <td>0</td>\n",
       "      <td>0</td>\n",
       "      <td>0</td>\n",
       "      <td>0</td>\n",
       "      <td>1</td>\n",
       "      <td>0</td>\n",
       "      <td>0</td>\n",
       "      <td>0</td>\n",
       "      <td>0</td>\n",
       "      <td>0</td>\n",
       "      <td>0</td>\n",
       "      <td>0</td>\n",
       "      <td>0</td>\n",
       "      <td>0</td>\n",
       "      <td>0</td>\n",
       "      <td>0</td>\n",
       "      <td>0</td>\n",
       "      <td>0</td>\n",
       "      <td>0</td>\n",
       "      <td>...</td>\n",
       "      <td>0</td>\n",
       "      <td>1</td>\n",
       "      <td>1</td>\n",
       "      <td>0</td>\n",
       "      <td>0</td>\n",
       "      <td>0</td>\n",
       "      <td>1</td>\n",
       "      <td>0</td>\n",
       "      <td>0</td>\n",
       "      <td>0</td>\n",
       "      <td>0</td>\n",
       "      <td>1</td>\n",
       "      <td>0</td>\n",
       "      <td>0</td>\n",
       "      <td>0</td>\n",
       "      <td>1</td>\n",
       "      <td>0</td>\n",
       "      <td>0</td>\n",
       "      <td>0</td>\n",
       "      <td>0</td>\n",
       "      <td>0</td>\n",
       "      <td>1</td>\n",
       "      <td>0</td>\n",
       "      <td>0</td>\n",
       "      <td>0</td>\n",
       "      <td>0</td>\n",
       "      <td>0</td>\n",
       "      <td>1</td>\n",
       "      <td>0</td>\n",
       "      <td>0</td>\n",
       "      <td>0</td>\n",
       "      <td>0</td>\n",
       "      <td>0</td>\n",
       "      <td>0</td>\n",
       "      <td>0</td>\n",
       "      <td>0</td>\n",
       "      <td>1</td>\n",
       "      <td>1</td>\n",
       "      <td>0</td>\n",
       "      <td>0</td>\n",
       "    </tr>\n",
       "    <tr>\n",
       "      <th>4</th>\n",
       "      <td>0</td>\n",
       "      <td>0</td>\n",
       "      <td>0</td>\n",
       "      <td>0</td>\n",
       "      <td>0</td>\n",
       "      <td>0</td>\n",
       "      <td>0</td>\n",
       "      <td>0</td>\n",
       "      <td>0</td>\n",
       "      <td>0</td>\n",
       "      <td>0</td>\n",
       "      <td>0</td>\n",
       "      <td>0</td>\n",
       "      <td>0</td>\n",
       "      <td>0</td>\n",
       "      <td>0</td>\n",
       "      <td>0</td>\n",
       "      <td>0</td>\n",
       "      <td>0</td>\n",
       "      <td>1</td>\n",
       "      <td>0</td>\n",
       "      <td>0</td>\n",
       "      <td>0</td>\n",
       "      <td>0</td>\n",
       "      <td>0</td>\n",
       "      <td>1</td>\n",
       "      <td>0</td>\n",
       "      <td>0</td>\n",
       "      <td>0</td>\n",
       "      <td>0</td>\n",
       "      <td>0</td>\n",
       "      <td>0</td>\n",
       "      <td>0</td>\n",
       "      <td>0</td>\n",
       "      <td>0</td>\n",
       "      <td>0</td>\n",
       "      <td>0</td>\n",
       "      <td>0</td>\n",
       "      <td>1</td>\n",
       "      <td>0</td>\n",
       "      <td>...</td>\n",
       "      <td>1</td>\n",
       "      <td>1</td>\n",
       "      <td>0</td>\n",
       "      <td>0</td>\n",
       "      <td>0</td>\n",
       "      <td>0</td>\n",
       "      <td>1</td>\n",
       "      <td>0</td>\n",
       "      <td>0</td>\n",
       "      <td>1</td>\n",
       "      <td>0</td>\n",
       "      <td>1</td>\n",
       "      <td>0</td>\n",
       "      <td>0</td>\n",
       "      <td>0</td>\n",
       "      <td>0</td>\n",
       "      <td>0</td>\n",
       "      <td>0</td>\n",
       "      <td>0</td>\n",
       "      <td>0</td>\n",
       "      <td>0</td>\n",
       "      <td>1</td>\n",
       "      <td>0</td>\n",
       "      <td>0</td>\n",
       "      <td>0</td>\n",
       "      <td>0</td>\n",
       "      <td>0</td>\n",
       "      <td>1</td>\n",
       "      <td>0</td>\n",
       "      <td>0</td>\n",
       "      <td>0</td>\n",
       "      <td>0</td>\n",
       "      <td>0</td>\n",
       "      <td>0</td>\n",
       "      <td>0</td>\n",
       "      <td>0</td>\n",
       "      <td>1</td>\n",
       "      <td>1</td>\n",
       "      <td>0</td>\n",
       "      <td>0</td>\n",
       "    </tr>\n",
       "    <tr>\n",
       "      <th>...</th>\n",
       "      <td>...</td>\n",
       "      <td>...</td>\n",
       "      <td>...</td>\n",
       "      <td>...</td>\n",
       "      <td>...</td>\n",
       "      <td>...</td>\n",
       "      <td>...</td>\n",
       "      <td>...</td>\n",
       "      <td>...</td>\n",
       "      <td>...</td>\n",
       "      <td>...</td>\n",
       "      <td>...</td>\n",
       "      <td>...</td>\n",
       "      <td>...</td>\n",
       "      <td>...</td>\n",
       "      <td>...</td>\n",
       "      <td>...</td>\n",
       "      <td>...</td>\n",
       "      <td>...</td>\n",
       "      <td>...</td>\n",
       "      <td>...</td>\n",
       "      <td>...</td>\n",
       "      <td>...</td>\n",
       "      <td>...</td>\n",
       "      <td>...</td>\n",
       "      <td>...</td>\n",
       "      <td>...</td>\n",
       "      <td>...</td>\n",
       "      <td>...</td>\n",
       "      <td>...</td>\n",
       "      <td>...</td>\n",
       "      <td>...</td>\n",
       "      <td>...</td>\n",
       "      <td>...</td>\n",
       "      <td>...</td>\n",
       "      <td>...</td>\n",
       "      <td>...</td>\n",
       "      <td>...</td>\n",
       "      <td>...</td>\n",
       "      <td>...</td>\n",
       "      <td>...</td>\n",
       "      <td>...</td>\n",
       "      <td>...</td>\n",
       "      <td>...</td>\n",
       "      <td>...</td>\n",
       "      <td>...</td>\n",
       "      <td>...</td>\n",
       "      <td>...</td>\n",
       "      <td>...</td>\n",
       "      <td>...</td>\n",
       "      <td>...</td>\n",
       "      <td>...</td>\n",
       "      <td>...</td>\n",
       "      <td>...</td>\n",
       "      <td>...</td>\n",
       "      <td>...</td>\n",
       "      <td>...</td>\n",
       "      <td>...</td>\n",
       "      <td>...</td>\n",
       "      <td>...</td>\n",
       "      <td>...</td>\n",
       "      <td>...</td>\n",
       "      <td>...</td>\n",
       "      <td>...</td>\n",
       "      <td>...</td>\n",
       "      <td>...</td>\n",
       "      <td>...</td>\n",
       "      <td>...</td>\n",
       "      <td>...</td>\n",
       "      <td>...</td>\n",
       "      <td>...</td>\n",
       "      <td>...</td>\n",
       "      <td>...</td>\n",
       "      <td>...</td>\n",
       "      <td>...</td>\n",
       "      <td>...</td>\n",
       "      <td>...</td>\n",
       "      <td>...</td>\n",
       "      <td>...</td>\n",
       "      <td>...</td>\n",
       "      <td>...</td>\n",
       "    </tr>\n",
       "    <tr>\n",
       "      <th>3387</th>\n",
       "      <td>0</td>\n",
       "      <td>0</td>\n",
       "      <td>0</td>\n",
       "      <td>0</td>\n",
       "      <td>0</td>\n",
       "      <td>0</td>\n",
       "      <td>0</td>\n",
       "      <td>0</td>\n",
       "      <td>0</td>\n",
       "      <td>0</td>\n",
       "      <td>0</td>\n",
       "      <td>0</td>\n",
       "      <td>0</td>\n",
       "      <td>0</td>\n",
       "      <td>0</td>\n",
       "      <td>0</td>\n",
       "      <td>0</td>\n",
       "      <td>1</td>\n",
       "      <td>0</td>\n",
       "      <td>0</td>\n",
       "      <td>0</td>\n",
       "      <td>0</td>\n",
       "      <td>0</td>\n",
       "      <td>0</td>\n",
       "      <td>0</td>\n",
       "      <td>0</td>\n",
       "      <td>0</td>\n",
       "      <td>0</td>\n",
       "      <td>0</td>\n",
       "      <td>0</td>\n",
       "      <td>0</td>\n",
       "      <td>1</td>\n",
       "      <td>0</td>\n",
       "      <td>0</td>\n",
       "      <td>0</td>\n",
       "      <td>0</td>\n",
       "      <td>0</td>\n",
       "      <td>0</td>\n",
       "      <td>0</td>\n",
       "      <td>0</td>\n",
       "      <td>...</td>\n",
       "      <td>1</td>\n",
       "      <td>0</td>\n",
       "      <td>0</td>\n",
       "      <td>0</td>\n",
       "      <td>0</td>\n",
       "      <td>0</td>\n",
       "      <td>0</td>\n",
       "      <td>0</td>\n",
       "      <td>1</td>\n",
       "      <td>0</td>\n",
       "      <td>0</td>\n",
       "      <td>0</td>\n",
       "      <td>0</td>\n",
       "      <td>1</td>\n",
       "      <td>0</td>\n",
       "      <td>1</td>\n",
       "      <td>0</td>\n",
       "      <td>1</td>\n",
       "      <td>0</td>\n",
       "      <td>0</td>\n",
       "      <td>0</td>\n",
       "      <td>0</td>\n",
       "      <td>0</td>\n",
       "      <td>0</td>\n",
       "      <td>0</td>\n",
       "      <td>0</td>\n",
       "      <td>0</td>\n",
       "      <td>0</td>\n",
       "      <td>0</td>\n",
       "      <td>0</td>\n",
       "      <td>0</td>\n",
       "      <td>0</td>\n",
       "      <td>1</td>\n",
       "      <td>0</td>\n",
       "      <td>0</td>\n",
       "      <td>0</td>\n",
       "      <td>0</td>\n",
       "      <td>0</td>\n",
       "      <td>0</td>\n",
       "      <td>0</td>\n",
       "    </tr>\n",
       "    <tr>\n",
       "      <th>3388</th>\n",
       "      <td>0</td>\n",
       "      <td>0</td>\n",
       "      <td>0</td>\n",
       "      <td>0</td>\n",
       "      <td>0</td>\n",
       "      <td>0</td>\n",
       "      <td>0</td>\n",
       "      <td>0</td>\n",
       "      <td>0</td>\n",
       "      <td>0</td>\n",
       "      <td>0</td>\n",
       "      <td>0</td>\n",
       "      <td>0</td>\n",
       "      <td>0</td>\n",
       "      <td>0</td>\n",
       "      <td>0</td>\n",
       "      <td>0</td>\n",
       "      <td>0</td>\n",
       "      <td>0</td>\n",
       "      <td>0</td>\n",
       "      <td>0</td>\n",
       "      <td>0</td>\n",
       "      <td>0</td>\n",
       "      <td>0</td>\n",
       "      <td>0</td>\n",
       "      <td>0</td>\n",
       "      <td>0</td>\n",
       "      <td>0</td>\n",
       "      <td>0</td>\n",
       "      <td>0</td>\n",
       "      <td>0</td>\n",
       "      <td>0</td>\n",
       "      <td>0</td>\n",
       "      <td>0</td>\n",
       "      <td>0</td>\n",
       "      <td>0</td>\n",
       "      <td>0</td>\n",
       "      <td>0</td>\n",
       "      <td>0</td>\n",
       "      <td>0</td>\n",
       "      <td>...</td>\n",
       "      <td>1</td>\n",
       "      <td>0</td>\n",
       "      <td>0</td>\n",
       "      <td>0</td>\n",
       "      <td>0</td>\n",
       "      <td>0</td>\n",
       "      <td>0</td>\n",
       "      <td>0</td>\n",
       "      <td>0</td>\n",
       "      <td>0</td>\n",
       "      <td>0</td>\n",
       "      <td>0</td>\n",
       "      <td>0</td>\n",
       "      <td>0</td>\n",
       "      <td>0</td>\n",
       "      <td>0</td>\n",
       "      <td>0</td>\n",
       "      <td>0</td>\n",
       "      <td>0</td>\n",
       "      <td>1</td>\n",
       "      <td>0</td>\n",
       "      <td>0</td>\n",
       "      <td>0</td>\n",
       "      <td>0</td>\n",
       "      <td>0</td>\n",
       "      <td>1</td>\n",
       "      <td>0</td>\n",
       "      <td>0</td>\n",
       "      <td>0</td>\n",
       "      <td>0</td>\n",
       "      <td>0</td>\n",
       "      <td>0</td>\n",
       "      <td>0</td>\n",
       "      <td>0</td>\n",
       "      <td>0</td>\n",
       "      <td>0</td>\n",
       "      <td>0</td>\n",
       "      <td>0</td>\n",
       "      <td>0</td>\n",
       "      <td>1</td>\n",
       "    </tr>\n",
       "    <tr>\n",
       "      <th>3389</th>\n",
       "      <td>0</td>\n",
       "      <td>0</td>\n",
       "      <td>0</td>\n",
       "      <td>0</td>\n",
       "      <td>0</td>\n",
       "      <td>0</td>\n",
       "      <td>0</td>\n",
       "      <td>0</td>\n",
       "      <td>0</td>\n",
       "      <td>0</td>\n",
       "      <td>0</td>\n",
       "      <td>0</td>\n",
       "      <td>0</td>\n",
       "      <td>0</td>\n",
       "      <td>0</td>\n",
       "      <td>0</td>\n",
       "      <td>0</td>\n",
       "      <td>1</td>\n",
       "      <td>0</td>\n",
       "      <td>0</td>\n",
       "      <td>0</td>\n",
       "      <td>0</td>\n",
       "      <td>0</td>\n",
       "      <td>0</td>\n",
       "      <td>0</td>\n",
       "      <td>0</td>\n",
       "      <td>0</td>\n",
       "      <td>0</td>\n",
       "      <td>0</td>\n",
       "      <td>0</td>\n",
       "      <td>0</td>\n",
       "      <td>0</td>\n",
       "      <td>0</td>\n",
       "      <td>0</td>\n",
       "      <td>0</td>\n",
       "      <td>0</td>\n",
       "      <td>0</td>\n",
       "      <td>0</td>\n",
       "      <td>0</td>\n",
       "      <td>0</td>\n",
       "      <td>...</td>\n",
       "      <td>1</td>\n",
       "      <td>0</td>\n",
       "      <td>0</td>\n",
       "      <td>0</td>\n",
       "      <td>0</td>\n",
       "      <td>0</td>\n",
       "      <td>0</td>\n",
       "      <td>0</td>\n",
       "      <td>0</td>\n",
       "      <td>0</td>\n",
       "      <td>0</td>\n",
       "      <td>0</td>\n",
       "      <td>0</td>\n",
       "      <td>0</td>\n",
       "      <td>0</td>\n",
       "      <td>0</td>\n",
       "      <td>0</td>\n",
       "      <td>0</td>\n",
       "      <td>0</td>\n",
       "      <td>0</td>\n",
       "      <td>0</td>\n",
       "      <td>0</td>\n",
       "      <td>0</td>\n",
       "      <td>0</td>\n",
       "      <td>0</td>\n",
       "      <td>0</td>\n",
       "      <td>0</td>\n",
       "      <td>0</td>\n",
       "      <td>0</td>\n",
       "      <td>0</td>\n",
       "      <td>0</td>\n",
       "      <td>0</td>\n",
       "      <td>0</td>\n",
       "      <td>0</td>\n",
       "      <td>0</td>\n",
       "      <td>0</td>\n",
       "      <td>0</td>\n",
       "      <td>0</td>\n",
       "      <td>0</td>\n",
       "      <td>1</td>\n",
       "    </tr>\n",
       "    <tr>\n",
       "      <th>3391</th>\n",
       "      <td>0</td>\n",
       "      <td>0</td>\n",
       "      <td>0</td>\n",
       "      <td>0</td>\n",
       "      <td>0</td>\n",
       "      <td>0</td>\n",
       "      <td>0</td>\n",
       "      <td>0</td>\n",
       "      <td>0</td>\n",
       "      <td>0</td>\n",
       "      <td>0</td>\n",
       "      <td>0</td>\n",
       "      <td>0</td>\n",
       "      <td>0</td>\n",
       "      <td>0</td>\n",
       "      <td>0</td>\n",
       "      <td>0</td>\n",
       "      <td>1</td>\n",
       "      <td>0</td>\n",
       "      <td>0</td>\n",
       "      <td>0</td>\n",
       "      <td>0</td>\n",
       "      <td>0</td>\n",
       "      <td>0</td>\n",
       "      <td>0</td>\n",
       "      <td>0</td>\n",
       "      <td>0</td>\n",
       "      <td>0</td>\n",
       "      <td>0</td>\n",
       "      <td>0</td>\n",
       "      <td>0</td>\n",
       "      <td>0</td>\n",
       "      <td>0</td>\n",
       "      <td>0</td>\n",
       "      <td>0</td>\n",
       "      <td>0</td>\n",
       "      <td>0</td>\n",
       "      <td>0</td>\n",
       "      <td>0</td>\n",
       "      <td>0</td>\n",
       "      <td>...</td>\n",
       "      <td>0</td>\n",
       "      <td>0</td>\n",
       "      <td>0</td>\n",
       "      <td>0</td>\n",
       "      <td>0</td>\n",
       "      <td>0</td>\n",
       "      <td>0</td>\n",
       "      <td>0</td>\n",
       "      <td>0</td>\n",
       "      <td>0</td>\n",
       "      <td>0</td>\n",
       "      <td>0</td>\n",
       "      <td>0</td>\n",
       "      <td>0</td>\n",
       "      <td>0</td>\n",
       "      <td>0</td>\n",
       "      <td>0</td>\n",
       "      <td>0</td>\n",
       "      <td>0</td>\n",
       "      <td>0</td>\n",
       "      <td>0</td>\n",
       "      <td>0</td>\n",
       "      <td>0</td>\n",
       "      <td>0</td>\n",
       "      <td>0</td>\n",
       "      <td>0</td>\n",
       "      <td>0</td>\n",
       "      <td>0</td>\n",
       "      <td>0</td>\n",
       "      <td>0</td>\n",
       "      <td>0</td>\n",
       "      <td>0</td>\n",
       "      <td>0</td>\n",
       "      <td>0</td>\n",
       "      <td>0</td>\n",
       "      <td>0</td>\n",
       "      <td>0</td>\n",
       "      <td>0</td>\n",
       "      <td>0</td>\n",
       "      <td>1</td>\n",
       "    </tr>\n",
       "    <tr>\n",
       "      <th>3392</th>\n",
       "      <td>0</td>\n",
       "      <td>0</td>\n",
       "      <td>0</td>\n",
       "      <td>0</td>\n",
       "      <td>0</td>\n",
       "      <td>0</td>\n",
       "      <td>0</td>\n",
       "      <td>0</td>\n",
       "      <td>0</td>\n",
       "      <td>0</td>\n",
       "      <td>0</td>\n",
       "      <td>0</td>\n",
       "      <td>0</td>\n",
       "      <td>0</td>\n",
       "      <td>0</td>\n",
       "      <td>0</td>\n",
       "      <td>0</td>\n",
       "      <td>1</td>\n",
       "      <td>0</td>\n",
       "      <td>0</td>\n",
       "      <td>0</td>\n",
       "      <td>0</td>\n",
       "      <td>0</td>\n",
       "      <td>0</td>\n",
       "      <td>0</td>\n",
       "      <td>0</td>\n",
       "      <td>0</td>\n",
       "      <td>0</td>\n",
       "      <td>0</td>\n",
       "      <td>0</td>\n",
       "      <td>0</td>\n",
       "      <td>0</td>\n",
       "      <td>0</td>\n",
       "      <td>0</td>\n",
       "      <td>0</td>\n",
       "      <td>0</td>\n",
       "      <td>0</td>\n",
       "      <td>0</td>\n",
       "      <td>0</td>\n",
       "      <td>0</td>\n",
       "      <td>...</td>\n",
       "      <td>0</td>\n",
       "      <td>0</td>\n",
       "      <td>0</td>\n",
       "      <td>0</td>\n",
       "      <td>0</td>\n",
       "      <td>0</td>\n",
       "      <td>0</td>\n",
       "      <td>0</td>\n",
       "      <td>0</td>\n",
       "      <td>0</td>\n",
       "      <td>0</td>\n",
       "      <td>0</td>\n",
       "      <td>0</td>\n",
       "      <td>0</td>\n",
       "      <td>0</td>\n",
       "      <td>0</td>\n",
       "      <td>0</td>\n",
       "      <td>0</td>\n",
       "      <td>0</td>\n",
       "      <td>0</td>\n",
       "      <td>0</td>\n",
       "      <td>0</td>\n",
       "      <td>0</td>\n",
       "      <td>0</td>\n",
       "      <td>0</td>\n",
       "      <td>0</td>\n",
       "      <td>0</td>\n",
       "      <td>0</td>\n",
       "      <td>0</td>\n",
       "      <td>0</td>\n",
       "      <td>0</td>\n",
       "      <td>0</td>\n",
       "      <td>0</td>\n",
       "      <td>0</td>\n",
       "      <td>0</td>\n",
       "      <td>0</td>\n",
       "      <td>0</td>\n",
       "      <td>0</td>\n",
       "      <td>0</td>\n",
       "      <td>1</td>\n",
       "    </tr>\n",
       "  </tbody>\n",
       "</table>\n",
       "<p>2941 rows × 220 columns</p>\n",
       "</div>"
      ],
      "text/plain": [
       "      DEL_CF_410280_d918T_307_iniB  ...  PZA\n",
       "0                                0  ...    0\n",
       "1                                0  ...    0\n",
       "2                                0  ...    0\n",
       "3                                0  ...    0\n",
       "4                                0  ...    0\n",
       "...                            ...  ...  ...\n",
       "3387                             0  ...    0\n",
       "3388                             0  ...    1\n",
       "3389                             0  ...    1\n",
       "3391                             0  ...    1\n",
       "3392                             0  ...    1\n",
       "\n",
       "[2941 rows x 220 columns]"
      ]
     },
     "execution_count": 7,
     "metadata": {
      "tags": []
     },
     "output_type": "execute_result"
    }
   ],
   "source": [
    "df = pd.read_csv('X_trainData_1.csv')\n",
    "df1 = pd.read_csv('Y_trainData_1.csv')\n",
    "\n",
    "#Dropping this columns as these columns contain -1.\n",
    "df.drop('SNP_CN_2714366_C967A_V323L_eis',axis=1,inplace=True)\n",
    "df.drop('SNP_I_2713795_C329T_inter_Rv2415c_eis',axis=1,inplace=True)\n",
    "df.drop('SNP_I_2713872_C252A_inter_Rv2415c_eis',axis=1,inplace=True)\n",
    "count=0\n",
    "\n",
    "#Dropping the training data whose corresponding target variable is -1.\n",
    "for ind in df1.index:\n",
    "  x = df1['PZA'][ind]\n",
    "  if x == -1:\n",
    "    count+=1\n",
    "    df.drop(index=ind,inplace=True)\n",
    "    df1.drop(index=ind,inplace=True)\n",
    "print(count)\n",
    "df['PZA'] = df1['PZA']\n",
    "df"
   ]
  },
  {
   "cell_type": "code",
   "execution_count": null,
   "metadata": {
    "id": "2JOrk4jV8Ksh"
   },
   "outputs": [],
   "source": [
    "## Correlation\n",
    "#Trying to find the correlation between the feature columns and the target variable for Dimensionality Reduction.Didn't workout\n",
    "'''\n",
    "import seaborn as sns\n",
    "import matplotlib.pyplot as plt\n",
    "#get correlations of each features in dataset\n",
    "corrmat = df.corr()\n",
    "top_corr_features = corrmat.index\n",
    "plt.figure(figsize=(20,20))\n",
    "#plot heat map\n",
    "g=sns.heatmap(df[top_corr_features].corr(),annot=True,cmap=\"RdYlGn\")\n",
    "correlation = corrmat['PZA'].sort_values()\n",
    "correlation = correlation.iloc[:10]\n",
    "df = df.drop(columns=correlation.index,axis=1)'''"
   ]
  },
  {
   "cell_type": "code",
   "execution_count": null,
   "metadata": {
    "id": "2o6jFCai7j5a"
   },
   "outputs": [],
   "source": [
    "#Sampling the dataset to make a test set containing 20% 1 labels and 20% 0 labels.Saving these test set in test.csv\n",
    "\n",
    "'''from sklearn.utils import resample\n",
    "df['PZA'] = df1['PZA']\n",
    "df_majority = df[df['PZA']==1]\n",
    "df_minority = df[df['PZA']==0]\n",
    "\n",
    "test_data = resample(df_majority, \n",
    "                                 replace=False,    # sample without replacement\n",
    "                                 n_samples=459,     # to match minority class\n",
    "                                 random_state=42) # reproducible results\n",
    "\n",
    "test_data1 = resample(df_minority, \n",
    "                                 replace=False,    # sample without replacement\n",
    "                                 n_samples=69,     # to match minority class\n",
    "                                 random_state=42)\n",
    "                                  # reproducible results\n",
    "\n",
    "test = test_data.append(test_data1)\n",
    "test.to_csv('test.csv',index=None)\n",
    "df_majority = df_majority.drop(test_data.index)\n",
    "df_minority = df_minority.drop(test_data1.index)'''\n"
   ]
  },
  {
   "cell_type": "code",
   "execution_count": null,
   "metadata": {
    "colab": {
     "base_uri": "https://localhost:8080/",
     "height": 35
    },
    "id": "70qAWgTqR3Li",
    "outputId": "976c7fae-bcaa-464c-b237-990107bb792b"
   },
   "outputs": [
    {
     "data": {
      "text/plain": [
       "((626, 220), (626, 220), (535, 220))"
      ]
     },
     "execution_count": 19,
     "metadata": {
      "tags": []
     },
     "output_type": "execute_result"
    }
   ],
   "source": [
    "#Breaking the dataset into 3 parts for ensemble method\n",
    "'''df_majority_downsampled1 = resample(df_majority, \n",
    "                                 replace=False,    # sample without replacement\n",
    "                                 n_samples=626,     # to match minority class\n",
    "                                 random_state=1) # reproducible results\n",
    "temp = pd.DataFrame()\n",
    "temp = temp.append(df_majority_downsampled1)\n",
    "df_majority_downsampled2 = resample(df_majority.drop(temp.index), \n",
    "                                 replace=False,    # sample without replacement\n",
    "                                 n_samples=626,     # to match minority class\n",
    "                                 random_state=1) # reproducible results\n",
    "\n",
    "temp = temp.append(df_majority_downsampled2)\n",
    "df_majority_downsampled3 = df_majority.drop(temp.index)\n",
    "\n",
    "df_majority_downsampled1.shape,df_majority_downsampled2.shape,df_majority_downsampled3.shape'''"
   ]
  },
  {
   "cell_type": "code",
   "execution_count": null,
   "metadata": {
    "id": "5A05hOqclbhV"
   },
   "outputs": [],
   "source": [
    "#Making the dataset for the 3 classifiers containing approximately equal amount of data of label '1' and label '0\n",
    "'''traindata1 = pd.DataFrame()\n",
    "traindata1 = traindata1.append(df_majority_downsampled1)\n",
    "traindata1 = traindata1.append(df_minority)\n",
    "y1 = traindata1['PZA']\n",
    "traindata1.drop(['PZA'],axis=1,inplace=True)\n",
    "\n",
    "traindata2 = pd.DataFrame()\n",
    "traindata2 = traindata2.append(df_majority_downsampled2)\n",
    "traindata2 = traindata2.append(df_minority)\n",
    "y2 = traindata2['PZA']\n",
    "traindata2.drop(['PZA'],axis=1,inplace=True)\n",
    "\n",
    "traindata3 = pd.DataFrame()\n",
    "traindata3 = traindata3.append(df_majority_downsampled3)\n",
    "traindata3 = traindata3.append(df_minority)\n",
    "y3 = traindata3['PZA']\n",
    "traindata3.drop(['PZA'],axis=1,inplace=True)'''"
   ]
  },
  {
   "cell_type": "code",
   "execution_count": null,
   "metadata": {
    "id": "dKbunugxroYS"
   },
   "outputs": [],
   "source": []
  },
  {
   "cell_type": "code",
   "execution_count": null,
   "metadata": {
    "id": "V6SCqq-EmPg1"
   },
   "outputs": [],
   "source": [
    "from sklearn.linear_model import LogisticRegression\n",
    "from sklearn.svm import SVC\n",
    "from sklearn.ensemble import RandomForestClassifier\n",
    "from sklearn.tree import DecisionTreeClassifier\n",
    "from xgboost import XGBClassifier\n",
    "from sklearn.model_selection import StratifiedShuffleSplit\n",
    "from sklearn.metrics import classification_report,confusion_matrix\n",
    "from sklearn.model_selection import cross_val_score\n",
    "import numpy as np\n",
    "import pickle"
   ]
  },
  {
   "cell_type": "code",
   "execution_count": null,
   "metadata": {
    "colab": {
     "base_uri": "https://localhost:8080/",
     "height": 35
    },
    "id": "MInWiWmFn_4Z",
    "outputId": "a96b87df-616f-476e-de47-1c5d1a003cad"
   },
   "outputs": [
    {
     "data": {
      "text/plain": [
       "((2646, 219), (295, 219))"
      ]
     },
     "execution_count": 9,
     "metadata": {
      "tags": []
     },
     "output_type": "execute_result"
    }
   ],
   "source": [
    "#Making the train and test split of the whole dataset for trying the different ML models\n",
    "ss = StratifiedShuffleSplit(n_splits=1,test_size=0.1,random_state=42)\n",
    "\n",
    "traindata1 = df.drop(columns=['PZA'],axis=1)\n",
    "y1 = df['PZA']\n",
    "\n",
    "for train_index, test_index in ss.split(traindata1,y1):\n",
    "  #print(\"TRAIN:\", train_index, \"TEST:\", test_index)\n",
    "  X_train, X_test = traindata1.iloc[train_index], traindata1.iloc[test_index]\n",
    "  y_train, y_test = y1.iloc[train_index], y1.iloc[test_index]\n",
    "\n",
    "X_train.shape,X_test.shape"
   ]
  },
  {
   "cell_type": "code",
   "execution_count": null,
   "metadata": {
    "colab": {
     "base_uri": "https://localhost:8080/",
     "height": 71
    },
    "id": "Bksd35WTyc5t",
    "outputId": "d81888f2-1ffa-4ea8-911f-0e4c4f820d87"
   },
   "outputs": [
    {
     "data": {
      "text/plain": [
       "1    2021\n",
       "0     625\n",
       "Name: PZA, dtype: int64"
      ]
     },
     "execution_count": 9,
     "metadata": {
      "tags": []
     },
     "output_type": "execute_result"
    }
   ],
   "source": [
    "y_train.value_counts()"
   ]
  },
  {
   "cell_type": "code",
   "execution_count": null,
   "metadata": {
    "id": "V8RLxU87yhhH"
   },
   "outputs": [],
   "source": [
    "## Hyper Parameter Optimization\n",
    "\n",
    "params={\n",
    " \"learning_rate\"    : [0.01,0.03,0.05, 0.10, 0.15, 0.20, 0.25, 0.30,0.35,0.4] ,\n",
    " \"max_depth\"        : [ 3, 4, 5, 6, 8, 10, 12, 15],\n",
    " \"min_child_weight\" : [ 1, 3, 5, 7 ],\n",
    " \"gamma\"            : [ 0.0, 0.1, 0.2 , 0.3, 0.4 ],\n",
    " \"colsample_bytree\" : [ 0.3, 0.4, 0.5 , 0.7 ],\n",
    " 'n_estimators'     : [50,60,70,80,85,90,100,110,120,150,170,190,200,250,300,350,370,400]   \n",
    "}\n",
    "params1 = {\n",
    "    'C' :[0.1,0.2,0.3,0.4,0.5,0.6,0.7,0.8,1,1,2,1,3,1,5,1.6,1.7,1.9,2,2.2,2.4,2.6,2.8,3,3.2,3.4],\n",
    "   'kernel' : ['linear','rbf','sigmoid'],\n",
    "    'class_weight':['balanced',''],\n",
    "  'decision_function_shape':['ovo', 'ovr']\n",
    "}\n",
    "params2 = {\n",
    "    'C' :[0.1,0.2,0.3,0.4,0.5,0.6,0.7,0.8,1,1,2,1,3,1,5,1.6,1.7,1.9],\n",
    "    'class_weight':['balanced',''],\n",
    "    'solver':['newton-cg', 'lbfgs', 'liblinear', 'sag', 'saga'],\n",
    "    'max_iter':[20,40,60,80,100,120,140,180,200,230,250,270,300]\n",
    "}\n",
    "params3 = {\n",
    " \"max_depth\"        : [ 3, 4, 5, 6, 8, 10, 12,14, 15,16,18,20],\n",
    " 'n_estimators'     : [50,60,70,80,85,90,100,110,120,150,170,190,200,250,300,350]   \n",
    "}"
   ]
  },
  {
   "cell_type": "code",
   "execution_count": null,
   "metadata": {
    "id": "IGKGAfEvy_-J"
   },
   "outputs": [],
   "source": [
    "classifier= RandomForestClassifier(random_state=0)\n",
    "random_search=RandomizedSearchCV(classifier,param_distributions=params2,n_iter=15,scoring='roc_auc',\n",
    "                                 n_jobs=-1,cv=2,verbose=3)\n",
    "\n",
    "grid_search=GridSearchCV(classifier,param_grid=params3,scoring='roc_auc',\n",
    "                                 n_jobs=-1,cv=2,verbose=3)"
   ]
  },
  {
   "cell_type": "code",
   "execution_count": null,
   "metadata": {
    "id": "zi90QuSVzCxH"
   },
   "outputs": [],
   "source": [
    "grid_search.fit(X_train,y_train)"
   ]
  },
  {
   "cell_type": "code",
   "execution_count": null,
   "metadata": {
    "id": "QVfobh6ozFtp"
   },
   "outputs": [],
   "source": [
    "print(grid_search.best_estimator_)#This prints out the classifier with its optimal hyperparameters for the given dataset. \n",
    "grid_search.best_score_#This prints out the best score the classifer can get on the given data."
   ]
  },
  {
   "cell_type": "code",
   "execution_count": null,
   "metadata": {
    "colab": {
     "base_uri": "https://localhost:8080/",
     "height": 289
    },
    "id": "jvbmdY3Ts5VM",
    "outputId": "92d62117-775e-4da9-a01b-1c29918ad5dd"
   },
   "outputs": [
    {
     "name": "stdout",
     "output_type": "stream",
     "text": [
      "0.9016949152542373\n",
      "[[ 65   5]\n",
      " [ 24 201]]\n",
      "              precision    recall  f1-score   support\n",
      "\n",
      "           0       0.73      0.93      0.82        70\n",
      "           1       0.98      0.89      0.93       225\n",
      "\n",
      "    accuracy                           0.90       295\n",
      "   macro avg       0.85      0.91      0.88       295\n",
      "weighted avg       0.92      0.90      0.91       295\n",
      "\n"
     ]
    },
    {
     "name": "stderr",
     "output_type": "stream",
     "text": [
      "/usr/local/lib/python3.6/dist-packages/sklearn/linear_model/_sag.py:330: ConvergenceWarning: The max_iter was reached which means the coef_ did not converge\n",
      "  \"the coef_ did not converge\", ConvergenceWarning)\n"
     ]
    }
   ],
   "source": [
    "lr = LogisticRegression(C=1.7, class_weight='balanced',max_iter=20,\n",
    "                    solver='saga')\n",
    "lr.fit(X_train, y_train)\n",
    "print(lr.score(X_test, y_test))\n",
    "\n",
    "y_pred = lr.predict(X_test)\n",
    "print(confusion_matrix(y_test,y_pred))\n",
    "print(classification_report(y_test,y_pred))"
   ]
  },
  {
   "cell_type": "code",
   "execution_count": null,
   "metadata": {
    "colab": {
     "base_uri": "https://localhost:8080/",
     "height": 233
    },
    "id": "8mgkZJjGtGC4",
    "outputId": "d9f54884-11ec-4c4b-f15a-e0fffc509ac5"
   },
   "outputs": [
    {
     "name": "stdout",
     "output_type": "stream",
     "text": [
      "0.9254237288135593\n",
      "[[ 59  11]\n",
      " [ 11 214]]\n",
      "              precision    recall  f1-score   support\n",
      "\n",
      "           0       0.84      0.84      0.84        70\n",
      "           1       0.95      0.95      0.95       225\n",
      "\n",
      "    accuracy                           0.93       295\n",
      "   macro avg       0.90      0.90      0.90       295\n",
      "weighted avg       0.93      0.93      0.93       295\n",
      "\n"
     ]
    }
   ],
   "source": [
    "svm = SVC(C=0.5,class_weight='',probability=True)\n",
    "svm.fit(X_train, y_train)\n",
    "print(svm.score(X_test, y_test))\n",
    "\n",
    "y_pred = svm.predict(X_test)\n",
    "print(confusion_matrix(y_test,y_pred))\n",
    "print(classification_report(y_test,y_pred))"
   ]
  },
  {
   "cell_type": "code",
   "execution_count": null,
   "metadata": {
    "colab": {
     "base_uri": "https://localhost:8080/",
     "height": 233
    },
    "id": "U4ONxOlXtLXj",
    "outputId": "74342dde-1b89-46da-ace9-e1ad7cb9ab75"
   },
   "outputs": [
    {
     "name": "stdout",
     "output_type": "stream",
     "text": [
      "0.9288135593220339\n",
      "[[ 60  10]\n",
      " [ 11 214]]\n",
      "              precision    recall  f1-score   support\n",
      "\n",
      "           0       0.85      0.86      0.85        70\n",
      "           1       0.96      0.95      0.95       225\n",
      "\n",
      "    accuracy                           0.93       295\n",
      "   macro avg       0.90      0.90      0.90       295\n",
      "weighted avg       0.93      0.93      0.93       295\n",
      "\n"
     ]
    }
   ],
   "source": [
    "rf = RandomForestClassifier(n_estimators=55,max_depth=15,random_state=0)\n",
    "rf.fit(X_train, y_train)\n",
    "print(rf.score(X_test, y_test))\n",
    "\n",
    "y_pred = rf.predict(X_test)\n",
    "print(confusion_matrix(y_test,y_pred))\n",
    "print(classification_report(y_test,y_pred))"
   ]
  },
  {
   "cell_type": "code",
   "execution_count": null,
   "metadata": {
    "colab": {
     "base_uri": "https://localhost:8080/",
     "height": 233
    },
    "id": "qjVzooRBulxS",
    "outputId": "b6d0eca9-3550-4dfd-e485-dacffce5276e"
   },
   "outputs": [
    {
     "name": "stdout",
     "output_type": "stream",
     "text": [
      "0.9389830508474576\n",
      "[[ 58  12]\n",
      " [  6 219]]\n",
      "              precision    recall  f1-score   support\n",
      "\n",
      "           0       0.91      0.83      0.87        70\n",
      "           1       0.95      0.97      0.96       225\n",
      "\n",
      "    accuracy                           0.94       295\n",
      "   macro avg       0.93      0.90      0.91       295\n",
      "weighted avg       0.94      0.94      0.94       295\n",
      "\n"
     ]
    }
   ],
   "source": [
    "xf = XGBClassifier(n_estimators=50,max_depth=4,learning_rate=0.1)\n",
    "                  \n",
    "xf.fit(X_train, y_train)\n",
    "print(xf.score(X_test, y_test))\n",
    "\n",
    "y_pred = xf.predict(X_test)\n",
    "print(confusion_matrix(y_test,y_pred))\n",
    "print(classification_report(y_test,y_pred))"
   ]
  },
  {
   "cell_type": "markdown",
   "metadata": {
    "id": "VVtdiOMLuu3i"
   },
   "source": [
    "**Trying Ensemble Method**"
   ]
  },
  {
   "cell_type": "code",
   "execution_count": null,
   "metadata": {
    "colab": {
     "base_uri": "https://localhost:8080/",
     "height": 215
    },
    "id": "pJFoW1UbfLh3",
    "outputId": "136f79ca-74bb-44bc-e9ca-72769c41da6d"
   },
   "outputs": [
    {
     "name": "stdout",
     "output_type": "stream",
     "text": [
      "[[ 64   5]\n",
      " [ 39 420]]\n",
      "              precision    recall  f1-score   support\n",
      "\n",
      "           0       0.62      0.93      0.74        69\n",
      "           1       0.99      0.92      0.95       459\n",
      "\n",
      "    accuracy                           0.92       528\n",
      "   macro avg       0.80      0.92      0.85       528\n",
      "weighted avg       0.94      0.92      0.92       528\n",
      "\n"
     ]
    }
   ],
   "source": [
    "tempm1 = pd.DataFrame()\n",
    "tempm1 = tempm1.append(df_majority)\n",
    "tempm1 = tempm1.append(df_minority)\n",
    "ylab1 = tempm1['PZA']\n",
    "tempm1.drop(['PZA'],axis=1,inplace=True)\n",
    "\n",
    "test1 = pd.read_csv('test.csv')\n",
    "ytest1 = test1['PZA']\n",
    "test1 = test1.drop(['PZA'],axis=1)\n",
    "\n",
    "svm1 = SVC(gamma='auto',C=2,kernel='linear')\n",
    "svm1.fit(traindata1, y1)\n",
    "\n",
    "svm2 = SVC(gamma='auto',C=0.8,kernel='linear')\n",
    "svm2.fit(traindata2, y2)\n",
    "\n",
    "svm3 = SVC(gamma='auto',C=1,kernel='linear',class_weight='balanced')\n",
    "svm3.fit(traindata3, y3)\n",
    "\n",
    "feature1 = svm1.predict(tempm1)\n",
    "feature2 = svm2.predict(tempm1)\n",
    "feature3 = svm3.predict(tempm1)\n",
    "\n",
    "feature_set = pd.DataFrame()\n",
    "feature_set['fea1'] = feature1\n",
    "feature_set['fea2'] = feature2\n",
    "feature_set['fea3'] = feature3\n",
    "\n",
    "final_svm = LogisticRegression(solver='liblinear',multi_class='auto',max_iter=300,C=1,class_weight='balanced')\n",
    "final_svm.fit(feature_set, ylab1)\n",
    "\n",
    "testfeature1 = svm1.predict(test1)\n",
    "testfeature2 = svm2.predict(test1)\n",
    "testfeature3 = svm3.predict(test1)\n",
    "\n",
    "testfeature_set = pd.DataFrame()\n",
    "testfeature_set['fea1'] = testfeature1\n",
    "testfeature_set['fea2'] = testfeature2\n",
    "testfeature_set['fea3'] = testfeature3\n",
    "\n",
    "\n",
    "y_pred1 = final_svm.predict(testfeature_set)\n",
    "\n",
    "print(confusion_matrix(ytest1,y_pred1))\n",
    "print(classification_report(ytest1,y_pred1))\n"
   ]
  },
  {
   "cell_type": "markdown",
   "metadata": {
    "id": "I7Su5KyS1RTI"
   },
   "source": [
    "**Trying Neural Net**"
   ]
  },
  {
   "cell_type": "code",
   "execution_count": null,
   "metadata": {
    "colab": {
     "base_uri": "https://localhost:8080/",
     "height": 35
    },
    "id": "7G8l4UJB1Oao",
    "outputId": "d2f66b22-22e7-4a7f-9ad3-3154c06d7110"
   },
   "outputs": [
    {
     "data": {
      "application/vnd.google.colaboratory.intrinsic+json": {
       "type": "string"
      },
      "text/plain": [
       "'2.3.0'"
      ]
     },
     "execution_count": 1,
     "metadata": {
      "tags": []
     },
     "output_type": "execute_result"
    }
   ],
   "source": [
    "import tensorflow as tf\n",
    "from sklearn.metrics import accuracy_score,roc_auc_score\n",
    "from sklearn.utils import class_weight\n",
    "from keras import optimizers\n",
    "tf.__version__\n"
   ]
  },
  {
   "cell_type": "code",
   "execution_count": null,
   "metadata": {
    "id": "mNiMaYjrDqRg"
   },
   "outputs": [],
   "source": [
    "!pip freeze > requirement.txt"
   ]
  },
  {
   "cell_type": "code",
   "execution_count": null,
   "metadata": {
    "colab": {
     "base_uri": "https://localhost:8080/",
     "height": 172
    },
    "id": "HiYsk_qn1PTD",
    "outputId": "3e4e0013-7af6-4449-f886-6940a33cb4f9"
   },
   "outputs": [
    {
     "ename": "NameError",
     "evalue": "ignored",
     "output_type": "error",
     "traceback": [
      "\u001b[0;31m---------------------------------------------------------------------------\u001b[0m",
      "\u001b[0;31mNameError\u001b[0m                                 Traceback (most recent call last)",
      "\u001b[0;32m<ipython-input-2-e20da9714e8d>\u001b[0m in \u001b[0;36m<module>\u001b[0;34m()\u001b[0m\n\u001b[0;32m----> 1\u001b[0;31m \u001b[0my_train\u001b[0m\u001b[0;34m.\u001b[0m\u001b[0mvalue_counts\u001b[0m\u001b[0;34m(\u001b[0m\u001b[0;34m)\u001b[0m\u001b[0;34m\u001b[0m\u001b[0;34m\u001b[0m\u001b[0m\n\u001b[0m",
      "\u001b[0;31mNameError\u001b[0m: name 'y_train' is not defined"
     ]
    }
   ],
   "source": [
    "y_train.value_counts()"
   ]
  },
  {
   "cell_type": "code",
   "execution_count": null,
   "metadata": {
    "id": "NCp1uDfIq9UF"
   },
   "outputs": [],
   "source": [
    "#!rm -r ./model\n",
    "!rm -r ./model1"
   ]
  },
  {
   "cell_type": "code",
   "execution_count": null,
   "metadata": {
    "id": "i6VxA6OX1Peg"
   },
   "outputs": [],
   "source": [
    "#This code is for model training\n",
    "model = tf.keras.models.Sequential([\n",
    "tf.keras.layers.InputLayer(input_shape=219),\n",
    "tf.keras.layers.Dense(128,activation='relu'),\n",
    "#tf.keras.layers.Dropout(0.1),\n",
    "#tf.keras.layers.Dense(128,activation='relu'),\n",
    "tf.keras.layers.Dense(16,activation='relu'),\n",
    "tf.keras.layers.Dense(4,activation='relu'),\n",
    "tf.keras.layers.Dense(1,activation='sigmoid'),\n",
    "])\n"
   ]
  },
  {
   "cell_type": "code",
   "execution_count": null,
   "metadata": {
    "colab": {
     "base_uri": "https://localhost:8080/",
     "height": 341
    },
    "id": "j9MuNVph1cd3",
    "outputId": "8d8166cc-007d-4f3e-bb39-63de40a4c2e2"
   },
   "outputs": [
    {
     "name": "stdout",
     "output_type": "stream",
     "text": [
      "Model: \"sequential_2\"\n",
      "_________________________________________________________________\n",
      "Layer (type)                 Output Shape              Param #   \n",
      "=================================================================\n",
      "dense_8 (Dense)              (None, 128)               28160     \n",
      "_________________________________________________________________\n",
      "dense_9 (Dense)              (None, 16)                2064      \n",
      "_________________________________________________________________\n",
      "dense_10 (Dense)             (None, 4)                 68        \n",
      "_________________________________________________________________\n",
      "dense_11 (Dense)             (None, 1)                 5         \n",
      "=================================================================\n",
      "Total params: 30,297\n",
      "Trainable params: 30,297\n",
      "Non-trainable params: 0\n",
      "_________________________________________________________________\n",
      "[2.1168     0.65462642]\n"
     ]
    },
    {
     "data": {
      "text/plain": [
       "dict"
      ]
     },
     "execution_count": 30,
     "metadata": {
      "tags": []
     },
     "output_type": "execute_result"
    }
   ],
   "source": [
    "##This code is for model training\n",
    "model.compile(loss='binary_crossentropy',optimizer=tf.keras.optimizers.Adam(),\n",
    "              )\n",
    "model.summary()\n",
    "weights = class_weight.compute_class_weight('balanced',np.unique(y_train),y_train)\n",
    "print(weights)\n",
    "temp = {0:weights[0],1:weights[1]}\n",
    "type(temp)"
   ]
  },
  {
   "cell_type": "code",
   "execution_count": null,
   "metadata": {
    "colab": {
     "base_uri": "https://localhost:8080/",
     "height": 431
    },
    "id": "_onaD4iX1coQ",
    "outputId": "f7bba6cf-0870-4a38-f592-fa25f392a5cc"
   },
   "outputs": [
    {
     "name": "stdout",
     "output_type": "stream",
     "text": [
      "Archive:  model_PZA.zip\n",
      "   creating: model/\n",
      "   creating: model/assets/\n",
      "  inflating: model/saved_model.pb    \n",
      "   creating: model/variables/\n",
      "  inflating: model/variables/variables.data-00000-of-00001  \n",
      "  inflating: model/variables/variables.index  \n",
      "Model: \"sequential_11\"\n",
      "_________________________________________________________________\n",
      "Layer (type)                 Output Shape              Param #   \n",
      "=================================================================\n",
      "dense_38 (Dense)             (None, 128)               28160     \n",
      "_________________________________________________________________\n",
      "dense_39 (Dense)             (None, 16)                2064      \n",
      "_________________________________________________________________\n",
      "dense_40 (Dense)             (None, 4)                 68        \n",
      "_________________________________________________________________\n",
      "dense_41 (Dense)             (None, 1)                 5         \n",
      "=================================================================\n",
      "Total params: 30,297\n",
      "Trainable params: 30,297\n",
      "Non-trainable params: 0\n",
      "_________________________________________________________________\n"
     ]
    }
   ],
   "source": [
    "#Load the pre-trained model by this code\n",
    "#!unzip model_PZA.zip\n",
    "#!rm model_PZA.zip\n",
    "model = tf.keras.models.load_model('./model_PZA/')\n",
    "model.summary()"
   ]
  },
  {
   "cell_type": "code",
   "execution_count": null,
   "metadata": {
    "colab": {
     "base_uri": "https://localhost:8080/",
     "height": 35
    },
    "id": "8sXsY82g1idR",
    "outputId": "fd8879e4-f0d3-4a30-d9e7-1ab6f47f4694"
   },
   "outputs": [
    {
     "name": "stdout",
     "output_type": "stream",
     "text": [
      "83/83 [==============================] - 0s 4ms/step - loss: 0.1388 - val_loss: 0.2264\n"
     ]
    }
   ],
   "source": [
    "history = model.fit(X_train,y_train,epochs=3,validation_data=(X_test,y_test))"
   ]
  },
  {
   "cell_type": "code",
   "execution_count": null,
   "metadata": {
    "colab": {
     "base_uri": "https://localhost:8080/",
     "height": 143
    },
    "id": "Bz8jDTv_1iuD",
    "outputId": "ec59c45b-7b93-41a4-de77-ceeee1430f9a"
   },
   "outputs": [
    {
     "name": "stdout",
     "output_type": "stream",
     "text": [
      "INFO:tensorflow:Assets written to: model1/assets\n",
      "  adding: model1/ (stored 0%)\n",
      "  adding: model1/assets/ (stored 0%)\n",
      "  adding: model1/variables/ (stored 0%)\n",
      "  adding: model1/variables/variables.data-00000-of-00001 (deflated 9%)\n",
      "  adding: model1/variables/variables.index (deflated 63%)\n",
      "  adding: model1/saved_model.pb (deflated 88%)\n"
     ]
    }
   ],
   "source": [
    "model.save('model_PZA')\n",
    "!zip -r model_PZA.zip ./model_PZA"
   ]
  },
  {
   "cell_type": "code",
   "execution_count": null,
   "metadata": {
    "colab": {
     "base_uri": "https://localhost:8080/",
     "height": 125
    },
    "id": "Ha493Cvn1Pph",
    "outputId": "d25cec53-f6d8-4ff4-ff7a-25137f4bcc71"
   },
   "outputs": [
    {
     "name": "stdout",
     "output_type": "stream",
     "text": [
      "(array([0, 1]), array([ 59, 236]))\n",
      "0.9584278155706727\n",
      "0.9152542372881356\n",
      "[[ 52  18]\n",
      " [  7 218]]\n",
      "0.9540317460317462\n"
     ]
    }
   ],
   "source": [
    "preds = model.predict(X_test)\n",
    "preds1 = np.where(preds>0.5,1,0)\n",
    "preds2 = np.where(model.predict(X_train)>0.5,1,0)\n",
    "print(np.unique(preds1,return_counts=True))\n",
    "print(accuracy_score(y_train,preds2))\n",
    "print(accuracy_score(y_test,preds1))\n",
    "print(confusion_matrix(y_test,preds1))\n",
    "print(roc_auc_score(y_test,preds))"
   ]
  },
  {
   "cell_type": "code",
   "execution_count": null,
   "metadata": {
    "colab": {
     "base_uri": "https://localhost:8080/",
     "height": 71
    },
    "id": "BQHYV0yyjDnw",
    "outputId": "14ab7c53-cb1d-479e-8ac5-a2c7489f2906"
   },
   "outputs": [
    {
     "name": "stdout",
     "output_type": "stream",
     "text": [
      "updating: model1.dat (deflated 63%)\n",
      "updating: model2.dat (deflated 63%)\n",
      "updating: model3.dat (deflated 70%)\n"
     ]
    }
   ],
   "source": []
  },
  {
   "cell_type": "code",
   "execution_count": null,
   "metadata": {
    "colab": {
     "base_uri": "https://localhost:8080/",
     "height": 35
    },
    "id": "JcVAuEudnwKi",
    "outputId": "630abf0d-e2e4-41ad-b523-621f0ce14393"
   },
   "outputs": [
    {
     "data": {
      "text/plain": [
       "773"
      ]
     },
     "execution_count": 21,
     "metadata": {
      "tags": []
     },
     "output_type": "execute_result"
    }
   ],
   "source": [
    "X_testdata = pd.read_csv('X_testData_1.csv')\n",
    "Y_testdata_nolabel = pd.read_csv('Y_testData_1_nolabels_PZA.csv')\n",
    "output_id = set(Y_testdata_nolabel['ID'])\n",
    "len(output_id)"
   ]
  },
  {
   "cell_type": "code",
   "execution_count": null,
   "metadata": {
    "colab": {
     "base_uri": "https://localhost:8080/",
     "height": 233
    },
    "id": "qnP-nEN6oAOy",
    "outputId": "8b8045e0-dc0b-404a-ac1c-386aedb9ad29"
   },
   "outputs": [
    {
     "data": {
      "text/plain": [
       "0         1\n",
       "1         2\n",
       "2         3\n",
       "3         4\n",
       "4         5\n",
       "       ... \n",
       "995     996\n",
       "996     997\n",
       "997     998\n",
       "998     999\n",
       "999    1000\n",
       "Name: ID, Length: 1000, dtype: int64"
      ]
     },
     "execution_count": 22,
     "metadata": {
      "tags": []
     },
     "output_type": "execute_result"
    }
   ],
   "source": [
    "X_testdata.drop('SNP_CN_2714366_C967A_V323L_eis',axis=1,inplace=True)\n",
    "X_testdata.drop('SNP_I_2713795_C329T_inter_Rv2415c_eis',axis=1,inplace=True)\n",
    "X_testdata.drop('SNP_I_2713872_C252A_inter_Rv2415c_eis',axis=1,inplace=True)\n",
    "\n",
    "generate_id = X_testdata['ID']\n",
    "X_testdata.drop('ID',axis=1,inplace=True)\n",
    "generate_id"
   ]
  },
  {
   "cell_type": "code",
   "execution_count": null,
   "metadata": {
    "colab": {
     "base_uri": "https://localhost:8080/",
     "height": 233
    },
    "id": "YM6MMEBnoFSG",
    "outputId": "1307fb86-758b-4384-98a1-b853cb278eb9"
   },
   "outputs": [
    {
     "data": {
      "text/plain": [
       "0.044709    30\n",
       "0.021909    27\n",
       "0.010402    22\n",
       "0.052074    16\n",
       "0.025275    11\n",
       "            ..\n",
       "0.086161     1\n",
       "0.010458     1\n",
       "0.073489     1\n",
       "0.997742     1\n",
       "0.068622     1\n",
       "Name: PZA, Length: 538, dtype: int64"
      ]
     },
     "execution_count": 52,
     "metadata": {
      "tags": []
     },
     "output_type": "execute_result"
    }
   ],
   "source": [
    "#Run this to produce output for ML models\n",
    "output_pred = lr.predict_proba(X_testdata)\n",
    "#print(output_pred[:5])\n",
    "out = pd.DataFrame({'PZA':output_pred[:,1]})\n",
    "out['ID'] = generate_id\n",
    "out = out[['ID','PZA']]\n",
    "#out\n",
    "for ind in out.index:\n",
    "    if out['ID'][ind] not in output_id:\n",
    "        out.drop(ind,inplace=True)\n",
    "out['PZA'].value_counts()"
   ]
  },
  {
   "cell_type": "code",
   "execution_count": null,
   "metadata": {
    "id": "jBMDel_HM3XP"
   },
   "outputs": [],
   "source": [
    "#Run this to produce output for Neural network\n",
    "output_pred = model.predict_proba(X_testdata)\n",
    "#print(output_pred[:5])\n",
    "out = pd.DataFrame({'PZA':output_pred[:,0]})\n",
    "out['ID'] = generate_id\n",
    "out = out[['ID','PZA']]\n",
    "#out\n",
    "for ind in out.index:\n",
    "    if out['ID'][ind] not in output_id:\n",
    "        out.drop(ind,inplace=True)\n",
    "out['PZA'].value_counts()"
   ]
  },
  {
   "cell_type": "code",
   "execution_count": null,
   "metadata": {
    "id": "BKWfseIGoNFd"
   },
   "outputs": [],
   "source": [
    "out.to_csv('Group_7_output.csv',index=None)"
   ]
  }
 ],
 "metadata": {
  "colab": {
   "collapsed_sections": [],
   "name": "Genomics_assignment_PZA.ipynb",
   "provenance": []
  },
  "kernelspec": {
   "display_name": "Python 3",
   "language": "python",
   "name": "python3"
  },
  "language_info": {
   "codemirror_mode": {
    "name": "ipython",
    "version": 3
   },
   "file_extension": ".py",
   "mimetype": "text/x-python",
   "name": "python",
   "nbconvert_exporter": "python",
   "pygments_lexer": "ipython3",
   "version": "3.7.3"
  }
 },
 "nbformat": 4,
 "nbformat_minor": 1
}
